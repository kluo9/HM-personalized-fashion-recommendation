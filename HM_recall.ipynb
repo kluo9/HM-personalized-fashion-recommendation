{
  "nbformat": 4,
  "nbformat_minor": 0,
  "metadata": {
    "colab": {
      "provenance": [],
      "toc_visible": true,
      "authorship_tag": "ABX9TyM2mh9ChSSLmsmT+5uSevmY",
      "include_colab_link": true
    },
    "kernelspec": {
      "name": "python3",
      "display_name": "Python 3"
    },
    "language_info": {
      "name": "python"
    }
  },
  "cells": [
    {
      "cell_type": "markdown",
      "metadata": {
        "id": "view-in-github",
        "colab_type": "text"
      },
      "source": [
        "<a href=\"https://colab.research.google.com/github/kluo9/HM-personalized-fashion-recommendation/blob/main/HM_recall.ipynb\" target=\"_parent\"><img src=\"https://colab.research.google.com/assets/colab-badge.svg\" alt=\"Open In Colab\"/></a>"
      ]
    },
    {
      "cell_type": "markdown",
      "source": [
        "The purpose of recall stage is to reduce the number of items from about 100K to a few hundreds for next stage ranking. \n",
        "The goal is to include as few items as possible that are likely to be bought by the user in next week but not excluding any potential items.\n",
        "\n",
        "The evaluation of the recall stage is \n",
        "1. Mean Average Precision @ 12\n",
        "2. Precision: the number of items that were purchased / total number of items recalled\n",
        "3. Item Recall Rate: the number of items that were purchased / total number of items user purchased\n",
        "4. User Recall Rate: the number of users who purchased the item recalled / total number of users\n",
        "\n",
        "The recall strategy:\n",
        "1. popularity (time-weighted)\n",
        "2. purchase history (up to 4 weeks)\n",
        "3. related items to what the user recently purchased (items bought together)\n",
        "4. popular items under user's attributes (age)\n",
        "5. same section_name items\n",
        "6. generate item embedding and user embedding, and find items by closest embedding to user embedding.\n"
      ],
      "metadata": {
        "id": "VNI9oUH8JvTt"
      }
    },
    {
      "cell_type": "code",
      "source": [
        "import numpy as np\n",
        "import pandas as pd\n",
        "import os\n",
        "import glob\n",
        "from tqdm import tqdm\n",
        "import datetime\n",
        "from scipy import stats\n",
        "from collections import defaultdict\n",
        "from collections import Counter"
      ],
      "metadata": {
        "id": "YLzAJSKeMrCb"
      },
      "execution_count": null,
      "outputs": []
    },
    {
      "cell_type": "markdown",
      "source": [
        "# Read data"
      ],
      "metadata": {
        "id": "8R5gmxdaNKy5"
      }
    },
    {
      "cell_type": "code",
      "source": [
        "! pip install -q kaggle\n",
        "from google.colab import files"
      ],
      "metadata": {
        "id": "DWu5q7TfNJvf"
      },
      "execution_count": null,
      "outputs": []
    },
    {
      "cell_type": "code",
      "source": [
        "uploaded = files.upload() # upload kaggle token downloaded from kaggle personal account page 'kaggle.json'"
      ],
      "metadata": {
        "colab": {
          "base_uri": "https://localhost:8080/",
          "height": 73
        },
        "id": "R2SHywaQNQPl",
        "outputId": "39e1da43-fc03-40f0-c598-23b393662333"
      },
      "execution_count": null,
      "outputs": [
        {
          "output_type": "display_data",
          "data": {
            "text/plain": [
              "<IPython.core.display.HTML object>"
            ],
            "text/html": [
              "\n",
              "     <input type=\"file\" id=\"files-fca2b0b7-0eea-4155-a8aa-dcd685ead45e\" name=\"files[]\" multiple disabled\n",
              "        style=\"border:none\" />\n",
              "     <output id=\"result-fca2b0b7-0eea-4155-a8aa-dcd685ead45e\">\n",
              "      Upload widget is only available when the cell has been executed in the\n",
              "      current browser session. Please rerun this cell to enable.\n",
              "      </output>\n",
              "      <script>// Copyright 2017 Google LLC\n",
              "//\n",
              "// Licensed under the Apache License, Version 2.0 (the \"License\");\n",
              "// you may not use this file except in compliance with the License.\n",
              "// You may obtain a copy of the License at\n",
              "//\n",
              "//      http://www.apache.org/licenses/LICENSE-2.0\n",
              "//\n",
              "// Unless required by applicable law or agreed to in writing, software\n",
              "// distributed under the License is distributed on an \"AS IS\" BASIS,\n",
              "// WITHOUT WARRANTIES OR CONDITIONS OF ANY KIND, either express or implied.\n",
              "// See the License for the specific language governing permissions and\n",
              "// limitations under the License.\n",
              "\n",
              "/**\n",
              " * @fileoverview Helpers for google.colab Python module.\n",
              " */\n",
              "(function(scope) {\n",
              "function span(text, styleAttributes = {}) {\n",
              "  const element = document.createElement('span');\n",
              "  element.textContent = text;\n",
              "  for (const key of Object.keys(styleAttributes)) {\n",
              "    element.style[key] = styleAttributes[key];\n",
              "  }\n",
              "  return element;\n",
              "}\n",
              "\n",
              "// Max number of bytes which will be uploaded at a time.\n",
              "const MAX_PAYLOAD_SIZE = 100 * 1024;\n",
              "\n",
              "function _uploadFiles(inputId, outputId) {\n",
              "  const steps = uploadFilesStep(inputId, outputId);\n",
              "  const outputElement = document.getElementById(outputId);\n",
              "  // Cache steps on the outputElement to make it available for the next call\n",
              "  // to uploadFilesContinue from Python.\n",
              "  outputElement.steps = steps;\n",
              "\n",
              "  return _uploadFilesContinue(outputId);\n",
              "}\n",
              "\n",
              "// This is roughly an async generator (not supported in the browser yet),\n",
              "// where there are multiple asynchronous steps and the Python side is going\n",
              "// to poll for completion of each step.\n",
              "// This uses a Promise to block the python side on completion of each step,\n",
              "// then passes the result of the previous step as the input to the next step.\n",
              "function _uploadFilesContinue(outputId) {\n",
              "  const outputElement = document.getElementById(outputId);\n",
              "  const steps = outputElement.steps;\n",
              "\n",
              "  const next = steps.next(outputElement.lastPromiseValue);\n",
              "  return Promise.resolve(next.value.promise).then((value) => {\n",
              "    // Cache the last promise value to make it available to the next\n",
              "    // step of the generator.\n",
              "    outputElement.lastPromiseValue = value;\n",
              "    return next.value.response;\n",
              "  });\n",
              "}\n",
              "\n",
              "/**\n",
              " * Generator function which is called between each async step of the upload\n",
              " * process.\n",
              " * @param {string} inputId Element ID of the input file picker element.\n",
              " * @param {string} outputId Element ID of the output display.\n",
              " * @return {!Iterable<!Object>} Iterable of next steps.\n",
              " */\n",
              "function* uploadFilesStep(inputId, outputId) {\n",
              "  const inputElement = document.getElementById(inputId);\n",
              "  inputElement.disabled = false;\n",
              "\n",
              "  const outputElement = document.getElementById(outputId);\n",
              "  outputElement.innerHTML = '';\n",
              "\n",
              "  const pickedPromise = new Promise((resolve) => {\n",
              "    inputElement.addEventListener('change', (e) => {\n",
              "      resolve(e.target.files);\n",
              "    });\n",
              "  });\n",
              "\n",
              "  const cancel = document.createElement('button');\n",
              "  inputElement.parentElement.appendChild(cancel);\n",
              "  cancel.textContent = 'Cancel upload';\n",
              "  const cancelPromise = new Promise((resolve) => {\n",
              "    cancel.onclick = () => {\n",
              "      resolve(null);\n",
              "    };\n",
              "  });\n",
              "\n",
              "  // Wait for the user to pick the files.\n",
              "  const files = yield {\n",
              "    promise: Promise.race([pickedPromise, cancelPromise]),\n",
              "    response: {\n",
              "      action: 'starting',\n",
              "    }\n",
              "  };\n",
              "\n",
              "  cancel.remove();\n",
              "\n",
              "  // Disable the input element since further picks are not allowed.\n",
              "  inputElement.disabled = true;\n",
              "\n",
              "  if (!files) {\n",
              "    return {\n",
              "      response: {\n",
              "        action: 'complete',\n",
              "      }\n",
              "    };\n",
              "  }\n",
              "\n",
              "  for (const file of files) {\n",
              "    const li = document.createElement('li');\n",
              "    li.append(span(file.name, {fontWeight: 'bold'}));\n",
              "    li.append(span(\n",
              "        `(${file.type || 'n/a'}) - ${file.size} bytes, ` +\n",
              "        `last modified: ${\n",
              "            file.lastModifiedDate ? file.lastModifiedDate.toLocaleDateString() :\n",
              "                                    'n/a'} - `));\n",
              "    const percent = span('0% done');\n",
              "    li.appendChild(percent);\n",
              "\n",
              "    outputElement.appendChild(li);\n",
              "\n",
              "    const fileDataPromise = new Promise((resolve) => {\n",
              "      const reader = new FileReader();\n",
              "      reader.onload = (e) => {\n",
              "        resolve(e.target.result);\n",
              "      };\n",
              "      reader.readAsArrayBuffer(file);\n",
              "    });\n",
              "    // Wait for the data to be ready.\n",
              "    let fileData = yield {\n",
              "      promise: fileDataPromise,\n",
              "      response: {\n",
              "        action: 'continue',\n",
              "      }\n",
              "    };\n",
              "\n",
              "    // Use a chunked sending to avoid message size limits. See b/62115660.\n",
              "    let position = 0;\n",
              "    do {\n",
              "      const length = Math.min(fileData.byteLength - position, MAX_PAYLOAD_SIZE);\n",
              "      const chunk = new Uint8Array(fileData, position, length);\n",
              "      position += length;\n",
              "\n",
              "      const base64 = btoa(String.fromCharCode.apply(null, chunk));\n",
              "      yield {\n",
              "        response: {\n",
              "          action: 'append',\n",
              "          file: file.name,\n",
              "          data: base64,\n",
              "        },\n",
              "      };\n",
              "\n",
              "      let percentDone = fileData.byteLength === 0 ?\n",
              "          100 :\n",
              "          Math.round((position / fileData.byteLength) * 100);\n",
              "      percent.textContent = `${percentDone}% done`;\n",
              "\n",
              "    } while (position < fileData.byteLength);\n",
              "  }\n",
              "\n",
              "  // All done.\n",
              "  yield {\n",
              "    response: {\n",
              "      action: 'complete',\n",
              "    }\n",
              "  };\n",
              "}\n",
              "\n",
              "scope.google = scope.google || {};\n",
              "scope.google.colab = scope.google.colab || {};\n",
              "scope.google.colab._files = {\n",
              "  _uploadFiles,\n",
              "  _uploadFilesContinue,\n",
              "};\n",
              "})(self);\n",
              "</script> "
            ]
          },
          "metadata": {}
        },
        {
          "output_type": "stream",
          "name": "stdout",
          "text": [
            "Saving kaggle.json to kaggle.json\n"
          ]
        }
      ]
    },
    {
      "cell_type": "code",
      "source": [
        " ! mkdir ~/.kaggle\n",
        " ! cp kaggle.json ~/.kaggle/\n",
        " ! chmod 600 ~/.kaggle/kaggle.json"
      ],
      "metadata": {
        "id": "EEYWp-JnNcxd",
        "colab": {
          "base_uri": "https://localhost:8080/"
        },
        "outputId": "04c227b6-3420-46dd-c445-1eec5cf3ca79"
      },
      "execution_count": null,
      "outputs": [
        {
          "output_type": "stream",
          "name": "stdout",
          "text": [
            "mkdir: cannot create directory ‘/root/.kaggle’: File exists\n"
          ]
        }
      ]
    },
    {
      "cell_type": "code",
      "source": [
        "! kaggle competitions download -c h-and-m-personalized-fashion-recommendations -f transactions_train.csv"
      ],
      "metadata": {
        "colab": {
          "base_uri": "https://localhost:8080/"
        },
        "id": "ZXTEAzFsNgEM",
        "outputId": "56349aea-a71c-4ab0-8602-c8e094c90358"
      },
      "execution_count": null,
      "outputs": [
        {
          "output_type": "stream",
          "name": "stdout",
          "text": [
            "Downloading transactions_train.csv.zip to /content\n",
            " 99% 576M/584M [00:05<00:00, 132MB/s]\n",
            "100% 584M/584M [00:05<00:00, 109MB/s]\n"
          ]
        }
      ]
    },
    {
      "cell_type": "code",
      "source": [
        "transaction_df = pd.read_csv('/content/transactions_train.csv.zip')\n",
        "transaction_df.head()"
      ],
      "metadata": {
        "colab": {
          "base_uri": "https://localhost:8080/",
          "height": 206
        },
        "id": "5VGsv1cXNhgq",
        "outputId": "4eb5d340-879e-40f5-c2f8-c55c8e87d2a3"
      },
      "execution_count": null,
      "outputs": [
        {
          "output_type": "execute_result",
          "data": {
            "text/plain": [
              "        t_dat                                        customer_id  article_id  \\\n",
              "0  2018-09-20  000058a12d5b43e67d225668fa1f8d618c13dc232df0ca...   663713001   \n",
              "1  2018-09-20  000058a12d5b43e67d225668fa1f8d618c13dc232df0ca...   541518023   \n",
              "2  2018-09-20  00007d2de826758b65a93dd24ce629ed66842531df6699...   505221004   \n",
              "3  2018-09-20  00007d2de826758b65a93dd24ce629ed66842531df6699...   685687003   \n",
              "4  2018-09-20  00007d2de826758b65a93dd24ce629ed66842531df6699...   685687004   \n",
              "\n",
              "      price  sales_channel_id  \n",
              "0  0.050831                 2  \n",
              "1  0.030492                 2  \n",
              "2  0.015237                 2  \n",
              "3  0.016932                 2  \n",
              "4  0.016932                 2  "
            ],
            "text/html": [
              "\n",
              "  <div id=\"df-0f097cc7-a73c-4fbf-b565-48da54e81aab\">\n",
              "    <div class=\"colab-df-container\">\n",
              "      <div>\n",
              "<style scoped>\n",
              "    .dataframe tbody tr th:only-of-type {\n",
              "        vertical-align: middle;\n",
              "    }\n",
              "\n",
              "    .dataframe tbody tr th {\n",
              "        vertical-align: top;\n",
              "    }\n",
              "\n",
              "    .dataframe thead th {\n",
              "        text-align: right;\n",
              "    }\n",
              "</style>\n",
              "<table border=\"1\" class=\"dataframe\">\n",
              "  <thead>\n",
              "    <tr style=\"text-align: right;\">\n",
              "      <th></th>\n",
              "      <th>t_dat</th>\n",
              "      <th>customer_id</th>\n",
              "      <th>article_id</th>\n",
              "      <th>price</th>\n",
              "      <th>sales_channel_id</th>\n",
              "    </tr>\n",
              "  </thead>\n",
              "  <tbody>\n",
              "    <tr>\n",
              "      <th>0</th>\n",
              "      <td>2018-09-20</td>\n",
              "      <td>000058a12d5b43e67d225668fa1f8d618c13dc232df0ca...</td>\n",
              "      <td>663713001</td>\n",
              "      <td>0.050831</td>\n",
              "      <td>2</td>\n",
              "    </tr>\n",
              "    <tr>\n",
              "      <th>1</th>\n",
              "      <td>2018-09-20</td>\n",
              "      <td>000058a12d5b43e67d225668fa1f8d618c13dc232df0ca...</td>\n",
              "      <td>541518023</td>\n",
              "      <td>0.030492</td>\n",
              "      <td>2</td>\n",
              "    </tr>\n",
              "    <tr>\n",
              "      <th>2</th>\n",
              "      <td>2018-09-20</td>\n",
              "      <td>00007d2de826758b65a93dd24ce629ed66842531df6699...</td>\n",
              "      <td>505221004</td>\n",
              "      <td>0.015237</td>\n",
              "      <td>2</td>\n",
              "    </tr>\n",
              "    <tr>\n",
              "      <th>3</th>\n",
              "      <td>2018-09-20</td>\n",
              "      <td>00007d2de826758b65a93dd24ce629ed66842531df6699...</td>\n",
              "      <td>685687003</td>\n",
              "      <td>0.016932</td>\n",
              "      <td>2</td>\n",
              "    </tr>\n",
              "    <tr>\n",
              "      <th>4</th>\n",
              "      <td>2018-09-20</td>\n",
              "      <td>00007d2de826758b65a93dd24ce629ed66842531df6699...</td>\n",
              "      <td>685687004</td>\n",
              "      <td>0.016932</td>\n",
              "      <td>2</td>\n",
              "    </tr>\n",
              "  </tbody>\n",
              "</table>\n",
              "</div>\n",
              "      <button class=\"colab-df-convert\" onclick=\"convertToInteractive('df-0f097cc7-a73c-4fbf-b565-48da54e81aab')\"\n",
              "              title=\"Convert this dataframe to an interactive table.\"\n",
              "              style=\"display:none;\">\n",
              "        \n",
              "  <svg xmlns=\"http://www.w3.org/2000/svg\" height=\"24px\"viewBox=\"0 0 24 24\"\n",
              "       width=\"24px\">\n",
              "    <path d=\"M0 0h24v24H0V0z\" fill=\"none\"/>\n",
              "    <path d=\"M18.56 5.44l.94 2.06.94-2.06 2.06-.94-2.06-.94-.94-2.06-.94 2.06-2.06.94zm-11 1L8.5 8.5l.94-2.06 2.06-.94-2.06-.94L8.5 2.5l-.94 2.06-2.06.94zm10 10l.94 2.06.94-2.06 2.06-.94-2.06-.94-.94-2.06-.94 2.06-2.06.94z\"/><path d=\"M17.41 7.96l-1.37-1.37c-.4-.4-.92-.59-1.43-.59-.52 0-1.04.2-1.43.59L10.3 9.45l-7.72 7.72c-.78.78-.78 2.05 0 2.83L4 21.41c.39.39.9.59 1.41.59.51 0 1.02-.2 1.41-.59l7.78-7.78 2.81-2.81c.8-.78.8-2.07 0-2.86zM5.41 20L4 18.59l7.72-7.72 1.47 1.35L5.41 20z\"/>\n",
              "  </svg>\n",
              "      </button>\n",
              "      \n",
              "  <style>\n",
              "    .colab-df-container {\n",
              "      display:flex;\n",
              "      flex-wrap:wrap;\n",
              "      gap: 12px;\n",
              "    }\n",
              "\n",
              "    .colab-df-convert {\n",
              "      background-color: #E8F0FE;\n",
              "      border: none;\n",
              "      border-radius: 50%;\n",
              "      cursor: pointer;\n",
              "      display: none;\n",
              "      fill: #1967D2;\n",
              "      height: 32px;\n",
              "      padding: 0 0 0 0;\n",
              "      width: 32px;\n",
              "    }\n",
              "\n",
              "    .colab-df-convert:hover {\n",
              "      background-color: #E2EBFA;\n",
              "      box-shadow: 0px 1px 2px rgba(60, 64, 67, 0.3), 0px 1px 3px 1px rgba(60, 64, 67, 0.15);\n",
              "      fill: #174EA6;\n",
              "    }\n",
              "\n",
              "    [theme=dark] .colab-df-convert {\n",
              "      background-color: #3B4455;\n",
              "      fill: #D2E3FC;\n",
              "    }\n",
              "\n",
              "    [theme=dark] .colab-df-convert:hover {\n",
              "      background-color: #434B5C;\n",
              "      box-shadow: 0px 1px 3px 1px rgba(0, 0, 0, 0.15);\n",
              "      filter: drop-shadow(0px 1px 2px rgba(0, 0, 0, 0.3));\n",
              "      fill: #FFFFFF;\n",
              "    }\n",
              "  </style>\n",
              "\n",
              "      <script>\n",
              "        const buttonEl =\n",
              "          document.querySelector('#df-0f097cc7-a73c-4fbf-b565-48da54e81aab button.colab-df-convert');\n",
              "        buttonEl.style.display =\n",
              "          google.colab.kernel.accessAllowed ? 'block' : 'none';\n",
              "\n",
              "        async function convertToInteractive(key) {\n",
              "          const element = document.querySelector('#df-0f097cc7-a73c-4fbf-b565-48da54e81aab');\n",
              "          const dataTable =\n",
              "            await google.colab.kernel.invokeFunction('convertToInteractive',\n",
              "                                                     [key], {});\n",
              "          if (!dataTable) return;\n",
              "\n",
              "          const docLinkHtml = 'Like what you see? Visit the ' +\n",
              "            '<a target=\"_blank\" href=https://colab.research.google.com/notebooks/data_table.ipynb>data table notebook</a>'\n",
              "            + ' to learn more about interactive tables.';\n",
              "          element.innerHTML = '';\n",
              "          dataTable['output_type'] = 'display_data';\n",
              "          await google.colab.output.renderOutput(dataTable, element);\n",
              "          const docLink = document.createElement('div');\n",
              "          docLink.innerHTML = docLinkHtml;\n",
              "          element.appendChild(docLink);\n",
              "        }\n",
              "      </script>\n",
              "    </div>\n",
              "  </div>\n",
              "  "
            ]
          },
          "metadata": {},
          "execution_count": 12
        }
      ]
    },
    {
      "cell_type": "markdown",
      "source": [
        "Keep 4 weeks as train and the last week as validation."
      ],
      "metadata": {
        "id": "n5kOdBIs1N3x"
      }
    },
    {
      "cell_type": "code",
      "source": [
        "print(\"All Transactions Date Range: {} to {}\".format(transaction_df['t_dat'].min(), transaction_df['t_dat'].max()))\n",
        "\n",
        "transaction_df[\"t_dat\"] = pd.to_datetime(transaction_df[\"t_dat\"])\n",
        "train1 = transaction_df.loc[(transaction_df[\"t_dat\"] >= datetime.datetime(2020,9,8)) & (transaction_df['t_dat'] < datetime.datetime(2020,9,16))]\n",
        "train2 = transaction_df.loc[(transaction_df[\"t_dat\"] >= datetime.datetime(2020,9,1)) & (transaction_df['t_dat'] < datetime.datetime(2020,9,8))]\n",
        "train3 = transaction_df.loc[(transaction_df[\"t_dat\"] >= datetime.datetime(2020,8,23)) & (transaction_df['t_dat'] < datetime.datetime(2020,9,1))]\n",
        "train4 = transaction_df.loc[(transaction_df[\"t_dat\"] >= datetime.datetime(2020,8,15)) & (transaction_df['t_dat'] < datetime.datetime(2020,8,23))]\n",
        "\n",
        "val = transaction_df.loc[transaction_df[\"t_dat\"] >= datetime.datetime(2020,9,16)]"
      ],
      "metadata": {
        "colab": {
          "base_uri": "https://localhost:8080/"
        },
        "id": "TRudenEVQaHO",
        "outputId": "6001a789-1563-4412-ecb6-2f15ef94a80c"
      },
      "execution_count": null,
      "outputs": [
        {
          "output_type": "stream",
          "name": "stdout",
          "text": [
            "All Transactions Date Range: 2018-09-20 to 2020-09-22\n"
          ]
        }
      ]
    },
    {
      "cell_type": "code",
      "source": [
        "del transaction_df"
      ],
      "metadata": {
        "id": "SExM3ocYjfz_"
      },
      "execution_count": null,
      "outputs": []
    },
    {
      "cell_type": "code",
      "source": [
        "# List of all purchases per user (has repetitions)\n",
        "positive_items_per_user1 = train1.groupby(['customer_id'])['article_id'].apply(list)\n",
        "positive_items_per_user2 = train2.groupby(['customer_id'])['article_id'].apply(list)\n",
        "positive_items_per_user3 = train3.groupby(['customer_id'])['article_id'].apply(list)\n",
        "positive_items_per_user4 = train4.groupby(['customer_id'])['article_id'].apply(list)"
      ],
      "metadata": {
        "id": "1sX4q9321Tub"
      },
      "execution_count": null,
      "outputs": []
    },
    {
      "cell_type": "code",
      "source": [
        "train = pd.concat([train1, train2, train3, train4], axis=0)"
      ],
      "metadata": {
        "id": "sH95XYk3wI8D"
      },
      "execution_count": null,
      "outputs": []
    },
    {
      "cell_type": "markdown",
      "source": [
        "# popularity (time-weighted)"
      ],
      "metadata": {
        "id": "zT-t3Lrv3UNX"
      }
    },
    {
      "cell_type": "markdown",
      "source": [
        "Next we do time decay based popularity for items. This leads to items bought more recently having more weight in the popularity list. In simple words, item A bought 5 times on the first day of the train period is inferior than item B bought 4 times on the last day of the train period."
      ],
      "metadata": {
        "id": "fE4XAmtA3V9z"
      }
    },
    {
      "cell_type": "code",
      "source": [
        "train['pop_factor'] = train['t_dat'].apply(lambda x: 1/(datetime.datetime(2020,9,16) - x).days)\n",
        "train['pop_factor'].describe()"
      ],
      "metadata": {
        "id": "lS4VvJSBtUVQ",
        "colab": {
          "base_uri": "https://localhost:8080/"
        },
        "outputId": "76b7058f-6f2d-4c11-b6ef-d020b7ce398a"
      },
      "execution_count": null,
      "outputs": [
        {
          "output_type": "execute_result",
          "data": {
            "text/plain": [
              "count    1.179208e+06\n",
              "mean     1.182349e-01\n",
              "std      1.629160e-01\n",
              "min      3.125000e-02\n",
              "25%      4.166667e-02\n",
              "50%      6.250000e-02\n",
              "75%      1.111111e-01\n",
              "max      1.000000e+00\n",
              "Name: pop_factor, dtype: float64"
            ]
          },
          "metadata": {},
          "execution_count": 11
        }
      ]
    },
    {
      "cell_type": "code",
      "source": [
        "popular_items_group = train.groupby(['article_id'])['pop_factor'].sum()\n",
        "\n",
        "_, popular_items = zip(*sorted(zip(popular_items_group, popular_items_group.keys()))[::-1])\n",
        "popular_items = list(popular_items)"
      ],
      "metadata": {
        "id": "Yih3a_bb1swo"
      },
      "execution_count": null,
      "outputs": []
    },
    {
      "cell_type": "markdown",
      "source": [
        "# purchase history (up to 4 weeks)"
      ],
      "metadata": {
        "id": "jmvKnC33neqL"
      }
    },
    {
      "cell_type": "markdown",
      "source": [
        "Find items that bought by each user in the past month"
      ],
      "metadata": {
        "id": "b3UKVbTsnpEm"
      }
    },
    {
      "cell_type": "code",
      "source": [
        "# List of all purchases per user \n",
        "items_per_user = train.groupby(['customer_id'])['article_id'].apply(list) "
      ],
      "metadata": {
        "id": "Z0eCieANsBZa"
      },
      "execution_count": null,
      "outputs": []
    },
    {
      "cell_type": "code",
      "source": [
        "def purchase_history(user, purchase_data_group):\n",
        "  most_common_items_of_user = list({k:v for k, v in Counter(items_per_user[user]).most_common()}.keys())\n",
        "  return most_common_items_of_user"
      ],
      "metadata": {
        "id": "zcLTdjbKn0bD"
      },
      "execution_count": null,
      "outputs": []
    },
    {
      "cell_type": "code",
      "source": [
        "purchase_history(items_per_user.keys()[2], items_per_user)"
      ],
      "metadata": {
        "colab": {
          "base_uri": "https://localhost:8080/"
        },
        "id": "34Zon0Jd3hzb",
        "outputId": "ee67275d-3cfd-4c10-dfd9-c4b30845862d"
      },
      "execution_count": null,
      "outputs": [
        {
          "output_type": "execute_result",
          "data": {
            "text/plain": [
              "['719530003', '448509014']"
            ]
          },
          "metadata": {},
          "execution_count": 50
        }
      ]
    },
    {
      "cell_type": "markdown",
      "source": [
        "# relative items to what the user recently purchased (items bought together)"
      ],
      "metadata": {
        "id": "98cb7gDhnCym"
      }
    },
    {
      "cell_type": "markdown",
      "source": [
        "Use the mlxtend library"
      ],
      "metadata": {
        "id": "eg-e46Ura8Z4"
      }
    },
    {
      "cell_type": "code",
      "source": [
        "! pip install -q mlxtend"
      ],
      "metadata": {
        "id": "ulQH6DOcalSE"
      },
      "execution_count": null,
      "outputs": []
    },
    {
      "cell_type": "markdown",
      "source": [
        "create dataset with items purchased together in each transaction"
      ],
      "metadata": {
        "id": "eNHf04IVVXmq"
      }
    },
    {
      "cell_type": "code",
      "source": [
        "items_per_user_transaction = train.groupby(['customer_id','t_dat'],group_keys=False)['article_id'].apply(list) "
      ],
      "metadata": {
        "id": "L1I1l1MBnYY6"
      },
      "execution_count": null,
      "outputs": []
    },
    {
      "cell_type": "markdown",
      "source": [
        "only keep list with len>1"
      ],
      "metadata": {
        "id": "uopiUY6NtiKd"
      }
    },
    {
      "cell_type": "code",
      "source": [
        "items_per_user_transaction_more = []\n",
        "for l in items_per_user_transaction:\n",
        "  if len(l) > 1:\n",
        "    items_per_user_transaction_more.append(l)"
      ],
      "metadata": {
        "id": "-GK5t-J3trbk"
      },
      "execution_count": null,
      "outputs": []
    },
    {
      "cell_type": "code",
      "source": [
        "del items_per_user_transaction"
      ],
      "metadata": {
        "id": "u0UR2qD6uLFv"
      },
      "execution_count": null,
      "outputs": []
    },
    {
      "cell_type": "code",
      "source": [
        "# one-hot encoding\n",
        "from mlxtend.preprocessing import TransactionEncoder\n",
        "from mlxtend.frequent_patterns import apriori\n",
        "\n",
        "# fit the TransactionEncoder\n",
        "te = TransactionEncoder()\n",
        "items_per_user_transaction_1hot = te.fit(items_per_user_transaction_more).transform(items_per_user_transaction_more)\n",
        "del items_per_user_transaction_more\n",
        "items_per_user_transaction_1hot = pd.DataFrame(items_per_user_transaction_1hot, columns=te.columns_)\n"
      ],
      "metadata": {
        "id": "hsHmUuwzsXvQ"
      },
      "execution_count": null,
      "outputs": []
    },
    {
      "cell_type": "markdown",
      "source": [
        "run the Apriori model"
      ],
      "metadata": {
        "id": "8YoM5kBiVGhH"
      }
    },
    {
      "cell_type": "code",
      "source": [
        "ar_ap = apriori(items_per_user_transaction_1hot, min_support=0.01, max_len=5,\n",
        "                use_colnames=True)"
      ],
      "metadata": {
        "id": "tRri8Py2uadf"
      },
      "execution_count": null,
      "outputs": []
    },
    {
      "cell_type": "code",
      "source": [
        "from google.colab import drive\n",
        "drive.mount('/content/gdrive')\n",
        "ar_ap = pd.read_csv('/content/gdrive/MyDrive/ar_ap.csv')\n",
        "ar_ap"
      ],
      "metadata": {
        "colab": {
          "base_uri": "https://localhost:8080/",
          "height": 441
        },
        "id": "IO22QG6TVjJy",
        "outputId": "7afa80af-19eb-488f-d506-b0a0a0d510b3"
      },
      "execution_count": null,
      "outputs": [
        {
          "output_type": "stream",
          "name": "stdout",
          "text": [
            "Mounted at /content/gdrive\n"
          ]
        },
        {
          "output_type": "execute_result",
          "data": {
            "text/plain": [
              "      support                           itemsets\n",
              "0    0.001547             frozenset({156231001})\n",
              "1    0.002260             frozenset({158340001})\n",
              "2    0.002354             frozenset({160442007})\n",
              "3    0.001966             frozenset({160442010})\n",
              "4    0.001101             frozenset({253448003})\n",
              "..        ...                                ...\n",
              "699  0.001344  frozenset({909911001, 909912001})\n",
              "700  0.001532  frozenset({944506001, 909924002})\n",
              "701  0.001218  frozenset({915526001, 915526002})\n",
              "702  0.001191  frozenset({915529001, 915529003})\n",
              "703  0.001532  frozenset({935892001, 936622001})\n",
              "\n",
              "[704 rows x 2 columns]"
            ],
            "text/html": [
              "\n",
              "  <div id=\"df-842f0fa7-415a-4368-8628-3ad645e7950c\">\n",
              "    <div class=\"colab-df-container\">\n",
              "      <div>\n",
              "<style scoped>\n",
              "    .dataframe tbody tr th:only-of-type {\n",
              "        vertical-align: middle;\n",
              "    }\n",
              "\n",
              "    .dataframe tbody tr th {\n",
              "        vertical-align: top;\n",
              "    }\n",
              "\n",
              "    .dataframe thead th {\n",
              "        text-align: right;\n",
              "    }\n",
              "</style>\n",
              "<table border=\"1\" class=\"dataframe\">\n",
              "  <thead>\n",
              "    <tr style=\"text-align: right;\">\n",
              "      <th></th>\n",
              "      <th>support</th>\n",
              "      <th>itemsets</th>\n",
              "    </tr>\n",
              "  </thead>\n",
              "  <tbody>\n",
              "    <tr>\n",
              "      <th>0</th>\n",
              "      <td>0.001547</td>\n",
              "      <td>frozenset({156231001})</td>\n",
              "    </tr>\n",
              "    <tr>\n",
              "      <th>1</th>\n",
              "      <td>0.002260</td>\n",
              "      <td>frozenset({158340001})</td>\n",
              "    </tr>\n",
              "    <tr>\n",
              "      <th>2</th>\n",
              "      <td>0.002354</td>\n",
              "      <td>frozenset({160442007})</td>\n",
              "    </tr>\n",
              "    <tr>\n",
              "      <th>3</th>\n",
              "      <td>0.001966</td>\n",
              "      <td>frozenset({160442010})</td>\n",
              "    </tr>\n",
              "    <tr>\n",
              "      <th>4</th>\n",
              "      <td>0.001101</td>\n",
              "      <td>frozenset({253448003})</td>\n",
              "    </tr>\n",
              "    <tr>\n",
              "      <th>...</th>\n",
              "      <td>...</td>\n",
              "      <td>...</td>\n",
              "    </tr>\n",
              "    <tr>\n",
              "      <th>699</th>\n",
              "      <td>0.001344</td>\n",
              "      <td>frozenset({909911001, 909912001})</td>\n",
              "    </tr>\n",
              "    <tr>\n",
              "      <th>700</th>\n",
              "      <td>0.001532</td>\n",
              "      <td>frozenset({944506001, 909924002})</td>\n",
              "    </tr>\n",
              "    <tr>\n",
              "      <th>701</th>\n",
              "      <td>0.001218</td>\n",
              "      <td>frozenset({915526001, 915526002})</td>\n",
              "    </tr>\n",
              "    <tr>\n",
              "      <th>702</th>\n",
              "      <td>0.001191</td>\n",
              "      <td>frozenset({915529001, 915529003})</td>\n",
              "    </tr>\n",
              "    <tr>\n",
              "      <th>703</th>\n",
              "      <td>0.001532</td>\n",
              "      <td>frozenset({935892001, 936622001})</td>\n",
              "    </tr>\n",
              "  </tbody>\n",
              "</table>\n",
              "<p>704 rows × 2 columns</p>\n",
              "</div>\n",
              "      <button class=\"colab-df-convert\" onclick=\"convertToInteractive('df-842f0fa7-415a-4368-8628-3ad645e7950c')\"\n",
              "              title=\"Convert this dataframe to an interactive table.\"\n",
              "              style=\"display:none;\">\n",
              "        \n",
              "  <svg xmlns=\"http://www.w3.org/2000/svg\" height=\"24px\"viewBox=\"0 0 24 24\"\n",
              "       width=\"24px\">\n",
              "    <path d=\"M0 0h24v24H0V0z\" fill=\"none\"/>\n",
              "    <path d=\"M18.56 5.44l.94 2.06.94-2.06 2.06-.94-2.06-.94-.94-2.06-.94 2.06-2.06.94zm-11 1L8.5 8.5l.94-2.06 2.06-.94-2.06-.94L8.5 2.5l-.94 2.06-2.06.94zm10 10l.94 2.06.94-2.06 2.06-.94-2.06-.94-.94-2.06-.94 2.06-2.06.94z\"/><path d=\"M17.41 7.96l-1.37-1.37c-.4-.4-.92-.59-1.43-.59-.52 0-1.04.2-1.43.59L10.3 9.45l-7.72 7.72c-.78.78-.78 2.05 0 2.83L4 21.41c.39.39.9.59 1.41.59.51 0 1.02-.2 1.41-.59l7.78-7.78 2.81-2.81c.8-.78.8-2.07 0-2.86zM5.41 20L4 18.59l7.72-7.72 1.47 1.35L5.41 20z\"/>\n",
              "  </svg>\n",
              "      </button>\n",
              "      \n",
              "  <style>\n",
              "    .colab-df-container {\n",
              "      display:flex;\n",
              "      flex-wrap:wrap;\n",
              "      gap: 12px;\n",
              "    }\n",
              "\n",
              "    .colab-df-convert {\n",
              "      background-color: #E8F0FE;\n",
              "      border: none;\n",
              "      border-radius: 50%;\n",
              "      cursor: pointer;\n",
              "      display: none;\n",
              "      fill: #1967D2;\n",
              "      height: 32px;\n",
              "      padding: 0 0 0 0;\n",
              "      width: 32px;\n",
              "    }\n",
              "\n",
              "    .colab-df-convert:hover {\n",
              "      background-color: #E2EBFA;\n",
              "      box-shadow: 0px 1px 2px rgba(60, 64, 67, 0.3), 0px 1px 3px 1px rgba(60, 64, 67, 0.15);\n",
              "      fill: #174EA6;\n",
              "    }\n",
              "\n",
              "    [theme=dark] .colab-df-convert {\n",
              "      background-color: #3B4455;\n",
              "      fill: #D2E3FC;\n",
              "    }\n",
              "\n",
              "    [theme=dark] .colab-df-convert:hover {\n",
              "      background-color: #434B5C;\n",
              "      box-shadow: 0px 1px 3px 1px rgba(0, 0, 0, 0.15);\n",
              "      filter: drop-shadow(0px 1px 2px rgba(0, 0, 0, 0.3));\n",
              "      fill: #FFFFFF;\n",
              "    }\n",
              "  </style>\n",
              "\n",
              "      <script>\n",
              "        const buttonEl =\n",
              "          document.querySelector('#df-842f0fa7-415a-4368-8628-3ad645e7950c button.colab-df-convert');\n",
              "        buttonEl.style.display =\n",
              "          google.colab.kernel.accessAllowed ? 'block' : 'none';\n",
              "\n",
              "        async function convertToInteractive(key) {\n",
              "          const element = document.querySelector('#df-842f0fa7-415a-4368-8628-3ad645e7950c');\n",
              "          const dataTable =\n",
              "            await google.colab.kernel.invokeFunction('convertToInteractive',\n",
              "                                                     [key], {});\n",
              "          if (!dataTable) return;\n",
              "\n",
              "          const docLinkHtml = 'Like what you see? Visit the ' +\n",
              "            '<a target=\"_blank\" href=https://colab.research.google.com/notebooks/data_table.ipynb>data table notebook</a>'\n",
              "            + ' to learn more about interactive tables.';\n",
              "          element.innerHTML = '';\n",
              "          dataTable['output_type'] = 'display_data';\n",
              "          await google.colab.output.renderOutput(dataTable, element);\n",
              "          const docLink = document.createElement('div');\n",
              "          docLink.innerHTML = docLinkHtml;\n",
              "          element.appendChild(docLink);\n",
              "        }\n",
              "      </script>\n",
              "    </div>\n",
              "  </div>\n",
              "  "
            ]
          },
          "metadata": {},
          "execution_count": 15
        }
      ]
    },
    {
      "cell_type": "markdown",
      "source": [
        "filter the results"
      ],
      "metadata": {
        "id": "yhbFr0ZEXjea"
      }
    },
    {
      "cell_type": "code",
      "source": [
        "ar_ap1 = ar_ap.copy()\n",
        "itemsets = ar_ap1['itemsets']\n",
        "itemsets_new = []\n",
        "for i in itemsets:\n",
        "  itemsets_new.append(i[11:-2].split(','))\n",
        "ar_ap1['itemsets'] = itemsets_new"
      ],
      "metadata": {
        "id": "HfkgvHGsVkM1"
      },
      "execution_count": null,
      "outputs": []
    },
    {
      "cell_type": "code",
      "source": [
        "ar_ap1['length'] = ar_ap1['itemsets'].apply(lambda x: len(x))\n",
        "ar_ap1 = ar_ap1[ ar_ap1['length'] == 2]\n",
        "print(ar_ap1.shape[0])\n",
        "ar_ap1"
      ],
      "metadata": {
        "colab": {
          "base_uri": "https://localhost:8080/",
          "height": 412
        },
        "id": "xh9szhIcYxZ4",
        "outputId": "a1dc1d5e-5bfc-4ba4-c2cc-f385f8e0d4a1"
      },
      "execution_count": null,
      "outputs": [
        {
          "output_type": "stream",
          "name": "stdout",
          "text": [
            "11\n"
          ]
        },
        {
          "output_type": "execute_result",
          "data": {
            "text/plain": [
              "      support                 itemsets  length\n",
              "693  0.001383  [706016001,  706016003]       2\n",
              "694  0.001430  [918292001,  856270002]       2\n",
              "695  0.001708  [918292004,  868823007]       2\n",
              "696  0.001238  [868823008,  918292001]       2\n",
              "697  0.001101  [918835001,  896169002]       2\n",
              "698  0.001767  [918836001,  896169002]       2\n",
              "699  0.001344  [909911001,  909912001]       2\n",
              "700  0.001532  [944506001,  909924002]       2\n",
              "701  0.001218  [915526001,  915526002]       2\n",
              "702  0.001191  [915529001,  915529003]       2\n",
              "703  0.001532  [935892001,  936622001]       2"
            ],
            "text/html": [
              "\n",
              "  <div id=\"df-5d9f87a6-8000-449f-8e78-f9a5f7e5cdba\">\n",
              "    <div class=\"colab-df-container\">\n",
              "      <div>\n",
              "<style scoped>\n",
              "    .dataframe tbody tr th:only-of-type {\n",
              "        vertical-align: middle;\n",
              "    }\n",
              "\n",
              "    .dataframe tbody tr th {\n",
              "        vertical-align: top;\n",
              "    }\n",
              "\n",
              "    .dataframe thead th {\n",
              "        text-align: right;\n",
              "    }\n",
              "</style>\n",
              "<table border=\"1\" class=\"dataframe\">\n",
              "  <thead>\n",
              "    <tr style=\"text-align: right;\">\n",
              "      <th></th>\n",
              "      <th>support</th>\n",
              "      <th>itemsets</th>\n",
              "      <th>length</th>\n",
              "    </tr>\n",
              "  </thead>\n",
              "  <tbody>\n",
              "    <tr>\n",
              "      <th>693</th>\n",
              "      <td>0.001383</td>\n",
              "      <td>[706016001,  706016003]</td>\n",
              "      <td>2</td>\n",
              "    </tr>\n",
              "    <tr>\n",
              "      <th>694</th>\n",
              "      <td>0.001430</td>\n",
              "      <td>[918292001,  856270002]</td>\n",
              "      <td>2</td>\n",
              "    </tr>\n",
              "    <tr>\n",
              "      <th>695</th>\n",
              "      <td>0.001708</td>\n",
              "      <td>[918292004,  868823007]</td>\n",
              "      <td>2</td>\n",
              "    </tr>\n",
              "    <tr>\n",
              "      <th>696</th>\n",
              "      <td>0.001238</td>\n",
              "      <td>[868823008,  918292001]</td>\n",
              "      <td>2</td>\n",
              "    </tr>\n",
              "    <tr>\n",
              "      <th>697</th>\n",
              "      <td>0.001101</td>\n",
              "      <td>[918835001,  896169002]</td>\n",
              "      <td>2</td>\n",
              "    </tr>\n",
              "    <tr>\n",
              "      <th>698</th>\n",
              "      <td>0.001767</td>\n",
              "      <td>[918836001,  896169002]</td>\n",
              "      <td>2</td>\n",
              "    </tr>\n",
              "    <tr>\n",
              "      <th>699</th>\n",
              "      <td>0.001344</td>\n",
              "      <td>[909911001,  909912001]</td>\n",
              "      <td>2</td>\n",
              "    </tr>\n",
              "    <tr>\n",
              "      <th>700</th>\n",
              "      <td>0.001532</td>\n",
              "      <td>[944506001,  909924002]</td>\n",
              "      <td>2</td>\n",
              "    </tr>\n",
              "    <tr>\n",
              "      <th>701</th>\n",
              "      <td>0.001218</td>\n",
              "      <td>[915526001,  915526002]</td>\n",
              "      <td>2</td>\n",
              "    </tr>\n",
              "    <tr>\n",
              "      <th>702</th>\n",
              "      <td>0.001191</td>\n",
              "      <td>[915529001,  915529003]</td>\n",
              "      <td>2</td>\n",
              "    </tr>\n",
              "    <tr>\n",
              "      <th>703</th>\n",
              "      <td>0.001532</td>\n",
              "      <td>[935892001,  936622001]</td>\n",
              "      <td>2</td>\n",
              "    </tr>\n",
              "  </tbody>\n",
              "</table>\n",
              "</div>\n",
              "      <button class=\"colab-df-convert\" onclick=\"convertToInteractive('df-5d9f87a6-8000-449f-8e78-f9a5f7e5cdba')\"\n",
              "              title=\"Convert this dataframe to an interactive table.\"\n",
              "              style=\"display:none;\">\n",
              "        \n",
              "  <svg xmlns=\"http://www.w3.org/2000/svg\" height=\"24px\"viewBox=\"0 0 24 24\"\n",
              "       width=\"24px\">\n",
              "    <path d=\"M0 0h24v24H0V0z\" fill=\"none\"/>\n",
              "    <path d=\"M18.56 5.44l.94 2.06.94-2.06 2.06-.94-2.06-.94-.94-2.06-.94 2.06-2.06.94zm-11 1L8.5 8.5l.94-2.06 2.06-.94-2.06-.94L8.5 2.5l-.94 2.06-2.06.94zm10 10l.94 2.06.94-2.06 2.06-.94-2.06-.94-.94-2.06-.94 2.06-2.06.94z\"/><path d=\"M17.41 7.96l-1.37-1.37c-.4-.4-.92-.59-1.43-.59-.52 0-1.04.2-1.43.59L10.3 9.45l-7.72 7.72c-.78.78-.78 2.05 0 2.83L4 21.41c.39.39.9.59 1.41.59.51 0 1.02-.2 1.41-.59l7.78-7.78 2.81-2.81c.8-.78.8-2.07 0-2.86zM5.41 20L4 18.59l7.72-7.72 1.47 1.35L5.41 20z\"/>\n",
              "  </svg>\n",
              "      </button>\n",
              "      \n",
              "  <style>\n",
              "    .colab-df-container {\n",
              "      display:flex;\n",
              "      flex-wrap:wrap;\n",
              "      gap: 12px;\n",
              "    }\n",
              "\n",
              "    .colab-df-convert {\n",
              "      background-color: #E8F0FE;\n",
              "      border: none;\n",
              "      border-radius: 50%;\n",
              "      cursor: pointer;\n",
              "      display: none;\n",
              "      fill: #1967D2;\n",
              "      height: 32px;\n",
              "      padding: 0 0 0 0;\n",
              "      width: 32px;\n",
              "    }\n",
              "\n",
              "    .colab-df-convert:hover {\n",
              "      background-color: #E2EBFA;\n",
              "      box-shadow: 0px 1px 2px rgba(60, 64, 67, 0.3), 0px 1px 3px 1px rgba(60, 64, 67, 0.15);\n",
              "      fill: #174EA6;\n",
              "    }\n",
              "\n",
              "    [theme=dark] .colab-df-convert {\n",
              "      background-color: #3B4455;\n",
              "      fill: #D2E3FC;\n",
              "    }\n",
              "\n",
              "    [theme=dark] .colab-df-convert:hover {\n",
              "      background-color: #434B5C;\n",
              "      box-shadow: 0px 1px 3px 1px rgba(0, 0, 0, 0.15);\n",
              "      filter: drop-shadow(0px 1px 2px rgba(0, 0, 0, 0.3));\n",
              "      fill: #FFFFFF;\n",
              "    }\n",
              "  </style>\n",
              "\n",
              "      <script>\n",
              "        const buttonEl =\n",
              "          document.querySelector('#df-5d9f87a6-8000-449f-8e78-f9a5f7e5cdba button.colab-df-convert');\n",
              "        buttonEl.style.display =\n",
              "          google.colab.kernel.accessAllowed ? 'block' : 'none';\n",
              "\n",
              "        async function convertToInteractive(key) {\n",
              "          const element = document.querySelector('#df-5d9f87a6-8000-449f-8e78-f9a5f7e5cdba');\n",
              "          const dataTable =\n",
              "            await google.colab.kernel.invokeFunction('convertToInteractive',\n",
              "                                                     [key], {});\n",
              "          if (!dataTable) return;\n",
              "\n",
              "          const docLinkHtml = 'Like what you see? Visit the ' +\n",
              "            '<a target=\"_blank\" href=https://colab.research.google.com/notebooks/data_table.ipynb>data table notebook</a>'\n",
              "            + ' to learn more about interactive tables.';\n",
              "          element.innerHTML = '';\n",
              "          dataTable['output_type'] = 'display_data';\n",
              "          await google.colab.output.renderOutput(dataTable, element);\n",
              "          const docLink = document.createElement('div');\n",
              "          docLink.innerHTML = docLinkHtml;\n",
              "          element.appendChild(docLink);\n",
              "        }\n",
              "      </script>\n",
              "    </div>\n",
              "  </div>\n",
              "  "
            ]
          },
          "metadata": {},
          "execution_count": 17
        }
      ]
    },
    {
      "cell_type": "markdown",
      "source": [
        "Write a function to find items bought together given the target item"
      ],
      "metadata": {
        "id": "GY5Wc0H6j4iC"
      }
    },
    {
      "cell_type": "code",
      "source": [
        "ref_map = defaultdict(list)\n",
        "for _, row in ar_ap1.iterrows():\n",
        "  item1 = row[1][0].strip()\n",
        "  item2 = row[1][1].strip()\n",
        "  ref_map[item1].append(item2)\n",
        "  ref_map[item2].append(item1)\n",
        "\n",
        "def bought_together(item, ref):\n",
        "  if item in ref:\n",
        "    return ref[item]"
      ],
      "metadata": {
        "id": "pBTqf7IDj36J"
      },
      "execution_count": null,
      "outputs": []
    },
    {
      "cell_type": "code",
      "source": [
        "bought_together('936622001', ref_map)"
      ],
      "metadata": {
        "colab": {
          "base_uri": "https://localhost:8080/"
        },
        "id": "BkuN3Y-gliQX",
        "outputId": "5aa2686f-2db8-4151-900f-8957c91649cf"
      },
      "execution_count": null,
      "outputs": [
        {
          "output_type": "execute_result",
          "data": {
            "text/plain": [
              "['935892001']"
            ]
          },
          "metadata": {},
          "execution_count": 21
        }
      ]
    },
    {
      "cell_type": "markdown",
      "source": [
        "# popular items under user's attributes"
      ],
      "metadata": {
        "id": "Je0nEoUuvN-w"
      }
    },
    {
      "cell_type": "markdown",
      "source": [
        "This part requires combination with user demographic information "
      ],
      "metadata": {
        "id": "bF5lSzd7v0eR"
      }
    },
    {
      "cell_type": "code",
      "source": [
        "! kaggle competitions download -c h-and-m-personalized-fashion-recommendations -f customers.csv"
      ],
      "metadata": {
        "colab": {
          "base_uri": "https://localhost:8080/"
        },
        "id": "_5c9V4h-zaO5",
        "outputId": "9a7376fe-a59e-4473-ef13-da2d39e1add2"
      },
      "execution_count": null,
      "outputs": [
        {
          "output_type": "stream",
          "name": "stdout",
          "text": [
            "Downloading customers.csv.zip to /content\n",
            " 91% 89.0M/97.9M [00:00<00:00, 148MB/s]\n",
            "100% 97.9M/97.9M [00:00<00:00, 149MB/s]\n"
          ]
        }
      ]
    },
    {
      "cell_type": "code",
      "source": [
        "customers_df = pd.read_csv('/content/customers.csv.zip')\n",
        "customers_df.head()"
      ],
      "metadata": {
        "colab": {
          "base_uri": "https://localhost:8080/",
          "height": 206
        },
        "id": "TeTADb9qznhP",
        "outputId": "3c94ea2a-4cb4-4b8a-dc29-1f92c9431f4e"
      },
      "execution_count": null,
      "outputs": [
        {
          "output_type": "execute_result",
          "data": {
            "text/plain": [
              "                                         customer_id   FN  Active  \\\n",
              "0  00000dbacae5abe5e23885899a1fa44253a17956c6d1c3...  NaN     NaN   \n",
              "1  0000423b00ade91418cceaf3b26c6af3dd342b51fd051e...  NaN     NaN   \n",
              "2  000058a12d5b43e67d225668fa1f8d618c13dc232df0ca...  NaN     NaN   \n",
              "3  00005ca1c9ed5f5146b52ac8639a40ca9d57aeff4d1bd2...  NaN     NaN   \n",
              "4  00006413d8573cd20ed7128e53b7b13819fe5cfc2d801f...  1.0     1.0   \n",
              "\n",
              "  club_member_status fashion_news_frequency   age  \\\n",
              "0             ACTIVE                   NONE  49.0   \n",
              "1             ACTIVE                   NONE  25.0   \n",
              "2             ACTIVE                   NONE  24.0   \n",
              "3             ACTIVE                   NONE  54.0   \n",
              "4             ACTIVE              Regularly  52.0   \n",
              "\n",
              "                                         postal_code  \n",
              "0  52043ee2162cf5aa7ee79974281641c6f11a68d276429a...  \n",
              "1  2973abc54daa8a5f8ccfe9362140c63247c5eee03f1d93...  \n",
              "2  64f17e6a330a85798e4998f62d0930d14db8db1c054af6...  \n",
              "3  5d36574f52495e81f019b680c843c443bd343d5ca5b1c2...  \n",
              "4  25fa5ddee9aac01b35208d01736e57942317d756b32ddd...  "
            ],
            "text/html": [
              "\n",
              "  <div id=\"df-196f61c6-dc82-4bd6-b095-36afa94b8879\">\n",
              "    <div class=\"colab-df-container\">\n",
              "      <div>\n",
              "<style scoped>\n",
              "    .dataframe tbody tr th:only-of-type {\n",
              "        vertical-align: middle;\n",
              "    }\n",
              "\n",
              "    .dataframe tbody tr th {\n",
              "        vertical-align: top;\n",
              "    }\n",
              "\n",
              "    .dataframe thead th {\n",
              "        text-align: right;\n",
              "    }\n",
              "</style>\n",
              "<table border=\"1\" class=\"dataframe\">\n",
              "  <thead>\n",
              "    <tr style=\"text-align: right;\">\n",
              "      <th></th>\n",
              "      <th>customer_id</th>\n",
              "      <th>FN</th>\n",
              "      <th>Active</th>\n",
              "      <th>club_member_status</th>\n",
              "      <th>fashion_news_frequency</th>\n",
              "      <th>age</th>\n",
              "      <th>postal_code</th>\n",
              "    </tr>\n",
              "  </thead>\n",
              "  <tbody>\n",
              "    <tr>\n",
              "      <th>0</th>\n",
              "      <td>00000dbacae5abe5e23885899a1fa44253a17956c6d1c3...</td>\n",
              "      <td>NaN</td>\n",
              "      <td>NaN</td>\n",
              "      <td>ACTIVE</td>\n",
              "      <td>NONE</td>\n",
              "      <td>49.0</td>\n",
              "      <td>52043ee2162cf5aa7ee79974281641c6f11a68d276429a...</td>\n",
              "    </tr>\n",
              "    <tr>\n",
              "      <th>1</th>\n",
              "      <td>0000423b00ade91418cceaf3b26c6af3dd342b51fd051e...</td>\n",
              "      <td>NaN</td>\n",
              "      <td>NaN</td>\n",
              "      <td>ACTIVE</td>\n",
              "      <td>NONE</td>\n",
              "      <td>25.0</td>\n",
              "      <td>2973abc54daa8a5f8ccfe9362140c63247c5eee03f1d93...</td>\n",
              "    </tr>\n",
              "    <tr>\n",
              "      <th>2</th>\n",
              "      <td>000058a12d5b43e67d225668fa1f8d618c13dc232df0ca...</td>\n",
              "      <td>NaN</td>\n",
              "      <td>NaN</td>\n",
              "      <td>ACTIVE</td>\n",
              "      <td>NONE</td>\n",
              "      <td>24.0</td>\n",
              "      <td>64f17e6a330a85798e4998f62d0930d14db8db1c054af6...</td>\n",
              "    </tr>\n",
              "    <tr>\n",
              "      <th>3</th>\n",
              "      <td>00005ca1c9ed5f5146b52ac8639a40ca9d57aeff4d1bd2...</td>\n",
              "      <td>NaN</td>\n",
              "      <td>NaN</td>\n",
              "      <td>ACTIVE</td>\n",
              "      <td>NONE</td>\n",
              "      <td>54.0</td>\n",
              "      <td>5d36574f52495e81f019b680c843c443bd343d5ca5b1c2...</td>\n",
              "    </tr>\n",
              "    <tr>\n",
              "      <th>4</th>\n",
              "      <td>00006413d8573cd20ed7128e53b7b13819fe5cfc2d801f...</td>\n",
              "      <td>1.0</td>\n",
              "      <td>1.0</td>\n",
              "      <td>ACTIVE</td>\n",
              "      <td>Regularly</td>\n",
              "      <td>52.0</td>\n",
              "      <td>25fa5ddee9aac01b35208d01736e57942317d756b32ddd...</td>\n",
              "    </tr>\n",
              "  </tbody>\n",
              "</table>\n",
              "</div>\n",
              "      <button class=\"colab-df-convert\" onclick=\"convertToInteractive('df-196f61c6-dc82-4bd6-b095-36afa94b8879')\"\n",
              "              title=\"Convert this dataframe to an interactive table.\"\n",
              "              style=\"display:none;\">\n",
              "        \n",
              "  <svg xmlns=\"http://www.w3.org/2000/svg\" height=\"24px\"viewBox=\"0 0 24 24\"\n",
              "       width=\"24px\">\n",
              "    <path d=\"M0 0h24v24H0V0z\" fill=\"none\"/>\n",
              "    <path d=\"M18.56 5.44l.94 2.06.94-2.06 2.06-.94-2.06-.94-.94-2.06-.94 2.06-2.06.94zm-11 1L8.5 8.5l.94-2.06 2.06-.94-2.06-.94L8.5 2.5l-.94 2.06-2.06.94zm10 10l.94 2.06.94-2.06 2.06-.94-2.06-.94-.94-2.06-.94 2.06-2.06.94z\"/><path d=\"M17.41 7.96l-1.37-1.37c-.4-.4-.92-.59-1.43-.59-.52 0-1.04.2-1.43.59L10.3 9.45l-7.72 7.72c-.78.78-.78 2.05 0 2.83L4 21.41c.39.39.9.59 1.41.59.51 0 1.02-.2 1.41-.59l7.78-7.78 2.81-2.81c.8-.78.8-2.07 0-2.86zM5.41 20L4 18.59l7.72-7.72 1.47 1.35L5.41 20z\"/>\n",
              "  </svg>\n",
              "      </button>\n",
              "      \n",
              "  <style>\n",
              "    .colab-df-container {\n",
              "      display:flex;\n",
              "      flex-wrap:wrap;\n",
              "      gap: 12px;\n",
              "    }\n",
              "\n",
              "    .colab-df-convert {\n",
              "      background-color: #E8F0FE;\n",
              "      border: none;\n",
              "      border-radius: 50%;\n",
              "      cursor: pointer;\n",
              "      display: none;\n",
              "      fill: #1967D2;\n",
              "      height: 32px;\n",
              "      padding: 0 0 0 0;\n",
              "      width: 32px;\n",
              "    }\n",
              "\n",
              "    .colab-df-convert:hover {\n",
              "      background-color: #E2EBFA;\n",
              "      box-shadow: 0px 1px 2px rgba(60, 64, 67, 0.3), 0px 1px 3px 1px rgba(60, 64, 67, 0.15);\n",
              "      fill: #174EA6;\n",
              "    }\n",
              "\n",
              "    [theme=dark] .colab-df-convert {\n",
              "      background-color: #3B4455;\n",
              "      fill: #D2E3FC;\n",
              "    }\n",
              "\n",
              "    [theme=dark] .colab-df-convert:hover {\n",
              "      background-color: #434B5C;\n",
              "      box-shadow: 0px 1px 3px 1px rgba(0, 0, 0, 0.15);\n",
              "      filter: drop-shadow(0px 1px 2px rgba(0, 0, 0, 0.3));\n",
              "      fill: #FFFFFF;\n",
              "    }\n",
              "  </style>\n",
              "\n",
              "      <script>\n",
              "        const buttonEl =\n",
              "          document.querySelector('#df-196f61c6-dc82-4bd6-b095-36afa94b8879 button.colab-df-convert');\n",
              "        buttonEl.style.display =\n",
              "          google.colab.kernel.accessAllowed ? 'block' : 'none';\n",
              "\n",
              "        async function convertToInteractive(key) {\n",
              "          const element = document.querySelector('#df-196f61c6-dc82-4bd6-b095-36afa94b8879');\n",
              "          const dataTable =\n",
              "            await google.colab.kernel.invokeFunction('convertToInteractive',\n",
              "                                                     [key], {});\n",
              "          if (!dataTable) return;\n",
              "\n",
              "          const docLinkHtml = 'Like what you see? Visit the ' +\n",
              "            '<a target=\"_blank\" href=https://colab.research.google.com/notebooks/data_table.ipynb>data table notebook</a>'\n",
              "            + ' to learn more about interactive tables.';\n",
              "          element.innerHTML = '';\n",
              "          dataTable['output_type'] = 'display_data';\n",
              "          await google.colab.output.renderOutput(dataTable, element);\n",
              "          const docLink = document.createElement('div');\n",
              "          docLink.innerHTML = docLinkHtml;\n",
              "          element.appendChild(docLink);\n",
              "        }\n",
              "      </script>\n",
              "    </div>\n",
              "  </div>\n",
              "  "
            ]
          },
          "metadata": {},
          "execution_count": 15
        }
      ]
    },
    {
      "cell_type": "markdown",
      "source": [
        "Merge customer info to transaction data"
      ],
      "metadata": {
        "id": "_4KDZjrwz17Q"
      }
    },
    {
      "cell_type": "code",
      "source": [
        "train = pd.merge(customers_df, train, how='right', left_on = 'customer_id', right_on = 'customer_id')\n",
        "val = pd.merge(customers_df, val, how='right', left_on = 'customer_id', right_on = 'customer_id')"
      ],
      "metadata": {
        "id": "Yk14d_dDz1Ht"
      },
      "execution_count": null,
      "outputs": []
    },
    {
      "cell_type": "markdown",
      "source": [
        "fill missing age with mode"
      ],
      "metadata": {
        "id": "s74IQXbS0gub"
      }
    },
    {
      "cell_type": "code",
      "source": [
        "train[\"age\"].fillna(int(stats.mode(train[\"age\"])[0]), inplace = True)"
      ],
      "metadata": {
        "id": "2N3bqrvV0XK5"
      },
      "execution_count": null,
      "outputs": []
    },
    {
      "cell_type": "code",
      "source": [
        "age_cat = pd.cut(train[\"age\"], bins = [0,20,30,40,50,60,100], labels = ['1','2','3','4','5','6'])\n",
        "train['age_cat'] = age_cat"
      ],
      "metadata": {
        "id": "fk5FKUTp1qrF"
      },
      "execution_count": null,
      "outputs": []
    },
    {
      "cell_type": "code",
      "source": [
        "age_cat = pd.cut(val[\"age\"], bins = [0,20,30,40,50,60,100], labels = ['1','2','3','4','5','6'])\n",
        "val['age_cat'] = age_cat"
      ],
      "metadata": {
        "id": "J1RQtUT1nD4l"
      },
      "execution_count": null,
      "outputs": []
    },
    {
      "cell_type": "code",
      "source": [
        "train['age_cat'].value_counts()"
      ],
      "metadata": {
        "id": "5ufUyieavPRJ",
        "colab": {
          "base_uri": "https://localhost:8080/"
        },
        "outputId": "2aee0dd0-68dd-4889-a109-edb69fafeaaf"
      },
      "execution_count": null,
      "outputs": [
        {
          "output_type": "execute_result",
          "data": {
            "text/plain": [
              "2    516516\n",
              "3    195288\n",
              "4    181010\n",
              "5    161962\n",
              "1     80228\n",
              "6     44204\n",
              "Name: age_cat, dtype: int64"
            ]
          },
          "metadata": {},
          "execution_count": 40
        }
      ]
    },
    {
      "cell_type": "code",
      "source": [
        "age_cat_items = train.groupby(['age_cat'])['article_id'].apply(list)"
      ],
      "metadata": {
        "id": "Ss1eVp0U3kD3"
      },
      "execution_count": null,
      "outputs": []
    },
    {
      "cell_type": "code",
      "source": [
        "def user_attribute(age_cat, age_cat_items, n):\n",
        "  most_common_items_of_age_cat = {k:v for k, v in Counter(age_cat_items[age_cat]).most_common()}\n",
        "  return list(most_common_items_of_age_cat.keys())[:(n+1)]"
      ],
      "metadata": {
        "id": "kkIYjEFF3-kO"
      },
      "execution_count": null,
      "outputs": []
    },
    {
      "cell_type": "markdown",
      "source": [
        "# same section_name items"
      ],
      "metadata": {
        "id": "AB5isKzBvS0o"
      }
    },
    {
      "cell_type": "markdown",
      "source": [
        "This part requires combination with user demographic information "
      ],
      "metadata": {
        "id": "FyV6YouvzgG4"
      }
    },
    {
      "cell_type": "code",
      "source": [
        "! kaggle competitions download -c h-and-m-personalized-fashion-recommendations -f articles.csv"
      ],
      "metadata": {
        "colab": {
          "base_uri": "https://localhost:8080/"
        },
        "id": "5-6kXRtMzdZZ",
        "outputId": "3fd58d00-b6b2-4026-b6a2-976a8af14039"
      },
      "execution_count": null,
      "outputs": [
        {
          "output_type": "stream",
          "name": "stdout",
          "text": [
            "Downloading articles.csv.zip to /content\n",
            " 70% 3.00M/4.26M [00:00<00:00, 5.57MB/s]\n",
            "100% 4.26M/4.26M [00:00<00:00, 6.29MB/s]\n"
          ]
        }
      ]
    },
    {
      "cell_type": "code",
      "source": [
        "articles_df = pd.read_csv('/content/articles.csv.zip')\n",
        "articles_df.head(10)"
      ],
      "metadata": {
        "id": "DsDgTIBpvUPr",
        "colab": {
          "base_uri": "https://localhost:8080/",
          "height": 1000
        },
        "outputId": "70a78628-bae3-46e9-fccb-23fe6a9ffb77"
      },
      "execution_count": null,
      "outputs": [
        {
          "output_type": "execute_result",
          "data": {
            "text/plain": [
              "   article_id  product_code                  prod_name  product_type_no  \\\n",
              "0   108775015        108775                  Strap top              253   \n",
              "1   108775044        108775                  Strap top              253   \n",
              "2   108775051        108775              Strap top (1)              253   \n",
              "3   110065001        110065          OP T-shirt (Idro)              306   \n",
              "4   110065002        110065          OP T-shirt (Idro)              306   \n",
              "5   110065011        110065          OP T-shirt (Idro)              306   \n",
              "6   111565001        111565        20 den 1p Stockings              304   \n",
              "7   111565003        111565        20 den 1p Stockings              302   \n",
              "8   111586001        111586  Shape Up 30 den 1p Tights              273   \n",
              "9   111593001        111593   Support 40 den 1p Tights              304   \n",
              "\n",
              "  product_type_name  product_group_name  graphical_appearance_no  \\\n",
              "0          Vest top  Garment Upper body                  1010016   \n",
              "1          Vest top  Garment Upper body                  1010016   \n",
              "2          Vest top  Garment Upper body                  1010017   \n",
              "3               Bra           Underwear                  1010016   \n",
              "4               Bra           Underwear                  1010016   \n",
              "5               Bra           Underwear                  1010016   \n",
              "6  Underwear Tights      Socks & Tights                  1010016   \n",
              "7             Socks      Socks & Tights                  1010016   \n",
              "8   Leggings/Tights  Garment Lower body                  1010016   \n",
              "9  Underwear Tights      Socks & Tights                  1010016   \n",
              "\n",
              "  graphical_appearance_name  colour_group_code colour_group_name  ...  \\\n",
              "0                     Solid                  9             Black  ...   \n",
              "1                     Solid                 10             White  ...   \n",
              "2                    Stripe                 11         Off White  ...   \n",
              "3                     Solid                  9             Black  ...   \n",
              "4                     Solid                 10             White  ...   \n",
              "5                     Solid                 12       Light Beige  ...   \n",
              "6                     Solid                  9             Black  ...   \n",
              "7                     Solid                 13             Beige  ...   \n",
              "8                     Solid                  9             Black  ...   \n",
              "9                     Solid                  9             Black  ...   \n",
              "\n",
              "   department_name index_code        index_name index_group_no  \\\n",
              "0     Jersey Basic          A        Ladieswear              1   \n",
              "1     Jersey Basic          A        Ladieswear              1   \n",
              "2     Jersey Basic          A        Ladieswear              1   \n",
              "3   Clean Lingerie          B  Lingeries/Tights              1   \n",
              "4   Clean Lingerie          B  Lingeries/Tights              1   \n",
              "5   Clean Lingerie          B  Lingeries/Tights              1   \n",
              "6     Tights basic          B  Lingeries/Tights              1   \n",
              "7     Tights basic          B  Lingeries/Tights              1   \n",
              "8     Tights basic          B  Lingeries/Tights              1   \n",
              "9     Tights basic          B  Lingeries/Tights              1   \n",
              "\n",
              "   index_group_name section_no                    section_name  \\\n",
              "0        Ladieswear         16          Womens Everyday Basics   \n",
              "1        Ladieswear         16          Womens Everyday Basics   \n",
              "2        Ladieswear         16          Womens Everyday Basics   \n",
              "3        Ladieswear         61                 Womens Lingerie   \n",
              "4        Ladieswear         61                 Womens Lingerie   \n",
              "5        Ladieswear         61                 Womens Lingerie   \n",
              "6        Ladieswear         62  Womens Nightwear, Socks & Tigh   \n",
              "7        Ladieswear         62  Womens Nightwear, Socks & Tigh   \n",
              "8        Ladieswear         62  Womens Nightwear, Socks & Tigh   \n",
              "9        Ladieswear         62  Womens Nightwear, Socks & Tigh   \n",
              "\n",
              "  garment_group_no  garment_group_name  \\\n",
              "0             1002        Jersey Basic   \n",
              "1             1002        Jersey Basic   \n",
              "2             1002        Jersey Basic   \n",
              "3             1017   Under-, Nightwear   \n",
              "4             1017   Under-, Nightwear   \n",
              "5             1017   Under-, Nightwear   \n",
              "6             1021    Socks and Tights   \n",
              "7             1021    Socks and Tights   \n",
              "8             1021    Socks and Tights   \n",
              "9             1021    Socks and Tights   \n",
              "\n",
              "                                         detail_desc  \n",
              "0            Jersey top with narrow shoulder straps.  \n",
              "1            Jersey top with narrow shoulder straps.  \n",
              "2            Jersey top with narrow shoulder straps.  \n",
              "3  Microfibre T-shirt bra with underwired, moulde...  \n",
              "4  Microfibre T-shirt bra with underwired, moulde...  \n",
              "5  Microfibre T-shirt bra with underwired, moulde...  \n",
              "6  Semi shiny nylon stockings with a wide, reinfo...  \n",
              "7  Semi shiny nylon stockings with a wide, reinfo...  \n",
              "8  Tights with built-in support to lift the botto...  \n",
              "9  Semi shiny tights that shape the tummy, thighs...  \n",
              "\n",
              "[10 rows x 25 columns]"
            ],
            "text/html": [
              "\n",
              "  <div id=\"df-5c000c5c-6799-49db-8eb0-e2550eb9f173\">\n",
              "    <div class=\"colab-df-container\">\n",
              "      <div>\n",
              "<style scoped>\n",
              "    .dataframe tbody tr th:only-of-type {\n",
              "        vertical-align: middle;\n",
              "    }\n",
              "\n",
              "    .dataframe tbody tr th {\n",
              "        vertical-align: top;\n",
              "    }\n",
              "\n",
              "    .dataframe thead th {\n",
              "        text-align: right;\n",
              "    }\n",
              "</style>\n",
              "<table border=\"1\" class=\"dataframe\">\n",
              "  <thead>\n",
              "    <tr style=\"text-align: right;\">\n",
              "      <th></th>\n",
              "      <th>article_id</th>\n",
              "      <th>product_code</th>\n",
              "      <th>prod_name</th>\n",
              "      <th>product_type_no</th>\n",
              "      <th>product_type_name</th>\n",
              "      <th>product_group_name</th>\n",
              "      <th>graphical_appearance_no</th>\n",
              "      <th>graphical_appearance_name</th>\n",
              "      <th>colour_group_code</th>\n",
              "      <th>colour_group_name</th>\n",
              "      <th>...</th>\n",
              "      <th>department_name</th>\n",
              "      <th>index_code</th>\n",
              "      <th>index_name</th>\n",
              "      <th>index_group_no</th>\n",
              "      <th>index_group_name</th>\n",
              "      <th>section_no</th>\n",
              "      <th>section_name</th>\n",
              "      <th>garment_group_no</th>\n",
              "      <th>garment_group_name</th>\n",
              "      <th>detail_desc</th>\n",
              "    </tr>\n",
              "  </thead>\n",
              "  <tbody>\n",
              "    <tr>\n",
              "      <th>0</th>\n",
              "      <td>108775015</td>\n",
              "      <td>108775</td>\n",
              "      <td>Strap top</td>\n",
              "      <td>253</td>\n",
              "      <td>Vest top</td>\n",
              "      <td>Garment Upper body</td>\n",
              "      <td>1010016</td>\n",
              "      <td>Solid</td>\n",
              "      <td>9</td>\n",
              "      <td>Black</td>\n",
              "      <td>...</td>\n",
              "      <td>Jersey Basic</td>\n",
              "      <td>A</td>\n",
              "      <td>Ladieswear</td>\n",
              "      <td>1</td>\n",
              "      <td>Ladieswear</td>\n",
              "      <td>16</td>\n",
              "      <td>Womens Everyday Basics</td>\n",
              "      <td>1002</td>\n",
              "      <td>Jersey Basic</td>\n",
              "      <td>Jersey top with narrow shoulder straps.</td>\n",
              "    </tr>\n",
              "    <tr>\n",
              "      <th>1</th>\n",
              "      <td>108775044</td>\n",
              "      <td>108775</td>\n",
              "      <td>Strap top</td>\n",
              "      <td>253</td>\n",
              "      <td>Vest top</td>\n",
              "      <td>Garment Upper body</td>\n",
              "      <td>1010016</td>\n",
              "      <td>Solid</td>\n",
              "      <td>10</td>\n",
              "      <td>White</td>\n",
              "      <td>...</td>\n",
              "      <td>Jersey Basic</td>\n",
              "      <td>A</td>\n",
              "      <td>Ladieswear</td>\n",
              "      <td>1</td>\n",
              "      <td>Ladieswear</td>\n",
              "      <td>16</td>\n",
              "      <td>Womens Everyday Basics</td>\n",
              "      <td>1002</td>\n",
              "      <td>Jersey Basic</td>\n",
              "      <td>Jersey top with narrow shoulder straps.</td>\n",
              "    </tr>\n",
              "    <tr>\n",
              "      <th>2</th>\n",
              "      <td>108775051</td>\n",
              "      <td>108775</td>\n",
              "      <td>Strap top (1)</td>\n",
              "      <td>253</td>\n",
              "      <td>Vest top</td>\n",
              "      <td>Garment Upper body</td>\n",
              "      <td>1010017</td>\n",
              "      <td>Stripe</td>\n",
              "      <td>11</td>\n",
              "      <td>Off White</td>\n",
              "      <td>...</td>\n",
              "      <td>Jersey Basic</td>\n",
              "      <td>A</td>\n",
              "      <td>Ladieswear</td>\n",
              "      <td>1</td>\n",
              "      <td>Ladieswear</td>\n",
              "      <td>16</td>\n",
              "      <td>Womens Everyday Basics</td>\n",
              "      <td>1002</td>\n",
              "      <td>Jersey Basic</td>\n",
              "      <td>Jersey top with narrow shoulder straps.</td>\n",
              "    </tr>\n",
              "    <tr>\n",
              "      <th>3</th>\n",
              "      <td>110065001</td>\n",
              "      <td>110065</td>\n",
              "      <td>OP T-shirt (Idro)</td>\n",
              "      <td>306</td>\n",
              "      <td>Bra</td>\n",
              "      <td>Underwear</td>\n",
              "      <td>1010016</td>\n",
              "      <td>Solid</td>\n",
              "      <td>9</td>\n",
              "      <td>Black</td>\n",
              "      <td>...</td>\n",
              "      <td>Clean Lingerie</td>\n",
              "      <td>B</td>\n",
              "      <td>Lingeries/Tights</td>\n",
              "      <td>1</td>\n",
              "      <td>Ladieswear</td>\n",
              "      <td>61</td>\n",
              "      <td>Womens Lingerie</td>\n",
              "      <td>1017</td>\n",
              "      <td>Under-, Nightwear</td>\n",
              "      <td>Microfibre T-shirt bra with underwired, moulde...</td>\n",
              "    </tr>\n",
              "    <tr>\n",
              "      <th>4</th>\n",
              "      <td>110065002</td>\n",
              "      <td>110065</td>\n",
              "      <td>OP T-shirt (Idro)</td>\n",
              "      <td>306</td>\n",
              "      <td>Bra</td>\n",
              "      <td>Underwear</td>\n",
              "      <td>1010016</td>\n",
              "      <td>Solid</td>\n",
              "      <td>10</td>\n",
              "      <td>White</td>\n",
              "      <td>...</td>\n",
              "      <td>Clean Lingerie</td>\n",
              "      <td>B</td>\n",
              "      <td>Lingeries/Tights</td>\n",
              "      <td>1</td>\n",
              "      <td>Ladieswear</td>\n",
              "      <td>61</td>\n",
              "      <td>Womens Lingerie</td>\n",
              "      <td>1017</td>\n",
              "      <td>Under-, Nightwear</td>\n",
              "      <td>Microfibre T-shirt bra with underwired, moulde...</td>\n",
              "    </tr>\n",
              "    <tr>\n",
              "      <th>5</th>\n",
              "      <td>110065011</td>\n",
              "      <td>110065</td>\n",
              "      <td>OP T-shirt (Idro)</td>\n",
              "      <td>306</td>\n",
              "      <td>Bra</td>\n",
              "      <td>Underwear</td>\n",
              "      <td>1010016</td>\n",
              "      <td>Solid</td>\n",
              "      <td>12</td>\n",
              "      <td>Light Beige</td>\n",
              "      <td>...</td>\n",
              "      <td>Clean Lingerie</td>\n",
              "      <td>B</td>\n",
              "      <td>Lingeries/Tights</td>\n",
              "      <td>1</td>\n",
              "      <td>Ladieswear</td>\n",
              "      <td>61</td>\n",
              "      <td>Womens Lingerie</td>\n",
              "      <td>1017</td>\n",
              "      <td>Under-, Nightwear</td>\n",
              "      <td>Microfibre T-shirt bra with underwired, moulde...</td>\n",
              "    </tr>\n",
              "    <tr>\n",
              "      <th>6</th>\n",
              "      <td>111565001</td>\n",
              "      <td>111565</td>\n",
              "      <td>20 den 1p Stockings</td>\n",
              "      <td>304</td>\n",
              "      <td>Underwear Tights</td>\n",
              "      <td>Socks &amp; Tights</td>\n",
              "      <td>1010016</td>\n",
              "      <td>Solid</td>\n",
              "      <td>9</td>\n",
              "      <td>Black</td>\n",
              "      <td>...</td>\n",
              "      <td>Tights basic</td>\n",
              "      <td>B</td>\n",
              "      <td>Lingeries/Tights</td>\n",
              "      <td>1</td>\n",
              "      <td>Ladieswear</td>\n",
              "      <td>62</td>\n",
              "      <td>Womens Nightwear, Socks &amp; Tigh</td>\n",
              "      <td>1021</td>\n",
              "      <td>Socks and Tights</td>\n",
              "      <td>Semi shiny nylon stockings with a wide, reinfo...</td>\n",
              "    </tr>\n",
              "    <tr>\n",
              "      <th>7</th>\n",
              "      <td>111565003</td>\n",
              "      <td>111565</td>\n",
              "      <td>20 den 1p Stockings</td>\n",
              "      <td>302</td>\n",
              "      <td>Socks</td>\n",
              "      <td>Socks &amp; Tights</td>\n",
              "      <td>1010016</td>\n",
              "      <td>Solid</td>\n",
              "      <td>13</td>\n",
              "      <td>Beige</td>\n",
              "      <td>...</td>\n",
              "      <td>Tights basic</td>\n",
              "      <td>B</td>\n",
              "      <td>Lingeries/Tights</td>\n",
              "      <td>1</td>\n",
              "      <td>Ladieswear</td>\n",
              "      <td>62</td>\n",
              "      <td>Womens Nightwear, Socks &amp; Tigh</td>\n",
              "      <td>1021</td>\n",
              "      <td>Socks and Tights</td>\n",
              "      <td>Semi shiny nylon stockings with a wide, reinfo...</td>\n",
              "    </tr>\n",
              "    <tr>\n",
              "      <th>8</th>\n",
              "      <td>111586001</td>\n",
              "      <td>111586</td>\n",
              "      <td>Shape Up 30 den 1p Tights</td>\n",
              "      <td>273</td>\n",
              "      <td>Leggings/Tights</td>\n",
              "      <td>Garment Lower body</td>\n",
              "      <td>1010016</td>\n",
              "      <td>Solid</td>\n",
              "      <td>9</td>\n",
              "      <td>Black</td>\n",
              "      <td>...</td>\n",
              "      <td>Tights basic</td>\n",
              "      <td>B</td>\n",
              "      <td>Lingeries/Tights</td>\n",
              "      <td>1</td>\n",
              "      <td>Ladieswear</td>\n",
              "      <td>62</td>\n",
              "      <td>Womens Nightwear, Socks &amp; Tigh</td>\n",
              "      <td>1021</td>\n",
              "      <td>Socks and Tights</td>\n",
              "      <td>Tights with built-in support to lift the botto...</td>\n",
              "    </tr>\n",
              "    <tr>\n",
              "      <th>9</th>\n",
              "      <td>111593001</td>\n",
              "      <td>111593</td>\n",
              "      <td>Support 40 den 1p Tights</td>\n",
              "      <td>304</td>\n",
              "      <td>Underwear Tights</td>\n",
              "      <td>Socks &amp; Tights</td>\n",
              "      <td>1010016</td>\n",
              "      <td>Solid</td>\n",
              "      <td>9</td>\n",
              "      <td>Black</td>\n",
              "      <td>...</td>\n",
              "      <td>Tights basic</td>\n",
              "      <td>B</td>\n",
              "      <td>Lingeries/Tights</td>\n",
              "      <td>1</td>\n",
              "      <td>Ladieswear</td>\n",
              "      <td>62</td>\n",
              "      <td>Womens Nightwear, Socks &amp; Tigh</td>\n",
              "      <td>1021</td>\n",
              "      <td>Socks and Tights</td>\n",
              "      <td>Semi shiny tights that shape the tummy, thighs...</td>\n",
              "    </tr>\n",
              "  </tbody>\n",
              "</table>\n",
              "<p>10 rows × 25 columns</p>\n",
              "</div>\n",
              "      <button class=\"colab-df-convert\" onclick=\"convertToInteractive('df-5c000c5c-6799-49db-8eb0-e2550eb9f173')\"\n",
              "              title=\"Convert this dataframe to an interactive table.\"\n",
              "              style=\"display:none;\">\n",
              "        \n",
              "  <svg xmlns=\"http://www.w3.org/2000/svg\" height=\"24px\"viewBox=\"0 0 24 24\"\n",
              "       width=\"24px\">\n",
              "    <path d=\"M0 0h24v24H0V0z\" fill=\"none\"/>\n",
              "    <path d=\"M18.56 5.44l.94 2.06.94-2.06 2.06-.94-2.06-.94-.94-2.06-.94 2.06-2.06.94zm-11 1L8.5 8.5l.94-2.06 2.06-.94-2.06-.94L8.5 2.5l-.94 2.06-2.06.94zm10 10l.94 2.06.94-2.06 2.06-.94-2.06-.94-.94-2.06-.94 2.06-2.06.94z\"/><path d=\"M17.41 7.96l-1.37-1.37c-.4-.4-.92-.59-1.43-.59-.52 0-1.04.2-1.43.59L10.3 9.45l-7.72 7.72c-.78.78-.78 2.05 0 2.83L4 21.41c.39.39.9.59 1.41.59.51 0 1.02-.2 1.41-.59l7.78-7.78 2.81-2.81c.8-.78.8-2.07 0-2.86zM5.41 20L4 18.59l7.72-7.72 1.47 1.35L5.41 20z\"/>\n",
              "  </svg>\n",
              "      </button>\n",
              "      \n",
              "  <style>\n",
              "    .colab-df-container {\n",
              "      display:flex;\n",
              "      flex-wrap:wrap;\n",
              "      gap: 12px;\n",
              "    }\n",
              "\n",
              "    .colab-df-convert {\n",
              "      background-color: #E8F0FE;\n",
              "      border: none;\n",
              "      border-radius: 50%;\n",
              "      cursor: pointer;\n",
              "      display: none;\n",
              "      fill: #1967D2;\n",
              "      height: 32px;\n",
              "      padding: 0 0 0 0;\n",
              "      width: 32px;\n",
              "    }\n",
              "\n",
              "    .colab-df-convert:hover {\n",
              "      background-color: #E2EBFA;\n",
              "      box-shadow: 0px 1px 2px rgba(60, 64, 67, 0.3), 0px 1px 3px 1px rgba(60, 64, 67, 0.15);\n",
              "      fill: #174EA6;\n",
              "    }\n",
              "\n",
              "    [theme=dark] .colab-df-convert {\n",
              "      background-color: #3B4455;\n",
              "      fill: #D2E3FC;\n",
              "    }\n",
              "\n",
              "    [theme=dark] .colab-df-convert:hover {\n",
              "      background-color: #434B5C;\n",
              "      box-shadow: 0px 1px 3px 1px rgba(0, 0, 0, 0.15);\n",
              "      filter: drop-shadow(0px 1px 2px rgba(0, 0, 0, 0.3));\n",
              "      fill: #FFFFFF;\n",
              "    }\n",
              "  </style>\n",
              "\n",
              "      <script>\n",
              "        const buttonEl =\n",
              "          document.querySelector('#df-5c000c5c-6799-49db-8eb0-e2550eb9f173 button.colab-df-convert');\n",
              "        buttonEl.style.display =\n",
              "          google.colab.kernel.accessAllowed ? 'block' : 'none';\n",
              "\n",
              "        async function convertToInteractive(key) {\n",
              "          const element = document.querySelector('#df-5c000c5c-6799-49db-8eb0-e2550eb9f173');\n",
              "          const dataTable =\n",
              "            await google.colab.kernel.invokeFunction('convertToInteractive',\n",
              "                                                     [key], {});\n",
              "          if (!dataTable) return;\n",
              "\n",
              "          const docLinkHtml = 'Like what you see? Visit the ' +\n",
              "            '<a target=\"_blank\" href=https://colab.research.google.com/notebooks/data_table.ipynb>data table notebook</a>'\n",
              "            + ' to learn more about interactive tables.';\n",
              "          element.innerHTML = '';\n",
              "          dataTable['output_type'] = 'display_data';\n",
              "          await google.colab.output.renderOutput(dataTable, element);\n",
              "          const docLink = document.createElement('div');\n",
              "          docLink.innerHTML = docLinkHtml;\n",
              "          element.appendChild(docLink);\n",
              "        }\n",
              "      </script>\n",
              "    </div>\n",
              "  </div>\n",
              "  "
            ]
          },
          "metadata": {},
          "execution_count": 28
        }
      ]
    },
    {
      "cell_type": "code",
      "source": [
        "articles_df['section_name'].value_counts()"
      ],
      "metadata": {
        "colab": {
          "base_uri": "https://localhost:8080/"
        },
        "id": "akU5NJJz56Er",
        "outputId": "04fa3f2c-a745-44ce-e7cb-77eff9c4d420"
      },
      "execution_count": null,
      "outputs": [
        {
          "output_type": "execute_result",
          "data": {
            "text/plain": [
              "Womens Everyday Collection        7295\n",
              "Divided Collection                7124\n",
              "Baby Essentials & Complements     4932\n",
              "Kids Girl                         4469\n",
              "Young Girl                        3899\n",
              "Womens Lingerie                   3598\n",
              "Girls Underwear & Basics          3490\n",
              "Womens Tailoring                  3376\n",
              "Kids Boy                          3328\n",
              "Womens Small accessories          3270\n",
              "Womens Casual                     2725\n",
              "Kids Outerwear                    2665\n",
              "Womens Trend                      2622\n",
              "Divided Projects                  2364\n",
              "Young Boy                         2352\n",
              "H&M+                              2337\n",
              "Men Underwear                     2322\n",
              "Mama                              2266\n",
              "Kids & Baby Shoes                 2142\n",
              "Boys Underwear & Basics           2034\n",
              "Womens Shoes                      2026\n",
              "Ladies H&M Sport                  1894\n",
              "Womens Swimwear, beachwear        1839\n",
              "Contemporary Smart                1778\n",
              "Baby Girl                         1760\n",
              "Divided Accessories               1732\n",
              "Kids Accessories, Swimwear & D    1731\n",
              "Divided Basics                    1723\n",
              "Baby Boy                          1717\n",
              "Womens Big accessories            1665\n",
              "Womens Everyday Basics            1581\n",
              "Womens Nightwear, Socks & Tigh    1566\n",
              "Contemporary Casual               1560\n",
              "Contemporary Street               1490\n",
              "Men Suits & Tailoring             1428\n",
              "Men Accessories                   1337\n",
              "Womens Premium                    1270\n",
              "Ladies Denim                      1101\n",
              "Divided Selected                   991\n",
              "Men H&M Sport                      872\n",
              "Womens Jackets                     829\n",
              "Special Collections                682\n",
              "Men Shoes                          645\n",
              "Mens Outerwear                     629\n",
              "Kids Sports                        626\n",
              "Collaborations                     559\n",
              "Denim Men                          521\n",
              "Men Edition                        330\n",
              "Men Project                        298\n",
              "Divided Asia keys                  280\n",
              "Kids Local Relevance               192\n",
              "Men Other 2                        190\n",
              "Divided Complements Other           35\n",
              "EQ Divided                          26\n",
              "Men Other                           25\n",
              "Ladies Other                         4\n",
              "Name: section_name, dtype: int64"
            ]
          },
          "metadata": {},
          "execution_count": 68
        }
      ]
    },
    {
      "cell_type": "code",
      "source": [
        "train = pd.merge(articles_df[['article_id','section_name']], train, how='right', left_on = 'article_id', right_on = 'article_id')\n",
        "val = pd.merge(articles_df[['article_id','section_name']], val, how='right', left_on = 'article_id', right_on = 'article_id')"
      ],
      "metadata": {
        "id": "RugYSTXs61J8"
      },
      "execution_count": null,
      "outputs": []
    },
    {
      "cell_type": "code",
      "source": [
        "section_items = train.groupby(['section_name'])['article_id'].apply(list) "
      ],
      "metadata": {
        "id": "22ERWQ8D7mMi"
      },
      "execution_count": null,
      "outputs": []
    },
    {
      "cell_type": "code",
      "source": [
        "def same_section_items(section, section_items, n):\n",
        "  most_common_items_of_section = {k:v for k, v in Counter(section_items[section]).most_common()}\n",
        "  return list(most_common_items_of_section.keys())[:(n+1)]"
      ],
      "metadata": {
        "id": "EgWj6gEJ7kIO"
      },
      "execution_count": null,
      "outputs": []
    },
    {
      "cell_type": "markdown",
      "source": [
        "# Embedding"
      ],
      "metadata": {
        "id": "cYhwiGG3wP2x"
      }
    },
    {
      "cell_type": "markdown",
      "source": [
        "Item embedding is generated with each transaction information (order of item purchased) and pyspark 'word2vec' function\n",
        "\n",
        "User embedding is the average of his/her purchased item embeddings"
      ],
      "metadata": {
        "id": "9jxLtsLSbWAJ"
      }
    },
    {
      "cell_type": "code",
      "source": [
        "! pip install -q gensim"
      ],
      "metadata": {
        "id": "Lo5ALKGQe8wh"
      },
      "execution_count": null,
      "outputs": []
    },
    {
      "cell_type": "code",
      "source": [
        "from gensim.models import Word2Vec"
      ],
      "metadata": {
        "id": "JEKGc9PMEyAr"
      },
      "execution_count": null,
      "outputs": []
    },
    {
      "cell_type": "code",
      "source": [
        "train['article_id'] = train['article_id'].astype(\"string\")"
      ],
      "metadata": {
        "id": "YS8_3RAIOgjS"
      },
      "execution_count": null,
      "outputs": []
    },
    {
      "cell_type": "code",
      "source": [
        "items_per_user_transaction = train.groupby(['customer_id','t_dat'],group_keys=False)['article_id'].apply(list).reset_index()\n",
        "items_per_user_transaction = list(items_per_user_transaction['article_id'])"
      ],
      "metadata": {
        "id": "D81FPf-YfDq3"
      },
      "execution_count": null,
      "outputs": []
    },
    {
      "cell_type": "code",
      "source": [
        "model = Word2Vec(sentences=items_per_user_transaction, size=10, window=5, min_count=1, workers=4, sg=1, hs=0, negative=5)\n",
        "item_vectors = model.wv"
      ],
      "metadata": {
        "id": "DIA-9jVfZBYC",
        "colab": {
          "base_uri": "https://localhost:8080/"
        },
        "outputId": "b6ec4767-f8b2-4adb-ef9f-7b8e9b7c40e6"
      },
      "execution_count": null,
      "outputs": [
        {
          "output_type": "stream",
          "name": "stderr",
          "text": [
            "WARNING:gensim.models.base_any2vec:consider setting layer size to a multiple of 4 for greater performance\n"
          ]
        }
      ]
    },
    {
      "cell_type": "markdown",
      "source": [
        "model.wv is the item embedding\n"
      ],
      "metadata": {
        "id": "-_ON0Uc8RsOG"
      }
    },
    {
      "cell_type": "code",
      "source": [
        "vector = model.wv['706016003']\n",
        "print(vector)\n",
        "model.wv.most_similar('706016003', topn=10)"
      ],
      "metadata": {
        "colab": {
          "base_uri": "https://localhost:8080/"
        },
        "id": "GBFibWOgPSOa",
        "outputId": "d339185e-be27-4d73-f9d8-34aa87399a46"
      },
      "execution_count": null,
      "outputs": [
        {
          "output_type": "stream",
          "name": "stdout",
          "text": [
            "[-0.12409377  2.1211483  -0.13372296 -1.0931098   0.7188208  -2.067353\n",
            " -0.55426615  0.24494302  0.40380996  0.22232339]\n"
          ]
        },
        {
          "output_type": "execute_result",
          "data": {
            "text/plain": [
              "[('867966009', 0.9948374629020691),\n",
              " ('882899005', 0.9945924282073975),\n",
              " ('706016001', 0.9937094449996948),\n",
              " ('706016038', 0.9887040853500366),\n",
              " ('757926003', 0.9865995645523071),\n",
              " ('835168001', 0.9863295555114746),\n",
              " ('867966002', 0.9860538244247437),\n",
              " ('798579002', 0.985958993434906),\n",
              " ('867966010', 0.9846370220184326),\n",
              " ('872266001', 0.9838160276412964)]"
            ]
          },
          "metadata": {},
          "execution_count": 85
        }
      ]
    },
    {
      "cell_type": "markdown",
      "source": [
        "define a function to find the embedding of a customer"
      ],
      "metadata": {
        "id": "LuPnSjZWSZL8"
      }
    },
    {
      "cell_type": "code",
      "source": [
        "# List of all purchases per user \n",
        "items_per_user = train.groupby(['customer_id'])['article_id'].apply(list) "
      ],
      "metadata": {
        "id": "pxr5rnaqSU1N"
      },
      "execution_count": null,
      "outputs": []
    },
    {
      "cell_type": "code",
      "source": [
        "def customer_embedding(purchase_history, customer, item_vectors):\n",
        "  items = purchase_history[customer]\n",
        "  customer_embed = [0] * 10\n",
        "  for item in items:\n",
        "    customer_embed = np.add(customer_embed, item_vectors[item])\n",
        "  customer_embed = np.divide(customer_embed, len(items))\n",
        "  return customer_embed\n"
      ],
      "metadata": {
        "id": "JwZjRFuBS0IZ"
      },
      "execution_count": null,
      "outputs": []
    },
    {
      "cell_type": "code",
      "source": [
        "customer_embedding(items_per_user, '0000757967448a6cb83efb3ea7a3fb9d418ac7adf2379d8cd0c725276a467a2a', item_vectors)"
      ],
      "metadata": {
        "colab": {
          "base_uri": "https://localhost:8080/"
        },
        "id": "jWCtrXBPTTdq",
        "outputId": "6fb625fa-4d3e-47d6-acce-035754fb3e9c"
      },
      "execution_count": null,
      "outputs": [
        {
          "output_type": "execute_result",
          "data": {
            "text/plain": [
              "array([ 0.14475741,  1.92418385, -0.66438076, -0.12911131,  1.10160816,\n",
              "       -2.02153605, -0.42055298, -0.03544839,  0.19006272,  0.29608285])"
            ]
          },
          "metadata": {},
          "execution_count": 82
        }
      ]
    },
    {
      "cell_type": "markdown",
      "source": [
        "Given a customer embedding and item embeddings, return the most similar 10 items to the customer"
      ],
      "metadata": {
        "id": "ulvATeq6aCYw"
      }
    },
    {
      "cell_type": "code",
      "source": [
        "def retrieve_item(customer_embed, item_vectors, n = 20):\n",
        "  return item_vectors.similar_by_vector(customer_embed,topn=n)"
      ],
      "metadata": {
        "id": "2NAm22gtW_dc"
      },
      "execution_count": null,
      "outputs": []
    },
    {
      "cell_type": "markdown",
      "source": [
        "# Put together"
      ],
      "metadata": {
        "id": "3La7k7zQudaT"
      }
    },
    {
      "cell_type": "markdown",
      "source": [
        "Now put together all the recall items for a user with all strategies.\n",
        "1. popularity: 50 items\n",
        "2. purchase history: 50 items\n",
        "3. popular items under user's attributes: 50 items\n",
        "4. same section_name items: 10 same section items for each item the user recently purchased (up to 20 most recent purchses)\n",
        "5. embedding similarity: 100 items"
      ],
      "metadata": {
        "id": "Z461s5yzukO6"
      }
    },
    {
      "cell_type": "code",
      "source": [
        "\n",
        "def recall(user, transaction_data, customer_data, item_data, item_embedding):\n",
        "  transaction_data.sort_values(by=['t_dat'], ascending = False, inplace = True)\n",
        "\n",
        "  # 1. popularity\n",
        "  transaction_data['pop_factor'] = transaction_data['t_dat'].apply(lambda x: 1/(datetime.datetime(2020,9,16) - x).days)\n",
        "  popular_items_group = transaction_data.groupby(['article_id'])['pop_factor'].sum()\n",
        "  _, popular_items = zip(*sorted(zip(popular_items_group, popular_items_group.keys()))[::-1])\n",
        "  popular_items = list(popular_items)[:51]\n",
        "\n",
        "  # 2. purchase history\n",
        "  items_per_user = transaction_data.groupby(['customer_id'])['article_id'].apply(list) \n",
        "  most_common_items_of_user = list({k:v for k, v in Counter(items_per_user[user]).most_common()}.keys())\n",
        "  purchase_history = most_common_items_of_user[:51]\n",
        "\n",
        "  # 3. popular items under user's attributes\n",
        "  transaction_data = pd.merge(customer_data, transaction_data, how='right', left_on = 'customer_id', right_on = 'customer_id')\n",
        "  transaction_data[\"age\"].fillna(int(stats.mode(transaction_data[\"age\"])[0]), inplace = True)\n",
        "  age_cat = pd.cut(transaction_data[\"age\"], bins = [0,20,30,40,50,60,100], labels = ['1','2','3','4','5','6'])\n",
        "  transaction_data['age_cat'] = age_cat\n",
        "  age_cat_items = transaction_data.groupby(['age_cat'])['article_id'].apply(list)\n",
        "  \n",
        "  user_age = customer_data['age'][customer_data['customer_id']==user]\n",
        "  user_age_cut = pd.cut([user_age], bins = [0,20,30,40,50,60,100], labels = ['1','2','3','4','5','6'])[0]\n",
        "  most_common_items_of_age_cat = {k:v for k, v in Counter(age_cat_items[age_cat]).most_common()}\n",
        "  item_under_user_attribute = list(most_common_items_of_age_cat.keys())[:(50+1)]\n",
        "\n",
        "  # 4. same section_name items\n",
        "  transaction_data = pd.merge(item_data[['article_id','section_name']], transaction_data, how='right', left_on = 'article_id', right_on = 'article_id')\n",
        "  section_items = transaction_data.groupby(['section_name'])['article_id'].apply(list) \n",
        "  same_section_items = []\n",
        "  for item in purchase_history[:21]:\n",
        "    section = articles_df['section_name'][articles_df['article_id'] == item]\n",
        "    most_common_items_of_section = {k:v for k, v in Counter(section_items[section]).most_common()}\n",
        "    same_section_items.append(list(most_common_items_of_section.keys())[:(11+1)])\n",
        "  \n",
        "  # 5. embedding similarity\n",
        "  items = items_per_user[user]\n",
        "  user_embedding = [0] * 10\n",
        "  for item in items:\n",
        "    user_embedding = np.add(user_embedding, item_vectors[item])\n",
        "  user_embedding = np.divide(user_embedding, len(items))\n",
        "  embedding_similarity_items = item_embedding.similar_by_vector(user_embedding,topn=n)\n",
        "  \n",
        "  out = popular_items + purchase_history + age_cat_items + item_under_user_attribute + same_section_items + embedding_similarity_items\n",
        "  return list(set(out))"
      ],
      "metadata": {
        "id": "HJ9zqAJkutfR"
      },
      "execution_count": null,
      "outputs": []
    },
    {
      "cell_type": "markdown",
      "source": [
        "# Validation"
      ],
      "metadata": {
        "id": "G7wvs4pinKat"
      }
    },
    {
      "cell_type": "markdown",
      "source": [
        "Define evaluation metric: Mean Average Precision @ 12"
      ],
      "metadata": {
        "id": "1yy0h4wq6wrV"
      }
    },
    {
      "cell_type": "code",
      "source": [
        "def apk(actual, predicted, k=12):\n",
        "    if len(predicted)>k:\n",
        "        predicted = predicted[:k]\n",
        "\n",
        "    score = 0.0\n",
        "    num_hits = 0.0\n",
        "\n",
        "    for i,p in enumerate(predicted):\n",
        "        if p in actual and p not in predicted[:i]:\n",
        "            num_hits += 1.0\n",
        "            score += num_hits / (i+1.0)\n",
        "\n",
        "    if not actual:\n",
        "        return 0.0\n",
        "\n",
        "    return score / min(len(actual), k)\n",
        "\n",
        "def mapk(actual, predicted, k=12):\n",
        "    return np.mean([apk(a,p,k) for a,p in zip(actual, predicted)])"
      ],
      "metadata": {
        "id": "iEIGPoZk5uRa"
      },
      "execution_count": null,
      "outputs": []
    },
    {
      "cell_type": "markdown",
      "source": [
        "Precision: the number of items that were purchased / total number of items recalled"
      ],
      "metadata": {
        "id": "kCbez_sil_IU"
      }
    },
    {
      "cell_type": "code",
      "source": [
        "def precision(actual, predicted):\n",
        "  num_hits = 0.0\n",
        "  for i,p in enumerate(predicted):\n",
        "        if p in actual and p not in predicted[:i]:\n",
        "            num_hits += 1.0\n",
        "  if not actual:\n",
        "        return 0.0\n",
        "  return num_hits/len(predicted)\n",
        "            "
      ],
      "metadata": {
        "id": "JQAjkBHql-eL"
      },
      "execution_count": null,
      "outputs": []
    },
    {
      "cell_type": "markdown",
      "source": [
        "Item Recall Rate: the number of items that were purchased / total number of items user purchased"
      ],
      "metadata": {
        "id": "qhfPpWdZmvVE"
      }
    },
    {
      "cell_type": "code",
      "source": [
        "def recall_rate(actual, predicted):\n",
        "  num_hits = 0.0\n",
        "  for i,p in enumerate(predicted):\n",
        "        if p in actual and p not in predicted[:i]:\n",
        "            num_hits += 1.0\n",
        "  if not actual:\n",
        "        return 0.0\n",
        "  return num_hits/len(actual)"
      ],
      "metadata": {
        "id": "dLraqs4ymwAU"
      },
      "execution_count": null,
      "outputs": []
    },
    {
      "cell_type": "markdown",
      "source": [
        "construct data set with items bought by users in the validation period."
      ],
      "metadata": {
        "id": "iEgKzbUVAmUq"
      }
    },
    {
      "cell_type": "code",
      "source": [
        "positive_items_val = val.groupby(['customer_id'])['article_id'].apply(list)"
      ],
      "metadata": {
        "id": "NT6xLcRtAkZV"
      },
      "execution_count": null,
      "outputs": []
    },
    {
      "cell_type": "code",
      "source": [
        "# creating validation set for metrics use case\n",
        "val_users = positive_items_val.keys()\n",
        "val_items = []\n",
        "\n",
        "for i,user in enumerate(val_users):\n",
        "    val_items.append(positive_items_val[user])\n",
        "    \n",
        "print(\"Total users in validation:\", len(val_users))"
      ],
      "metadata": {
        "colab": {
          "base_uri": "https://localhost:8080/"
        },
        "id": "aSPpisLBAxZ8",
        "outputId": "1654c738-46de-4f44-e34f-087225bf398e"
      },
      "execution_count": null,
      "outputs": [
        {
          "output_type": "stream",
          "name": "stdout",
          "text": [
            "Total users in validation: 68984\n"
          ]
        }
      ]
    },
    {
      "cell_type": "markdown",
      "source": [
        "Test the strategy on validation set"
      ],
      "metadata": {
        "id": "b7RmVEXZFQtM"
      }
    },
    {
      "cell_type": "code",
      "source": [
        "outputs = []\n",
        "cnt = 0\n",
        "\n",
        "for user in tqdm(val_users):\n",
        "    user_output = []\n",
        "    if user in positive_items_per_user1.keys():\n",
        "        most_common_items_of_user = {k:v for k, v in Counter(positive_items_per_user1[user]).most_common()}\n",
        "        user_output += list(most_common_items_of_user.keys())[:12]\n",
        "    if user in positive_items_per_user2.keys():\n",
        "        most_common_items_of_user = {k:v for k, v in Counter(positive_items_per_user2[user]).most_common()}\n",
        "        user_output += list(most_common_items_of_user.keys())[:12]\n",
        "    if user in positive_items_per_user3.keys():\n",
        "        most_common_items_of_user = {k:v for k, v in Counter(positive_items_per_user3[user]).most_common()}\n",
        "        user_output += list(most_common_items_of_user.keys())[:12]\n",
        "    if user in positive_items_per_user4.keys():\n",
        "        most_common_items_of_user = {k:v for k, v in Counter(positive_items_per_user4[user]).most_common()}\n",
        "        user_output += list(most_common_items_of_user.keys())[:12]\n",
        "    \n",
        "    user_output += list(popular_items[:12 - len(user_output)])\n",
        "    outputs.append(user_output)\n",
        "    \n",
        "print(\"mAP Score on Validation set:\", mapk(val_items, outputs))"
      ],
      "metadata": {
        "id": "v_CL3ctLFGjJ",
        "colab": {
          "base_uri": "https://localhost:8080/"
        },
        "outputId": "c76ae82a-711e-4d0f-9e9a-8d02c12ffe3e"
      },
      "execution_count": null,
      "outputs": [
        {
          "output_type": "stream",
          "name": "stderr",
          "text": [
            "100%|██████████| 68984/68984 [00:04<00:00, 15542.77it/s]\n"
          ]
        },
        {
          "output_type": "stream",
          "name": "stdout",
          "text": [
            "mAP Score on Validation set: 0.023448012511813318\n"
          ]
        }
      ]
    }
  ]
}