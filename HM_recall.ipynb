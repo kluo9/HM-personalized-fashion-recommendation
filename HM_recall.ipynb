{
  "nbformat": 4,
  "nbformat_minor": 0,
  "metadata": {
    "colab": {
      "provenance": [],
      "authorship_tag": "ABX9TyODAeVyHXlrsZrHE4pQN92f",
      "include_colab_link": true
    },
    "kernelspec": {
      "name": "python3",
      "display_name": "Python 3"
    },
    "language_info": {
      "name": "python"
    }
  },
  "cells": [
    {
      "cell_type": "markdown",
      "metadata": {
        "id": "view-in-github",
        "colab_type": "text"
      },
      "source": [
        "<a href=\"https://colab.research.google.com/github/kluo9/HM-personalized-fashion-recommendation/blob/main/HM_recall.ipynb\" target=\"_parent\"><img src=\"https://colab.research.google.com/assets/colab-badge.svg\" alt=\"Open In Colab\"/></a>"
      ]
    },
    {
      "cell_type": "markdown",
      "source": [
        "The purpose of recall stage is to reduce the number of items from about 100K to a few hundreds for next stage ranking. \n",
        "The goal is to include as few items as possible that are likely to be bought by the user in next week but not excluding any potential items.\n"
      ],
      "metadata": {
        "id": "VNI9oUH8JvTt"
      }
    }
  ]
}