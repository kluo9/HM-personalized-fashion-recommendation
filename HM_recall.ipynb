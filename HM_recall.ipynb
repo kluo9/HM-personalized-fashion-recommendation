{
  "nbformat": 4,
  "nbformat_minor": 0,
  "metadata": {
    "colab": {
      "provenance": [],
      "authorship_tag": "ABX9TyNUIjmOoKdSeHfijmaa18HV",
      "include_colab_link": true
    },
    "kernelspec": {
      "name": "python3",
      "display_name": "Python 3"
    },
    "language_info": {
      "name": "python"
    }
  },
  "cells": [
    {
      "cell_type": "markdown",
      "metadata": {
        "id": "view-in-github",
        "colab_type": "text"
      },
      "source": [
        "<a href=\"https://colab.research.google.com/github/kluo9/HM-personalized-fashion-recommendation/blob/main/HM_recall.ipynb\" target=\"_parent\"><img src=\"https://colab.research.google.com/assets/colab-badge.svg\" alt=\"Open In Colab\"/></a>"
      ]
    },
    {
      "cell_type": "markdown",
      "source": [
        "The purpose of recall stage is to reduce the number of items from about 100K to a few hundreds for next stage ranking. \n",
        "The goal is to include as few items as possible that are likely to be bought by the user in next week but not excluding any potential items.\n",
        "\n",
        "The evaluation of the recall stage is \n",
        "1. Precision: the number of items that were purchased / total number of items recalled\n",
        "2. Item Recall Rate: the number of items that were purchased / total number of items user purchased\n",
        "3. User Recall Rate: the number of users who purchased the item recalled / total number of users\n",
        "\n",
        "The recall strategy:\n",
        "1. popularity (time-weighted)\n",
        "2. purchase history (up to 4 weeks)\n",
        "3. relative items to what the user recently purchased (items bought together)\n",
        "4. popular items under user's attributes (age, gender)\n",
        "5. same prod-name items\n"
      ],
      "metadata": {
        "id": "VNI9oUH8JvTt"
      }
    },
    {
      "cell_type": "code",
      "source": [
        "import numpy as np\n",
        "import pandas as pd\n",
        "import os\n",
        "import glob\n",
        "from tqdm import tqdm\n",
        "import datetime"
      ],
      "metadata": {
        "id": "YLzAJSKeMrCb"
      },
      "execution_count": 1,
      "outputs": []
    },
    {
      "cell_type": "markdown",
      "source": [
        "# Read data"
      ],
      "metadata": {
        "id": "8R5gmxdaNKy5"
      }
    },
    {
      "cell_type": "code",
      "source": [
        "! pip install -q kaggle\n",
        "from google.colab import files"
      ],
      "metadata": {
        "id": "DWu5q7TfNJvf"
      },
      "execution_count": 2,
      "outputs": []
    },
    {
      "cell_type": "code",
      "source": [
        "uploaded = files.upload() # upload kaggle token downloaded from kaggle personal account page 'kaggle.json'"
      ],
      "metadata": {
        "colab": {
          "base_uri": "https://localhost:8080/",
          "height": 73
        },
        "id": "R2SHywaQNQPl",
        "outputId": "6f2091de-b3b3-4c71-db51-42b02bd49cd4"
      },
      "execution_count": 3,
      "outputs": [
        {
          "output_type": "display_data",
          "data": {
            "text/plain": [
              "<IPython.core.display.HTML object>"
            ],
            "text/html": [
              "\n",
              "     <input type=\"file\" id=\"files-327f2d74-b2da-4eba-88e9-cd8c261fa1ab\" name=\"files[]\" multiple disabled\n",
              "        style=\"border:none\" />\n",
              "     <output id=\"result-327f2d74-b2da-4eba-88e9-cd8c261fa1ab\">\n",
              "      Upload widget is only available when the cell has been executed in the\n",
              "      current browser session. Please rerun this cell to enable.\n",
              "      </output>\n",
              "      <script>// Copyright 2017 Google LLC\n",
              "//\n",
              "// Licensed under the Apache License, Version 2.0 (the \"License\");\n",
              "// you may not use this file except in compliance with the License.\n",
              "// You may obtain a copy of the License at\n",
              "//\n",
              "//      http://www.apache.org/licenses/LICENSE-2.0\n",
              "//\n",
              "// Unless required by applicable law or agreed to in writing, software\n",
              "// distributed under the License is distributed on an \"AS IS\" BASIS,\n",
              "// WITHOUT WARRANTIES OR CONDITIONS OF ANY KIND, either express or implied.\n",
              "// See the License for the specific language governing permissions and\n",
              "// limitations under the License.\n",
              "\n",
              "/**\n",
              " * @fileoverview Helpers for google.colab Python module.\n",
              " */\n",
              "(function(scope) {\n",
              "function span(text, styleAttributes = {}) {\n",
              "  const element = document.createElement('span');\n",
              "  element.textContent = text;\n",
              "  for (const key of Object.keys(styleAttributes)) {\n",
              "    element.style[key] = styleAttributes[key];\n",
              "  }\n",
              "  return element;\n",
              "}\n",
              "\n",
              "// Max number of bytes which will be uploaded at a time.\n",
              "const MAX_PAYLOAD_SIZE = 100 * 1024;\n",
              "\n",
              "function _uploadFiles(inputId, outputId) {\n",
              "  const steps = uploadFilesStep(inputId, outputId);\n",
              "  const outputElement = document.getElementById(outputId);\n",
              "  // Cache steps on the outputElement to make it available for the next call\n",
              "  // to uploadFilesContinue from Python.\n",
              "  outputElement.steps = steps;\n",
              "\n",
              "  return _uploadFilesContinue(outputId);\n",
              "}\n",
              "\n",
              "// This is roughly an async generator (not supported in the browser yet),\n",
              "// where there are multiple asynchronous steps and the Python side is going\n",
              "// to poll for completion of each step.\n",
              "// This uses a Promise to block the python side on completion of each step,\n",
              "// then passes the result of the previous step as the input to the next step.\n",
              "function _uploadFilesContinue(outputId) {\n",
              "  const outputElement = document.getElementById(outputId);\n",
              "  const steps = outputElement.steps;\n",
              "\n",
              "  const next = steps.next(outputElement.lastPromiseValue);\n",
              "  return Promise.resolve(next.value.promise).then((value) => {\n",
              "    // Cache the last promise value to make it available to the next\n",
              "    // step of the generator.\n",
              "    outputElement.lastPromiseValue = value;\n",
              "    return next.value.response;\n",
              "  });\n",
              "}\n",
              "\n",
              "/**\n",
              " * Generator function which is called between each async step of the upload\n",
              " * process.\n",
              " * @param {string} inputId Element ID of the input file picker element.\n",
              " * @param {string} outputId Element ID of the output display.\n",
              " * @return {!Iterable<!Object>} Iterable of next steps.\n",
              " */\n",
              "function* uploadFilesStep(inputId, outputId) {\n",
              "  const inputElement = document.getElementById(inputId);\n",
              "  inputElement.disabled = false;\n",
              "\n",
              "  const outputElement = document.getElementById(outputId);\n",
              "  outputElement.innerHTML = '';\n",
              "\n",
              "  const pickedPromise = new Promise((resolve) => {\n",
              "    inputElement.addEventListener('change', (e) => {\n",
              "      resolve(e.target.files);\n",
              "    });\n",
              "  });\n",
              "\n",
              "  const cancel = document.createElement('button');\n",
              "  inputElement.parentElement.appendChild(cancel);\n",
              "  cancel.textContent = 'Cancel upload';\n",
              "  const cancelPromise = new Promise((resolve) => {\n",
              "    cancel.onclick = () => {\n",
              "      resolve(null);\n",
              "    };\n",
              "  });\n",
              "\n",
              "  // Wait for the user to pick the files.\n",
              "  const files = yield {\n",
              "    promise: Promise.race([pickedPromise, cancelPromise]),\n",
              "    response: {\n",
              "      action: 'starting',\n",
              "    }\n",
              "  };\n",
              "\n",
              "  cancel.remove();\n",
              "\n",
              "  // Disable the input element since further picks are not allowed.\n",
              "  inputElement.disabled = true;\n",
              "\n",
              "  if (!files) {\n",
              "    return {\n",
              "      response: {\n",
              "        action: 'complete',\n",
              "      }\n",
              "    };\n",
              "  }\n",
              "\n",
              "  for (const file of files) {\n",
              "    const li = document.createElement('li');\n",
              "    li.append(span(file.name, {fontWeight: 'bold'}));\n",
              "    li.append(span(\n",
              "        `(${file.type || 'n/a'}) - ${file.size} bytes, ` +\n",
              "        `last modified: ${\n",
              "            file.lastModifiedDate ? file.lastModifiedDate.toLocaleDateString() :\n",
              "                                    'n/a'} - `));\n",
              "    const percent = span('0% done');\n",
              "    li.appendChild(percent);\n",
              "\n",
              "    outputElement.appendChild(li);\n",
              "\n",
              "    const fileDataPromise = new Promise((resolve) => {\n",
              "      const reader = new FileReader();\n",
              "      reader.onload = (e) => {\n",
              "        resolve(e.target.result);\n",
              "      };\n",
              "      reader.readAsArrayBuffer(file);\n",
              "    });\n",
              "    // Wait for the data to be ready.\n",
              "    let fileData = yield {\n",
              "      promise: fileDataPromise,\n",
              "      response: {\n",
              "        action: 'continue',\n",
              "      }\n",
              "    };\n",
              "\n",
              "    // Use a chunked sending to avoid message size limits. See b/62115660.\n",
              "    let position = 0;\n",
              "    do {\n",
              "      const length = Math.min(fileData.byteLength - position, MAX_PAYLOAD_SIZE);\n",
              "      const chunk = new Uint8Array(fileData, position, length);\n",
              "      position += length;\n",
              "\n",
              "      const base64 = btoa(String.fromCharCode.apply(null, chunk));\n",
              "      yield {\n",
              "        response: {\n",
              "          action: 'append',\n",
              "          file: file.name,\n",
              "          data: base64,\n",
              "        },\n",
              "      };\n",
              "\n",
              "      let percentDone = fileData.byteLength === 0 ?\n",
              "          100 :\n",
              "          Math.round((position / fileData.byteLength) * 100);\n",
              "      percent.textContent = `${percentDone}% done`;\n",
              "\n",
              "    } while (position < fileData.byteLength);\n",
              "  }\n",
              "\n",
              "  // All done.\n",
              "  yield {\n",
              "    response: {\n",
              "      action: 'complete',\n",
              "    }\n",
              "  };\n",
              "}\n",
              "\n",
              "scope.google = scope.google || {};\n",
              "scope.google.colab = scope.google.colab || {};\n",
              "scope.google.colab._files = {\n",
              "  _uploadFiles,\n",
              "  _uploadFilesContinue,\n",
              "};\n",
              "})(self);\n",
              "</script> "
            ]
          },
          "metadata": {}
        },
        {
          "output_type": "stream",
          "name": "stdout",
          "text": [
            "Saving kaggle.json to kaggle.json\n"
          ]
        }
      ]
    },
    {
      "cell_type": "code",
      "source": [
        " ! mkdir ~/.kaggle\n",
        " ! cp kaggle.json ~/.kaggle/\n",
        " ! chmod 600 ~/.kaggle/kaggle.json"
      ],
      "metadata": {
        "id": "EEYWp-JnNcxd"
      },
      "execution_count": 4,
      "outputs": []
    },
    {
      "cell_type": "code",
      "source": [
        "! kaggle competitions download -c h-and-m-personalized-fashion-recommendations -f transactions_train.csv"
      ],
      "metadata": {
        "colab": {
          "base_uri": "https://localhost:8080/"
        },
        "id": "ZXTEAzFsNgEM",
        "outputId": "1de1f716-d1b7-4fe2-c207-e971e56884b0"
      },
      "execution_count": 5,
      "outputs": [
        {
          "output_type": "stream",
          "name": "stdout",
          "text": [
            "Downloading transactions_train.csv.zip to /content\n",
            " 99% 577M/584M [00:07<00:00, 70.6MB/s]\n",
            "100% 584M/584M [00:07<00:00, 78.1MB/s]\n"
          ]
        }
      ]
    },
    {
      "cell_type": "code",
      "source": [
        "transaction_df = pd.read_csv('/content/transactions_train.csv.zip')\n",
        "transaction_df.head()"
      ],
      "metadata": {
        "colab": {
          "base_uri": "https://localhost:8080/",
          "height": 206
        },
        "id": "5VGsv1cXNhgq",
        "outputId": "29e2e56e-77b2-456b-9875-806b56cf4e17"
      },
      "execution_count": 6,
      "outputs": [
        {
          "output_type": "execute_result",
          "data": {
            "text/plain": [
              "        t_dat                                        customer_id  article_id  \\\n",
              "0  2018-09-20  000058a12d5b43e67d225668fa1f8d618c13dc232df0ca...   663713001   \n",
              "1  2018-09-20  000058a12d5b43e67d225668fa1f8d618c13dc232df0ca...   541518023   \n",
              "2  2018-09-20  00007d2de826758b65a93dd24ce629ed66842531df6699...   505221004   \n",
              "3  2018-09-20  00007d2de826758b65a93dd24ce629ed66842531df6699...   685687003   \n",
              "4  2018-09-20  00007d2de826758b65a93dd24ce629ed66842531df6699...   685687004   \n",
              "\n",
              "      price  sales_channel_id  \n",
              "0  0.050831                 2  \n",
              "1  0.030492                 2  \n",
              "2  0.015237                 2  \n",
              "3  0.016932                 2  \n",
              "4  0.016932                 2  "
            ],
            "text/html": [
              "\n",
              "  <div id=\"df-230ac154-3703-4648-935e-1f25eaf083d7\">\n",
              "    <div class=\"colab-df-container\">\n",
              "      <div>\n",
              "<style scoped>\n",
              "    .dataframe tbody tr th:only-of-type {\n",
              "        vertical-align: middle;\n",
              "    }\n",
              "\n",
              "    .dataframe tbody tr th {\n",
              "        vertical-align: top;\n",
              "    }\n",
              "\n",
              "    .dataframe thead th {\n",
              "        text-align: right;\n",
              "    }\n",
              "</style>\n",
              "<table border=\"1\" class=\"dataframe\">\n",
              "  <thead>\n",
              "    <tr style=\"text-align: right;\">\n",
              "      <th></th>\n",
              "      <th>t_dat</th>\n",
              "      <th>customer_id</th>\n",
              "      <th>article_id</th>\n",
              "      <th>price</th>\n",
              "      <th>sales_channel_id</th>\n",
              "    </tr>\n",
              "  </thead>\n",
              "  <tbody>\n",
              "    <tr>\n",
              "      <th>0</th>\n",
              "      <td>2018-09-20</td>\n",
              "      <td>000058a12d5b43e67d225668fa1f8d618c13dc232df0ca...</td>\n",
              "      <td>663713001</td>\n",
              "      <td>0.050831</td>\n",
              "      <td>2</td>\n",
              "    </tr>\n",
              "    <tr>\n",
              "      <th>1</th>\n",
              "      <td>2018-09-20</td>\n",
              "      <td>000058a12d5b43e67d225668fa1f8d618c13dc232df0ca...</td>\n",
              "      <td>541518023</td>\n",
              "      <td>0.030492</td>\n",
              "      <td>2</td>\n",
              "    </tr>\n",
              "    <tr>\n",
              "      <th>2</th>\n",
              "      <td>2018-09-20</td>\n",
              "      <td>00007d2de826758b65a93dd24ce629ed66842531df6699...</td>\n",
              "      <td>505221004</td>\n",
              "      <td>0.015237</td>\n",
              "      <td>2</td>\n",
              "    </tr>\n",
              "    <tr>\n",
              "      <th>3</th>\n",
              "      <td>2018-09-20</td>\n",
              "      <td>00007d2de826758b65a93dd24ce629ed66842531df6699...</td>\n",
              "      <td>685687003</td>\n",
              "      <td>0.016932</td>\n",
              "      <td>2</td>\n",
              "    </tr>\n",
              "    <tr>\n",
              "      <th>4</th>\n",
              "      <td>2018-09-20</td>\n",
              "      <td>00007d2de826758b65a93dd24ce629ed66842531df6699...</td>\n",
              "      <td>685687004</td>\n",
              "      <td>0.016932</td>\n",
              "      <td>2</td>\n",
              "    </tr>\n",
              "  </tbody>\n",
              "</table>\n",
              "</div>\n",
              "      <button class=\"colab-df-convert\" onclick=\"convertToInteractive('df-230ac154-3703-4648-935e-1f25eaf083d7')\"\n",
              "              title=\"Convert this dataframe to an interactive table.\"\n",
              "              style=\"display:none;\">\n",
              "        \n",
              "  <svg xmlns=\"http://www.w3.org/2000/svg\" height=\"24px\"viewBox=\"0 0 24 24\"\n",
              "       width=\"24px\">\n",
              "    <path d=\"M0 0h24v24H0V0z\" fill=\"none\"/>\n",
              "    <path d=\"M18.56 5.44l.94 2.06.94-2.06 2.06-.94-2.06-.94-.94-2.06-.94 2.06-2.06.94zm-11 1L8.5 8.5l.94-2.06 2.06-.94-2.06-.94L8.5 2.5l-.94 2.06-2.06.94zm10 10l.94 2.06.94-2.06 2.06-.94-2.06-.94-.94-2.06-.94 2.06-2.06.94z\"/><path d=\"M17.41 7.96l-1.37-1.37c-.4-.4-.92-.59-1.43-.59-.52 0-1.04.2-1.43.59L10.3 9.45l-7.72 7.72c-.78.78-.78 2.05 0 2.83L4 21.41c.39.39.9.59 1.41.59.51 0 1.02-.2 1.41-.59l7.78-7.78 2.81-2.81c.8-.78.8-2.07 0-2.86zM5.41 20L4 18.59l7.72-7.72 1.47 1.35L5.41 20z\"/>\n",
              "  </svg>\n",
              "      </button>\n",
              "      \n",
              "  <style>\n",
              "    .colab-df-container {\n",
              "      display:flex;\n",
              "      flex-wrap:wrap;\n",
              "      gap: 12px;\n",
              "    }\n",
              "\n",
              "    .colab-df-convert {\n",
              "      background-color: #E8F0FE;\n",
              "      border: none;\n",
              "      border-radius: 50%;\n",
              "      cursor: pointer;\n",
              "      display: none;\n",
              "      fill: #1967D2;\n",
              "      height: 32px;\n",
              "      padding: 0 0 0 0;\n",
              "      width: 32px;\n",
              "    }\n",
              "\n",
              "    .colab-df-convert:hover {\n",
              "      background-color: #E2EBFA;\n",
              "      box-shadow: 0px 1px 2px rgba(60, 64, 67, 0.3), 0px 1px 3px 1px rgba(60, 64, 67, 0.15);\n",
              "      fill: #174EA6;\n",
              "    }\n",
              "\n",
              "    [theme=dark] .colab-df-convert {\n",
              "      background-color: #3B4455;\n",
              "      fill: #D2E3FC;\n",
              "    }\n",
              "\n",
              "    [theme=dark] .colab-df-convert:hover {\n",
              "      background-color: #434B5C;\n",
              "      box-shadow: 0px 1px 3px 1px rgba(0, 0, 0, 0.15);\n",
              "      filter: drop-shadow(0px 1px 2px rgba(0, 0, 0, 0.3));\n",
              "      fill: #FFFFFF;\n",
              "    }\n",
              "  </style>\n",
              "\n",
              "      <script>\n",
              "        const buttonEl =\n",
              "          document.querySelector('#df-230ac154-3703-4648-935e-1f25eaf083d7 button.colab-df-convert');\n",
              "        buttonEl.style.display =\n",
              "          google.colab.kernel.accessAllowed ? 'block' : 'none';\n",
              "\n",
              "        async function convertToInteractive(key) {\n",
              "          const element = document.querySelector('#df-230ac154-3703-4648-935e-1f25eaf083d7');\n",
              "          const dataTable =\n",
              "            await google.colab.kernel.invokeFunction('convertToInteractive',\n",
              "                                                     [key], {});\n",
              "          if (!dataTable) return;\n",
              "\n",
              "          const docLinkHtml = 'Like what you see? Visit the ' +\n",
              "            '<a target=\"_blank\" href=https://colab.research.google.com/notebooks/data_table.ipynb>data table notebook</a>'\n",
              "            + ' to learn more about interactive tables.';\n",
              "          element.innerHTML = '';\n",
              "          dataTable['output_type'] = 'display_data';\n",
              "          await google.colab.output.renderOutput(dataTable, element);\n",
              "          const docLink = document.createElement('div');\n",
              "          docLink.innerHTML = docLinkHtml;\n",
              "          element.appendChild(docLink);\n",
              "        }\n",
              "      </script>\n",
              "    </div>\n",
              "  </div>\n",
              "  "
            ]
          },
          "metadata": {},
          "execution_count": 6
        }
      ]
    },
    {
      "cell_type": "markdown",
      "source": [
        "Keep 4 weeks as train and the last week as validation."
      ],
      "metadata": {
        "id": "n5kOdBIs1N3x"
      }
    },
    {
      "cell_type": "code",
      "source": [
        "print(\"All Transactions Date Range: {} to {}\".format(transaction_df['t_dat'].min(), transaction_df['t_dat'].max()))\n",
        "\n",
        "transaction_df[\"t_dat\"] = pd.to_datetime(transaction_df[\"t_dat\"])\n",
        "train1 = transaction_df.loc[(transaction_df[\"t_dat\"] >= datetime.datetime(2020,9,8)) & (transaction_df['t_dat'] < datetime.datetime(2020,9,16))]\n",
        "train2 = transaction_df.loc[(transaction_df[\"t_dat\"] >= datetime.datetime(2020,9,1)) & (transaction_df['t_dat'] < datetime.datetime(2020,9,8))]\n",
        "train3 = transaction_df.loc[(transaction_df[\"t_dat\"] >= datetime.datetime(2020,8,23)) & (transaction_df['t_dat'] < datetime.datetime(2020,9,1))]\n",
        "train4 = transaction_df.loc[(transaction_df[\"t_dat\"] >= datetime.datetime(2020,8,15)) & (transaction_df['t_dat'] < datetime.datetime(2020,8,23))]\n",
        "\n",
        "val = transaction_df.loc[transaction_df[\"t_dat\"] >= datetime.datetime(2020,9,16)]"
      ],
      "metadata": {
        "colab": {
          "base_uri": "https://localhost:8080/"
        },
        "id": "TRudenEVQaHO",
        "outputId": "6669c66d-e6df-48cf-c6be-1a3d0fb92727"
      },
      "execution_count": 7,
      "outputs": [
        {
          "output_type": "stream",
          "name": "stdout",
          "text": [
            "All Transactions Date Range: 2018-09-20 to 2020-09-22\n"
          ]
        }
      ]
    },
    {
      "cell_type": "code",
      "source": [
        "# List of all purchases per user (has repetitions)\n",
        "positive_items_per_user1 = train1.groupby(['customer_id'])['article_id'].apply(list)\n",
        "positive_items_per_user2 = train2.groupby(['customer_id'])['article_id'].apply(list)\n",
        "positive_items_per_user3 = train3.groupby(['customer_id'])['article_id'].apply(list)\n",
        "positive_items_per_user4 = train4.groupby(['customer_id'])['article_id'].apply(list)"
      ],
      "metadata": {
        "id": "1sX4q9321Tub"
      },
      "execution_count": 8,
      "outputs": []
    },
    {
      "cell_type": "markdown",
      "source": [
        "# popularity (time-weighted)"
      ],
      "metadata": {
        "id": "zT-t3Lrv3UNX"
      }
    },
    {
      "cell_type": "markdown",
      "source": [
        "Next we do time decay based popularity for items. This leads to items bought more recently having more weight in the popularity list. In simple words, item A bought 5 times on the first day of the train period is inferior than item B bought 4 times on the last day of the train period."
      ],
      "metadata": {
        "id": "fE4XAmtA3V9z"
      }
    },
    {
      "cell_type": "code",
      "source": [
        "train = pd.concat([train1, train2, train3, train4], axis=0)\n",
        "train['pop_factor'] = train['t_dat'].apply(lambda x: 1/(datetime.datetime(2020,9,16) - x).days)\n",
        "train['pop_factor'].describe()"
      ],
      "metadata": {
        "colab": {
          "base_uri": "https://localhost:8080/"
        },
        "id": "G-h7BYBf1dQ2",
        "outputId": "dc5568fb-5da9-466b-d080-b14b63229087"
      },
      "execution_count": 9,
      "outputs": [
        {
          "output_type": "execute_result",
          "data": {
            "text/plain": [
              "count    1.179208e+06\n",
              "mean     1.182349e-01\n",
              "std      1.629160e-01\n",
              "min      3.125000e-02\n",
              "25%      4.166667e-02\n",
              "50%      6.250000e-02\n",
              "75%      1.111111e-01\n",
              "max      1.000000e+00\n",
              "Name: pop_factor, dtype: float64"
            ]
          },
          "metadata": {},
          "execution_count": 9
        }
      ]
    },
    {
      "cell_type": "code",
      "source": [
        "popular_items_group = train.groupby(['article_id'])['pop_factor'].sum()\n",
        "\n",
        "_, popular_items = zip(*sorted(zip(popular_items_group, popular_items_group.keys()))[::-1])"
      ],
      "metadata": {
        "id": "Yih3a_bb1swo"
      },
      "execution_count": 10,
      "outputs": []
    },
    {
      "cell_type": "markdown",
      "source": [
        "# purchase history (up to 4 weeks)"
      ],
      "metadata": {
        "id": "jmvKnC33neqL"
      }
    },
    {
      "cell_type": "markdown",
      "source": [
        "Find items that bought by each user in the past month"
      ],
      "metadata": {
        "id": "b3UKVbTsnpEm"
      }
    },
    {
      "cell_type": "code",
      "source": [
        "train = pd.concat([train1, train2, train3, train4], axis=0)\n",
        "# List of all purchases per user \n",
        "items_per_user = train.groupby(['customer_id'])['article_id'].apply(list) "
      ],
      "metadata": {
        "id": "Z0eCieANsBZa"
      },
      "execution_count": 35,
      "outputs": []
    },
    {
      "cell_type": "code",
      "source": [
        "def purchase_history(user, purchase_data_group):\n",
        "  most_common_items_of_user = list({k:v for k, v in Counter(items_per_user[user]).most_common()}.keys())\n",
        "  return most_common_items_of_user"
      ],
      "metadata": {
        "id": "zcLTdjbKn0bD"
      },
      "execution_count": null,
      "outputs": []
    },
    {
      "cell_type": "markdown",
      "source": [
        "# relative items to what the user recently purchased (items bought together)"
      ],
      "metadata": {
        "id": "98cb7gDhnCym"
      }
    },
    {
      "cell_type": "code",
      "source": [],
      "metadata": {
        "id": "328P4pzwu-0f"
      },
      "execution_count": null,
      "outputs": []
    },
    {
      "cell_type": "markdown",
      "source": [
        "# Validation"
      ],
      "metadata": {
        "id": "G7wvs4pinKat"
      }
    },
    {
      "cell_type": "markdown",
      "source": [
        "Define evaluation metric: Mean Average Precision @ 12"
      ],
      "metadata": {
        "id": "1yy0h4wq6wrV"
      }
    },
    {
      "cell_type": "code",
      "source": [
        "def apk(actual, predicted, k=12):\n",
        "    if len(predicted)>k:\n",
        "        predicted = predicted[:k]\n",
        "\n",
        "    score = 0.0\n",
        "    num_hits = 0.0\n",
        "\n",
        "    for i,p in enumerate(predicted):\n",
        "        if p in actual and p not in predicted[:i]:\n",
        "            num_hits += 1.0\n",
        "            score += num_hits / (i+1.0)\n",
        "\n",
        "    if not actual:\n",
        "        return 0.0\n",
        "\n",
        "    return score / min(len(actual), k)\n",
        "\n",
        "def mapk(actual, predicted, k=12):\n",
        "    return np.mean([apk(a,p,k) for a,p in zip(actual, predicted)])"
      ],
      "metadata": {
        "id": "iEIGPoZk5uRa"
      },
      "execution_count": 11,
      "outputs": []
    },
    {
      "cell_type": "markdown",
      "source": [
        "construct data set with items bought by users in the validation period."
      ],
      "metadata": {
        "id": "iEgKzbUVAmUq"
      }
    },
    {
      "cell_type": "code",
      "source": [
        "positive_items_val = val.groupby(['customer_id'])['article_id'].apply(list)"
      ],
      "metadata": {
        "id": "NT6xLcRtAkZV"
      },
      "execution_count": 12,
      "outputs": []
    },
    {
      "cell_type": "code",
      "source": [
        "# creating validation set for metrics use case\n",
        "val_users = positive_items_val.keys()\n",
        "val_items = []\n",
        "\n",
        "for i,user in enumerate(val_users):\n",
        "    val_items.append(positive_items_val[user])\n",
        "    \n",
        "print(\"Total users in validation:\", len(val_users))"
      ],
      "metadata": {
        "colab": {
          "base_uri": "https://localhost:8080/"
        },
        "id": "aSPpisLBAxZ8",
        "outputId": "1654c738-46de-4f44-e34f-087225bf398e"
      },
      "execution_count": 13,
      "outputs": [
        {
          "output_type": "stream",
          "name": "stdout",
          "text": [
            "Total users in validation: 68984\n"
          ]
        }
      ]
    },
    {
      "cell_type": "markdown",
      "source": [
        "Test the strategy on validation set"
      ],
      "metadata": {
        "id": "b7RmVEXZFQtM"
      }
    },
    {
      "cell_type": "code",
      "source": [
        "from collections import Counter\n",
        "outputs = []\n",
        "cnt = 0\n",
        "\n",
        "popular_items = list(popular_items)\n",
        "\n",
        "for user in tqdm(val_users):\n",
        "    user_output = []\n",
        "    if user in positive_items_per_user1.keys():\n",
        "        most_common_items_of_user = {k:v for k, v in Counter(positive_items_per_user1[user]).most_common()}\n",
        "        user_output += list(most_common_items_of_user.keys())[:12]\n",
        "    if user in positive_items_per_user2.keys():\n",
        "        most_common_items_of_user = {k:v for k, v in Counter(positive_items_per_user2[user]).most_common()}\n",
        "        user_output += list(most_common_items_of_user.keys())[:12]\n",
        "    if user in positive_items_per_user3.keys():\n",
        "        most_common_items_of_user = {k:v for k, v in Counter(positive_items_per_user3[user]).most_common()}\n",
        "        user_output += list(most_common_items_of_user.keys())[:12]\n",
        "    if user in positive_items_per_user4.keys():\n",
        "        most_common_items_of_user = {k:v for k, v in Counter(positive_items_per_user4[user]).most_common()}\n",
        "        user_output += list(most_common_items_of_user.keys())[:12]\n",
        "    \n",
        "    user_output += list(popular_items[:12 - len(user_output)])\n",
        "    outputs.append(user_output)\n",
        "    \n",
        "print(\"mAP Score on Validation set:\", mapk(val_items, outputs))"
      ],
      "metadata": {
        "id": "v_CL3ctLFGjJ",
        "colab": {
          "base_uri": "https://localhost:8080/"
        },
        "outputId": "c76ae82a-711e-4d0f-9e9a-8d02c12ffe3e"
      },
      "execution_count": 14,
      "outputs": [
        {
          "output_type": "stream",
          "name": "stderr",
          "text": [
            "100%|██████████| 68984/68984 [00:04<00:00, 15542.77it/s]\n"
          ]
        },
        {
          "output_type": "stream",
          "name": "stdout",
          "text": [
            "mAP Score on Validation set: 0.023448012511813318\n"
          ]
        }
      ]
    }
  ]
}