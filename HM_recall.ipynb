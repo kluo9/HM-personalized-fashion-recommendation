{
  "nbformat": 4,
  "nbformat_minor": 0,
  "metadata": {
    "colab": {
      "provenance": [],
      "toc_visible": true,
      "authorship_tag": "ABX9TyO92m8HHY9A11DHNMjW5Bi3",
      "include_colab_link": true
    },
    "kernelspec": {
      "name": "python3",
      "display_name": "Python 3"
    },
    "language_info": {
      "name": "python"
    }
  },
  "cells": [
    {
      "cell_type": "markdown",
      "metadata": {
        "id": "view-in-github",
        "colab_type": "text"
      },
      "source": [
        "<a href=\"https://colab.research.google.com/github/kluo9/HM-personalized-fashion-recommendation/blob/main/HM_recall.ipynb\" target=\"_parent\"><img src=\"https://colab.research.google.com/assets/colab-badge.svg\" alt=\"Open In Colab\"/></a>"
      ]
    },
    {
      "cell_type": "markdown",
      "source": [
        "The purpose of recall stage is to reduce the number of items from about 100K to a few hundreds for next stage ranking. \n",
        "The goal is to include as few items as possible that are likely to be bought by the user in next week but not excluding any potential items.\n",
        "\n",
        "The evaluation of the recall stage is \n",
        "1. Precision: the number of items that were purchased / total number of items recalled\n",
        "2. Item Recall Rate: the number of items that were purchased / total number of items user purchased\n",
        "3. User Recall Rate: the number of users who purchased the item recalled / total number of users\n",
        "\n",
        "The recall strategy:\n",
        "1. popularity (time-weighted)\n",
        "2. purchase history (up to 4 weeks)\n",
        "3. related items to what the user recently purchased (items bought together)\n",
        "4. popular items under user's attributes (age)\n",
        "5. same section_name items\n",
        "6. generate item embedding and user embedding, and find items by closest embedding to user embedding.\n"
      ],
      "metadata": {
        "id": "VNI9oUH8JvTt"
      }
    },
    {
      "cell_type": "code",
      "source": [
        "import numpy as np\n",
        "import pandas as pd\n",
        "import os\n",
        "import glob\n",
        "from tqdm import tqdm\n",
        "import datetime\n",
        "from scipy import stats\n",
        "from collections import defaultdict\n",
        "from collections import Counter"
      ],
      "metadata": {
        "id": "YLzAJSKeMrCb"
      },
      "execution_count": 1,
      "outputs": []
    },
    {
      "cell_type": "markdown",
      "source": [
        "# Read data"
      ],
      "metadata": {
        "id": "8R5gmxdaNKy5"
      }
    },
    {
      "cell_type": "code",
      "source": [
        "! pip install -q kaggle\n",
        "from google.colab import files"
      ],
      "metadata": {
        "id": "DWu5q7TfNJvf"
      },
      "execution_count": 2,
      "outputs": []
    },
    {
      "cell_type": "code",
      "source": [
        "uploaded = files.upload() # upload kaggle token downloaded from kaggle personal account page 'kaggle.json'"
      ],
      "metadata": {
        "colab": {
          "base_uri": "https://localhost:8080/",
          "height": 73
        },
        "id": "R2SHywaQNQPl",
        "outputId": "acd8436b-1ac2-4d45-8846-d86973e9b2b0"
      },
      "execution_count": 3,
      "outputs": [
        {
          "output_type": "display_data",
          "data": {
            "text/plain": [
              "<IPython.core.display.HTML object>"
            ],
            "text/html": [
              "\n",
              "     <input type=\"file\" id=\"files-64f07538-722f-4d81-a096-5cc1a93fc370\" name=\"files[]\" multiple disabled\n",
              "        style=\"border:none\" />\n",
              "     <output id=\"result-64f07538-722f-4d81-a096-5cc1a93fc370\">\n",
              "      Upload widget is only available when the cell has been executed in the\n",
              "      current browser session. Please rerun this cell to enable.\n",
              "      </output>\n",
              "      <script>// Copyright 2017 Google LLC\n",
              "//\n",
              "// Licensed under the Apache License, Version 2.0 (the \"License\");\n",
              "// you may not use this file except in compliance with the License.\n",
              "// You may obtain a copy of the License at\n",
              "//\n",
              "//      http://www.apache.org/licenses/LICENSE-2.0\n",
              "//\n",
              "// Unless required by applicable law or agreed to in writing, software\n",
              "// distributed under the License is distributed on an \"AS IS\" BASIS,\n",
              "// WITHOUT WARRANTIES OR CONDITIONS OF ANY KIND, either express or implied.\n",
              "// See the License for the specific language governing permissions and\n",
              "// limitations under the License.\n",
              "\n",
              "/**\n",
              " * @fileoverview Helpers for google.colab Python module.\n",
              " */\n",
              "(function(scope) {\n",
              "function span(text, styleAttributes = {}) {\n",
              "  const element = document.createElement('span');\n",
              "  element.textContent = text;\n",
              "  for (const key of Object.keys(styleAttributes)) {\n",
              "    element.style[key] = styleAttributes[key];\n",
              "  }\n",
              "  return element;\n",
              "}\n",
              "\n",
              "// Max number of bytes which will be uploaded at a time.\n",
              "const MAX_PAYLOAD_SIZE = 100 * 1024;\n",
              "\n",
              "function _uploadFiles(inputId, outputId) {\n",
              "  const steps = uploadFilesStep(inputId, outputId);\n",
              "  const outputElement = document.getElementById(outputId);\n",
              "  // Cache steps on the outputElement to make it available for the next call\n",
              "  // to uploadFilesContinue from Python.\n",
              "  outputElement.steps = steps;\n",
              "\n",
              "  return _uploadFilesContinue(outputId);\n",
              "}\n",
              "\n",
              "// This is roughly an async generator (not supported in the browser yet),\n",
              "// where there are multiple asynchronous steps and the Python side is going\n",
              "// to poll for completion of each step.\n",
              "// This uses a Promise to block the python side on completion of each step,\n",
              "// then passes the result of the previous step as the input to the next step.\n",
              "function _uploadFilesContinue(outputId) {\n",
              "  const outputElement = document.getElementById(outputId);\n",
              "  const steps = outputElement.steps;\n",
              "\n",
              "  const next = steps.next(outputElement.lastPromiseValue);\n",
              "  return Promise.resolve(next.value.promise).then((value) => {\n",
              "    // Cache the last promise value to make it available to the next\n",
              "    // step of the generator.\n",
              "    outputElement.lastPromiseValue = value;\n",
              "    return next.value.response;\n",
              "  });\n",
              "}\n",
              "\n",
              "/**\n",
              " * Generator function which is called between each async step of the upload\n",
              " * process.\n",
              " * @param {string} inputId Element ID of the input file picker element.\n",
              " * @param {string} outputId Element ID of the output display.\n",
              " * @return {!Iterable<!Object>} Iterable of next steps.\n",
              " */\n",
              "function* uploadFilesStep(inputId, outputId) {\n",
              "  const inputElement = document.getElementById(inputId);\n",
              "  inputElement.disabled = false;\n",
              "\n",
              "  const outputElement = document.getElementById(outputId);\n",
              "  outputElement.innerHTML = '';\n",
              "\n",
              "  const pickedPromise = new Promise((resolve) => {\n",
              "    inputElement.addEventListener('change', (e) => {\n",
              "      resolve(e.target.files);\n",
              "    });\n",
              "  });\n",
              "\n",
              "  const cancel = document.createElement('button');\n",
              "  inputElement.parentElement.appendChild(cancel);\n",
              "  cancel.textContent = 'Cancel upload';\n",
              "  const cancelPromise = new Promise((resolve) => {\n",
              "    cancel.onclick = () => {\n",
              "      resolve(null);\n",
              "    };\n",
              "  });\n",
              "\n",
              "  // Wait for the user to pick the files.\n",
              "  const files = yield {\n",
              "    promise: Promise.race([pickedPromise, cancelPromise]),\n",
              "    response: {\n",
              "      action: 'starting',\n",
              "    }\n",
              "  };\n",
              "\n",
              "  cancel.remove();\n",
              "\n",
              "  // Disable the input element since further picks are not allowed.\n",
              "  inputElement.disabled = true;\n",
              "\n",
              "  if (!files) {\n",
              "    return {\n",
              "      response: {\n",
              "        action: 'complete',\n",
              "      }\n",
              "    };\n",
              "  }\n",
              "\n",
              "  for (const file of files) {\n",
              "    const li = document.createElement('li');\n",
              "    li.append(span(file.name, {fontWeight: 'bold'}));\n",
              "    li.append(span(\n",
              "        `(${file.type || 'n/a'}) - ${file.size} bytes, ` +\n",
              "        `last modified: ${\n",
              "            file.lastModifiedDate ? file.lastModifiedDate.toLocaleDateString() :\n",
              "                                    'n/a'} - `));\n",
              "    const percent = span('0% done');\n",
              "    li.appendChild(percent);\n",
              "\n",
              "    outputElement.appendChild(li);\n",
              "\n",
              "    const fileDataPromise = new Promise((resolve) => {\n",
              "      const reader = new FileReader();\n",
              "      reader.onload = (e) => {\n",
              "        resolve(e.target.result);\n",
              "      };\n",
              "      reader.readAsArrayBuffer(file);\n",
              "    });\n",
              "    // Wait for the data to be ready.\n",
              "    let fileData = yield {\n",
              "      promise: fileDataPromise,\n",
              "      response: {\n",
              "        action: 'continue',\n",
              "      }\n",
              "    };\n",
              "\n",
              "    // Use a chunked sending to avoid message size limits. See b/62115660.\n",
              "    let position = 0;\n",
              "    do {\n",
              "      const length = Math.min(fileData.byteLength - position, MAX_PAYLOAD_SIZE);\n",
              "      const chunk = new Uint8Array(fileData, position, length);\n",
              "      position += length;\n",
              "\n",
              "      const base64 = btoa(String.fromCharCode.apply(null, chunk));\n",
              "      yield {\n",
              "        response: {\n",
              "          action: 'append',\n",
              "          file: file.name,\n",
              "          data: base64,\n",
              "        },\n",
              "      };\n",
              "\n",
              "      let percentDone = fileData.byteLength === 0 ?\n",
              "          100 :\n",
              "          Math.round((position / fileData.byteLength) * 100);\n",
              "      percent.textContent = `${percentDone}% done`;\n",
              "\n",
              "    } while (position < fileData.byteLength);\n",
              "  }\n",
              "\n",
              "  // All done.\n",
              "  yield {\n",
              "    response: {\n",
              "      action: 'complete',\n",
              "    }\n",
              "  };\n",
              "}\n",
              "\n",
              "scope.google = scope.google || {};\n",
              "scope.google.colab = scope.google.colab || {};\n",
              "scope.google.colab._files = {\n",
              "  _uploadFiles,\n",
              "  _uploadFilesContinue,\n",
              "};\n",
              "})(self);\n",
              "</script> "
            ]
          },
          "metadata": {}
        },
        {
          "output_type": "stream",
          "name": "stdout",
          "text": [
            "Saving kaggle.json to kaggle (1).json\n"
          ]
        }
      ]
    },
    {
      "cell_type": "code",
      "source": [
        " ! mkdir ~/.kaggle\n",
        " ! cp kaggle.json ~/.kaggle/\n",
        " ! chmod 600 ~/.kaggle/kaggle.json"
      ],
      "metadata": {
        "id": "EEYWp-JnNcxd",
        "colab": {
          "base_uri": "https://localhost:8080/"
        },
        "outputId": "e2c7c371-bb48-4395-f0ea-1e31363326ce"
      },
      "execution_count": 4,
      "outputs": [
        {
          "output_type": "stream",
          "name": "stdout",
          "text": [
            "mkdir: cannot create directory ‘/root/.kaggle’: File exists\n"
          ]
        }
      ]
    },
    {
      "cell_type": "code",
      "source": [
        "! kaggle competitions download -c h-and-m-personalized-fashion-recommendations -f transactions_train.csv"
      ],
      "metadata": {
        "colab": {
          "base_uri": "https://localhost:8080/"
        },
        "id": "ZXTEAzFsNgEM",
        "outputId": "05d7e047-d4f4-498f-912f-e2e4aec3ca13"
      },
      "execution_count": 5,
      "outputs": [
        {
          "output_type": "stream",
          "name": "stdout",
          "text": [
            "transactions_train.csv.zip: Skipping, found more recently modified local copy (use --force to force download)\n"
          ]
        }
      ]
    },
    {
      "cell_type": "code",
      "source": [
        "transaction_df = pd.read_csv('/content/transactions_train.csv.zip')\n",
        "transaction_df.head()"
      ],
      "metadata": {
        "id": "5VGsv1cXNhgq"
      },
      "execution_count": null,
      "outputs": []
    },
    {
      "cell_type": "markdown",
      "source": [
        "Keep 4 weeks as train and the last week as validation."
      ],
      "metadata": {
        "id": "n5kOdBIs1N3x"
      }
    },
    {
      "cell_type": "code",
      "source": [
        "print(\"All Transactions Date Range: {} to {}\".format(transaction_df['t_dat'].min(), transaction_df['t_dat'].max()))\n",
        "\n",
        "transaction_df[\"t_dat\"] = pd.to_datetime(transaction_df[\"t_dat\"])\n",
        "train1 = transaction_df.loc[(transaction_df[\"t_dat\"] >= datetime.datetime(2020,9,8)) & (transaction_df['t_dat'] < datetime.datetime(2020,9,16))]\n",
        "train2 = transaction_df.loc[(transaction_df[\"t_dat\"] >= datetime.datetime(2020,9,1)) & (transaction_df['t_dat'] < datetime.datetime(2020,9,8))]\n",
        "train3 = transaction_df.loc[(transaction_df[\"t_dat\"] >= datetime.datetime(2020,8,23)) & (transaction_df['t_dat'] < datetime.datetime(2020,9,1))]\n",
        "train4 = transaction_df.loc[(transaction_df[\"t_dat\"] >= datetime.datetime(2020,8,15)) & (transaction_df['t_dat'] < datetime.datetime(2020,8,23))]\n",
        "\n",
        "val = transaction_df.loc[transaction_df[\"t_dat\"] >= datetime.datetime(2020,9,16)]"
      ],
      "metadata": {
        "id": "TRudenEVQaHO"
      },
      "execution_count": null,
      "outputs": []
    },
    {
      "cell_type": "code",
      "source": [
        "del transaction_df"
      ],
      "metadata": {
        "id": "SExM3ocYjfz_"
      },
      "execution_count": null,
      "outputs": []
    },
    {
      "cell_type": "code",
      "source": [
        "# List of all purchases per user (has repetitions)\n",
        "positive_items_per_user1 = train1.groupby(['customer_id'])['article_id'].apply(list)\n",
        "positive_items_per_user2 = train2.groupby(['customer_id'])['article_id'].apply(list)\n",
        "positive_items_per_user3 = train3.groupby(['customer_id'])['article_id'].apply(list)\n",
        "positive_items_per_user4 = train4.groupby(['customer_id'])['article_id'].apply(list)"
      ],
      "metadata": {
        "id": "1sX4q9321Tub"
      },
      "execution_count": null,
      "outputs": []
    },
    {
      "cell_type": "markdown",
      "source": [
        "# popularity (time-weighted)"
      ],
      "metadata": {
        "id": "zT-t3Lrv3UNX"
      }
    },
    {
      "cell_type": "markdown",
      "source": [
        "Next we do time decay based popularity for items. This leads to items bought more recently having more weight in the popularity list. In simple words, item A bought 5 times on the first day of the train period is inferior than item B bought 4 times on the last day of the train period."
      ],
      "metadata": {
        "id": "fE4XAmtA3V9z"
      }
    },
    {
      "cell_type": "code",
      "source": [
        "train = pd.concat([train1, train2, train3, train4], axis=0)"
      ],
      "metadata": {
        "id": "G-h7BYBf1dQ2"
      },
      "execution_count": null,
      "outputs": []
    },
    {
      "cell_type": "code",
      "source": [
        "train['pop_factor'] = train['t_dat'].apply(lambda x: 1/(datetime.datetime(2020,9,16) - x).days)\n",
        "train['pop_factor'].describe()"
      ],
      "metadata": {
        "id": "lS4VvJSBtUVQ"
      },
      "execution_count": null,
      "outputs": []
    },
    {
      "cell_type": "code",
      "source": [
        "popular_items_group = train.groupby(['article_id'])['pop_factor'].sum()\n",
        "\n",
        "_, popular_items = zip(*sorted(zip(popular_items_group, popular_items_group.keys()))[::-1])"
      ],
      "metadata": {
        "id": "Yih3a_bb1swo"
      },
      "execution_count": null,
      "outputs": []
    },
    {
      "cell_type": "markdown",
      "source": [
        "# purchase history (up to 4 weeks)"
      ],
      "metadata": {
        "id": "jmvKnC33neqL"
      }
    },
    {
      "cell_type": "markdown",
      "source": [
        "Find items that bought by each user in the past month"
      ],
      "metadata": {
        "id": "b3UKVbTsnpEm"
      }
    },
    {
      "cell_type": "code",
      "source": [
        "train = pd.concat([train1, train2, train3, train4], axis=0)\n",
        "# List of all purchases per user \n",
        "items_per_user = train.groupby(['customer_id'])['article_id'].apply(list) "
      ],
      "metadata": {
        "id": "Z0eCieANsBZa"
      },
      "execution_count": null,
      "outputs": []
    },
    {
      "cell_type": "code",
      "source": [
        "def purchase_history(user, purchase_data_group):\n",
        "  most_common_items_of_user = list({k:v for k, v in Counter(items_per_user[user]).most_common()}.keys())\n",
        "  return most_common_items_of_user"
      ],
      "metadata": {
        "id": "zcLTdjbKn0bD"
      },
      "execution_count": null,
      "outputs": []
    },
    {
      "cell_type": "markdown",
      "source": [
        "# relative items to what the user recently purchased (items bought together)"
      ],
      "metadata": {
        "id": "98cb7gDhnCym"
      }
    },
    {
      "cell_type": "markdown",
      "source": [
        "Use the mlxtend library"
      ],
      "metadata": {
        "id": "eg-e46Ura8Z4"
      }
    },
    {
      "cell_type": "code",
      "source": [
        "! pip install -q mlxtend"
      ],
      "metadata": {
        "id": "ulQH6DOcalSE"
      },
      "execution_count": null,
      "outputs": []
    },
    {
      "cell_type": "markdown",
      "source": [
        "create dataset with items purchased together in each transaction"
      ],
      "metadata": {
        "id": "eNHf04IVVXmq"
      }
    },
    {
      "cell_type": "code",
      "source": [
        "items_per_user_transaction = train.groupby(['customer_id','t_dat'],group_keys=False)['article_id'].apply(list) "
      ],
      "metadata": {
        "id": "L1I1l1MBnYY6"
      },
      "execution_count": null,
      "outputs": []
    },
    {
      "cell_type": "markdown",
      "source": [
        "only keep list with len>1"
      ],
      "metadata": {
        "id": "uopiUY6NtiKd"
      }
    },
    {
      "cell_type": "code",
      "source": [
        "items_per_user_transaction_more = []\n",
        "for l in items_per_user_transaction:\n",
        "  if len(l) > 1:\n",
        "    items_per_user_transaction_more.append(l)"
      ],
      "metadata": {
        "id": "-GK5t-J3trbk"
      },
      "execution_count": null,
      "outputs": []
    },
    {
      "cell_type": "code",
      "source": [
        "del items_per_user_transaction"
      ],
      "metadata": {
        "id": "u0UR2qD6uLFv"
      },
      "execution_count": null,
      "outputs": []
    },
    {
      "cell_type": "code",
      "source": [
        "# one-hot encoding\n",
        "from mlxtend.preprocessing import TransactionEncoder\n",
        "from mlxtend.frequent_patterns import apriori\n",
        "\n",
        "# fit the TransactionEncoder\n",
        "te = TransactionEncoder()\n",
        "items_per_user_transaction_1hot = te.fit(items_per_user_transaction_more).transform(items_per_user_transaction_more)\n",
        "del items_per_user_transaction_more\n",
        "items_per_user_transaction_1hot = pd.DataFrame(items_per_user_transaction_1hot, columns=te.columns_)\n"
      ],
      "metadata": {
        "id": "hsHmUuwzsXvQ"
      },
      "execution_count": null,
      "outputs": []
    },
    {
      "cell_type": "markdown",
      "source": [
        "run the Apriori model"
      ],
      "metadata": {
        "id": "8YoM5kBiVGhH"
      }
    },
    {
      "cell_type": "code",
      "source": [
        "ar_ap = apriori(items_per_user_transaction_1hot, min_support=0.01, max_len=5,\n",
        "                use_colnames=True)"
      ],
      "metadata": {
        "id": "tRri8Py2uadf"
      },
      "execution_count": null,
      "outputs": []
    },
    {
      "cell_type": "code",
      "source": [
        "from google.colab import drive\n",
        "drive.mount('/content/gdrive')\n",
        "ar_ap = pd.read_csv('/content/gdrive/MyDrive/ar_ap.csv')\n",
        "ar_ap"
      ],
      "metadata": {
        "colab": {
          "base_uri": "https://localhost:8080/",
          "height": 441
        },
        "id": "IO22QG6TVjJy",
        "outputId": "3ec76b5e-3601-4f18-d665-42c634b03afe"
      },
      "execution_count": null,
      "outputs": [
        {
          "output_type": "stream",
          "name": "stdout",
          "text": [
            "Mounted at /content/gdrive\n"
          ]
        },
        {
          "output_type": "execute_result",
          "data": {
            "text/plain": [
              "      support                           itemsets\n",
              "0    0.001547             frozenset({156231001})\n",
              "1    0.002260             frozenset({158340001})\n",
              "2    0.002354             frozenset({160442007})\n",
              "3    0.001966             frozenset({160442010})\n",
              "4    0.001101             frozenset({253448003})\n",
              "..        ...                                ...\n",
              "699  0.001344  frozenset({909911001, 909912001})\n",
              "700  0.001532  frozenset({944506001, 909924002})\n",
              "701  0.001218  frozenset({915526001, 915526002})\n",
              "702  0.001191  frozenset({915529001, 915529003})\n",
              "703  0.001532  frozenset({935892001, 936622001})\n",
              "\n",
              "[704 rows x 2 columns]"
            ],
            "text/html": [
              "\n",
              "  <div id=\"df-3989bcad-8e87-4cc9-bae2-107ea845303e\">\n",
              "    <div class=\"colab-df-container\">\n",
              "      <div>\n",
              "<style scoped>\n",
              "    .dataframe tbody tr th:only-of-type {\n",
              "        vertical-align: middle;\n",
              "    }\n",
              "\n",
              "    .dataframe tbody tr th {\n",
              "        vertical-align: top;\n",
              "    }\n",
              "\n",
              "    .dataframe thead th {\n",
              "        text-align: right;\n",
              "    }\n",
              "</style>\n",
              "<table border=\"1\" class=\"dataframe\">\n",
              "  <thead>\n",
              "    <tr style=\"text-align: right;\">\n",
              "      <th></th>\n",
              "      <th>support</th>\n",
              "      <th>itemsets</th>\n",
              "    </tr>\n",
              "  </thead>\n",
              "  <tbody>\n",
              "    <tr>\n",
              "      <th>0</th>\n",
              "      <td>0.001547</td>\n",
              "      <td>frozenset({156231001})</td>\n",
              "    </tr>\n",
              "    <tr>\n",
              "      <th>1</th>\n",
              "      <td>0.002260</td>\n",
              "      <td>frozenset({158340001})</td>\n",
              "    </tr>\n",
              "    <tr>\n",
              "      <th>2</th>\n",
              "      <td>0.002354</td>\n",
              "      <td>frozenset({160442007})</td>\n",
              "    </tr>\n",
              "    <tr>\n",
              "      <th>3</th>\n",
              "      <td>0.001966</td>\n",
              "      <td>frozenset({160442010})</td>\n",
              "    </tr>\n",
              "    <tr>\n",
              "      <th>4</th>\n",
              "      <td>0.001101</td>\n",
              "      <td>frozenset({253448003})</td>\n",
              "    </tr>\n",
              "    <tr>\n",
              "      <th>...</th>\n",
              "      <td>...</td>\n",
              "      <td>...</td>\n",
              "    </tr>\n",
              "    <tr>\n",
              "      <th>699</th>\n",
              "      <td>0.001344</td>\n",
              "      <td>frozenset({909911001, 909912001})</td>\n",
              "    </tr>\n",
              "    <tr>\n",
              "      <th>700</th>\n",
              "      <td>0.001532</td>\n",
              "      <td>frozenset({944506001, 909924002})</td>\n",
              "    </tr>\n",
              "    <tr>\n",
              "      <th>701</th>\n",
              "      <td>0.001218</td>\n",
              "      <td>frozenset({915526001, 915526002})</td>\n",
              "    </tr>\n",
              "    <tr>\n",
              "      <th>702</th>\n",
              "      <td>0.001191</td>\n",
              "      <td>frozenset({915529001, 915529003})</td>\n",
              "    </tr>\n",
              "    <tr>\n",
              "      <th>703</th>\n",
              "      <td>0.001532</td>\n",
              "      <td>frozenset({935892001, 936622001})</td>\n",
              "    </tr>\n",
              "  </tbody>\n",
              "</table>\n",
              "<p>704 rows × 2 columns</p>\n",
              "</div>\n",
              "      <button class=\"colab-df-convert\" onclick=\"convertToInteractive('df-3989bcad-8e87-4cc9-bae2-107ea845303e')\"\n",
              "              title=\"Convert this dataframe to an interactive table.\"\n",
              "              style=\"display:none;\">\n",
              "        \n",
              "  <svg xmlns=\"http://www.w3.org/2000/svg\" height=\"24px\"viewBox=\"0 0 24 24\"\n",
              "       width=\"24px\">\n",
              "    <path d=\"M0 0h24v24H0V0z\" fill=\"none\"/>\n",
              "    <path d=\"M18.56 5.44l.94 2.06.94-2.06 2.06-.94-2.06-.94-.94-2.06-.94 2.06-2.06.94zm-11 1L8.5 8.5l.94-2.06 2.06-.94-2.06-.94L8.5 2.5l-.94 2.06-2.06.94zm10 10l.94 2.06.94-2.06 2.06-.94-2.06-.94-.94-2.06-.94 2.06-2.06.94z\"/><path d=\"M17.41 7.96l-1.37-1.37c-.4-.4-.92-.59-1.43-.59-.52 0-1.04.2-1.43.59L10.3 9.45l-7.72 7.72c-.78.78-.78 2.05 0 2.83L4 21.41c.39.39.9.59 1.41.59.51 0 1.02-.2 1.41-.59l7.78-7.78 2.81-2.81c.8-.78.8-2.07 0-2.86zM5.41 20L4 18.59l7.72-7.72 1.47 1.35L5.41 20z\"/>\n",
              "  </svg>\n",
              "      </button>\n",
              "      \n",
              "  <style>\n",
              "    .colab-df-container {\n",
              "      display:flex;\n",
              "      flex-wrap:wrap;\n",
              "      gap: 12px;\n",
              "    }\n",
              "\n",
              "    .colab-df-convert {\n",
              "      background-color: #E8F0FE;\n",
              "      border: none;\n",
              "      border-radius: 50%;\n",
              "      cursor: pointer;\n",
              "      display: none;\n",
              "      fill: #1967D2;\n",
              "      height: 32px;\n",
              "      padding: 0 0 0 0;\n",
              "      width: 32px;\n",
              "    }\n",
              "\n",
              "    .colab-df-convert:hover {\n",
              "      background-color: #E2EBFA;\n",
              "      box-shadow: 0px 1px 2px rgba(60, 64, 67, 0.3), 0px 1px 3px 1px rgba(60, 64, 67, 0.15);\n",
              "      fill: #174EA6;\n",
              "    }\n",
              "\n",
              "    [theme=dark] .colab-df-convert {\n",
              "      background-color: #3B4455;\n",
              "      fill: #D2E3FC;\n",
              "    }\n",
              "\n",
              "    [theme=dark] .colab-df-convert:hover {\n",
              "      background-color: #434B5C;\n",
              "      box-shadow: 0px 1px 3px 1px rgba(0, 0, 0, 0.15);\n",
              "      filter: drop-shadow(0px 1px 2px rgba(0, 0, 0, 0.3));\n",
              "      fill: #FFFFFF;\n",
              "    }\n",
              "  </style>\n",
              "\n",
              "      <script>\n",
              "        const buttonEl =\n",
              "          document.querySelector('#df-3989bcad-8e87-4cc9-bae2-107ea845303e button.colab-df-convert');\n",
              "        buttonEl.style.display =\n",
              "          google.colab.kernel.accessAllowed ? 'block' : 'none';\n",
              "\n",
              "        async function convertToInteractive(key) {\n",
              "          const element = document.querySelector('#df-3989bcad-8e87-4cc9-bae2-107ea845303e');\n",
              "          const dataTable =\n",
              "            await google.colab.kernel.invokeFunction('convertToInteractive',\n",
              "                                                     [key], {});\n",
              "          if (!dataTable) return;\n",
              "\n",
              "          const docLinkHtml = 'Like what you see? Visit the ' +\n",
              "            '<a target=\"_blank\" href=https://colab.research.google.com/notebooks/data_table.ipynb>data table notebook</a>'\n",
              "            + ' to learn more about interactive tables.';\n",
              "          element.innerHTML = '';\n",
              "          dataTable['output_type'] = 'display_data';\n",
              "          await google.colab.output.renderOutput(dataTable, element);\n",
              "          const docLink = document.createElement('div');\n",
              "          docLink.innerHTML = docLinkHtml;\n",
              "          element.appendChild(docLink);\n",
              "        }\n",
              "      </script>\n",
              "    </div>\n",
              "  </div>\n",
              "  "
            ]
          },
          "metadata": {},
          "execution_count": 2
        }
      ]
    },
    {
      "cell_type": "markdown",
      "source": [
        "filter the results"
      ],
      "metadata": {
        "id": "yhbFr0ZEXjea"
      }
    },
    {
      "cell_type": "code",
      "source": [
        "ar_ap1 = ar_ap.copy()\n",
        "itemsets = ar_ap1['itemsets']\n",
        "itemsets_new = []\n",
        "for i in itemsets:\n",
        "  itemsets_new.append(i[11:-2].split(','))\n",
        "ar_ap1['itemsets'] = itemsets_new"
      ],
      "metadata": {
        "id": "HfkgvHGsVkM1"
      },
      "execution_count": null,
      "outputs": []
    },
    {
      "cell_type": "code",
      "source": [
        "ar_ap1['length'] = ar_ap1['itemsets'].apply(lambda x: len(x))\n",
        "ar_ap1 = ar_ap1[ ar_ap1['length'] == 2]\n",
        "print(ar_ap1.shape[0])\n",
        "ar_ap1"
      ],
      "metadata": {
        "colab": {
          "base_uri": "https://localhost:8080/",
          "height": 412
        },
        "id": "xh9szhIcYxZ4",
        "outputId": "bb54df95-b488-4f77-f090-151270469f1c"
      },
      "execution_count": null,
      "outputs": [
        {
          "output_type": "stream",
          "name": "stdout",
          "text": [
            "11\n"
          ]
        },
        {
          "output_type": "execute_result",
          "data": {
            "text/plain": [
              "      support                 itemsets  length\n",
              "693  0.001383  [706016001,  706016003]       2\n",
              "694  0.001430  [918292001,  856270002]       2\n",
              "695  0.001708  [918292004,  868823007]       2\n",
              "696  0.001238  [868823008,  918292001]       2\n",
              "697  0.001101  [918835001,  896169002]       2\n",
              "698  0.001767  [918836001,  896169002]       2\n",
              "699  0.001344  [909911001,  909912001]       2\n",
              "700  0.001532  [944506001,  909924002]       2\n",
              "701  0.001218  [915526001,  915526002]       2\n",
              "702  0.001191  [915529001,  915529003]       2\n",
              "703  0.001532  [935892001,  936622001]       2"
            ],
            "text/html": [
              "\n",
              "  <div id=\"df-5552b1c9-d4f6-4343-9a8b-6edb4543f057\">\n",
              "    <div class=\"colab-df-container\">\n",
              "      <div>\n",
              "<style scoped>\n",
              "    .dataframe tbody tr th:only-of-type {\n",
              "        vertical-align: middle;\n",
              "    }\n",
              "\n",
              "    .dataframe tbody tr th {\n",
              "        vertical-align: top;\n",
              "    }\n",
              "\n",
              "    .dataframe thead th {\n",
              "        text-align: right;\n",
              "    }\n",
              "</style>\n",
              "<table border=\"1\" class=\"dataframe\">\n",
              "  <thead>\n",
              "    <tr style=\"text-align: right;\">\n",
              "      <th></th>\n",
              "      <th>support</th>\n",
              "      <th>itemsets</th>\n",
              "      <th>length</th>\n",
              "    </tr>\n",
              "  </thead>\n",
              "  <tbody>\n",
              "    <tr>\n",
              "      <th>693</th>\n",
              "      <td>0.001383</td>\n",
              "      <td>[706016001,  706016003]</td>\n",
              "      <td>2</td>\n",
              "    </tr>\n",
              "    <tr>\n",
              "      <th>694</th>\n",
              "      <td>0.001430</td>\n",
              "      <td>[918292001,  856270002]</td>\n",
              "      <td>2</td>\n",
              "    </tr>\n",
              "    <tr>\n",
              "      <th>695</th>\n",
              "      <td>0.001708</td>\n",
              "      <td>[918292004,  868823007]</td>\n",
              "      <td>2</td>\n",
              "    </tr>\n",
              "    <tr>\n",
              "      <th>696</th>\n",
              "      <td>0.001238</td>\n",
              "      <td>[868823008,  918292001]</td>\n",
              "      <td>2</td>\n",
              "    </tr>\n",
              "    <tr>\n",
              "      <th>697</th>\n",
              "      <td>0.001101</td>\n",
              "      <td>[918835001,  896169002]</td>\n",
              "      <td>2</td>\n",
              "    </tr>\n",
              "    <tr>\n",
              "      <th>698</th>\n",
              "      <td>0.001767</td>\n",
              "      <td>[918836001,  896169002]</td>\n",
              "      <td>2</td>\n",
              "    </tr>\n",
              "    <tr>\n",
              "      <th>699</th>\n",
              "      <td>0.001344</td>\n",
              "      <td>[909911001,  909912001]</td>\n",
              "      <td>2</td>\n",
              "    </tr>\n",
              "    <tr>\n",
              "      <th>700</th>\n",
              "      <td>0.001532</td>\n",
              "      <td>[944506001,  909924002]</td>\n",
              "      <td>2</td>\n",
              "    </tr>\n",
              "    <tr>\n",
              "      <th>701</th>\n",
              "      <td>0.001218</td>\n",
              "      <td>[915526001,  915526002]</td>\n",
              "      <td>2</td>\n",
              "    </tr>\n",
              "    <tr>\n",
              "      <th>702</th>\n",
              "      <td>0.001191</td>\n",
              "      <td>[915529001,  915529003]</td>\n",
              "      <td>2</td>\n",
              "    </tr>\n",
              "    <tr>\n",
              "      <th>703</th>\n",
              "      <td>0.001532</td>\n",
              "      <td>[935892001,  936622001]</td>\n",
              "      <td>2</td>\n",
              "    </tr>\n",
              "  </tbody>\n",
              "</table>\n",
              "</div>\n",
              "      <button class=\"colab-df-convert\" onclick=\"convertToInteractive('df-5552b1c9-d4f6-4343-9a8b-6edb4543f057')\"\n",
              "              title=\"Convert this dataframe to an interactive table.\"\n",
              "              style=\"display:none;\">\n",
              "        \n",
              "  <svg xmlns=\"http://www.w3.org/2000/svg\" height=\"24px\"viewBox=\"0 0 24 24\"\n",
              "       width=\"24px\">\n",
              "    <path d=\"M0 0h24v24H0V0z\" fill=\"none\"/>\n",
              "    <path d=\"M18.56 5.44l.94 2.06.94-2.06 2.06-.94-2.06-.94-.94-2.06-.94 2.06-2.06.94zm-11 1L8.5 8.5l.94-2.06 2.06-.94-2.06-.94L8.5 2.5l-.94 2.06-2.06.94zm10 10l.94 2.06.94-2.06 2.06-.94-2.06-.94-.94-2.06-.94 2.06-2.06.94z\"/><path d=\"M17.41 7.96l-1.37-1.37c-.4-.4-.92-.59-1.43-.59-.52 0-1.04.2-1.43.59L10.3 9.45l-7.72 7.72c-.78.78-.78 2.05 0 2.83L4 21.41c.39.39.9.59 1.41.59.51 0 1.02-.2 1.41-.59l7.78-7.78 2.81-2.81c.8-.78.8-2.07 0-2.86zM5.41 20L4 18.59l7.72-7.72 1.47 1.35L5.41 20z\"/>\n",
              "  </svg>\n",
              "      </button>\n",
              "      \n",
              "  <style>\n",
              "    .colab-df-container {\n",
              "      display:flex;\n",
              "      flex-wrap:wrap;\n",
              "      gap: 12px;\n",
              "    }\n",
              "\n",
              "    .colab-df-convert {\n",
              "      background-color: #E8F0FE;\n",
              "      border: none;\n",
              "      border-radius: 50%;\n",
              "      cursor: pointer;\n",
              "      display: none;\n",
              "      fill: #1967D2;\n",
              "      height: 32px;\n",
              "      padding: 0 0 0 0;\n",
              "      width: 32px;\n",
              "    }\n",
              "\n",
              "    .colab-df-convert:hover {\n",
              "      background-color: #E2EBFA;\n",
              "      box-shadow: 0px 1px 2px rgba(60, 64, 67, 0.3), 0px 1px 3px 1px rgba(60, 64, 67, 0.15);\n",
              "      fill: #174EA6;\n",
              "    }\n",
              "\n",
              "    [theme=dark] .colab-df-convert {\n",
              "      background-color: #3B4455;\n",
              "      fill: #D2E3FC;\n",
              "    }\n",
              "\n",
              "    [theme=dark] .colab-df-convert:hover {\n",
              "      background-color: #434B5C;\n",
              "      box-shadow: 0px 1px 3px 1px rgba(0, 0, 0, 0.15);\n",
              "      filter: drop-shadow(0px 1px 2px rgba(0, 0, 0, 0.3));\n",
              "      fill: #FFFFFF;\n",
              "    }\n",
              "  </style>\n",
              "\n",
              "      <script>\n",
              "        const buttonEl =\n",
              "          document.querySelector('#df-5552b1c9-d4f6-4343-9a8b-6edb4543f057 button.colab-df-convert');\n",
              "        buttonEl.style.display =\n",
              "          google.colab.kernel.accessAllowed ? 'block' : 'none';\n",
              "\n",
              "        async function convertToInteractive(key) {\n",
              "          const element = document.querySelector('#df-5552b1c9-d4f6-4343-9a8b-6edb4543f057');\n",
              "          const dataTable =\n",
              "            await google.colab.kernel.invokeFunction('convertToInteractive',\n",
              "                                                     [key], {});\n",
              "          if (!dataTable) return;\n",
              "\n",
              "          const docLinkHtml = 'Like what you see? Visit the ' +\n",
              "            '<a target=\"_blank\" href=https://colab.research.google.com/notebooks/data_table.ipynb>data table notebook</a>'\n",
              "            + ' to learn more about interactive tables.';\n",
              "          element.innerHTML = '';\n",
              "          dataTable['output_type'] = 'display_data';\n",
              "          await google.colab.output.renderOutput(dataTable, element);\n",
              "          const docLink = document.createElement('div');\n",
              "          docLink.innerHTML = docLinkHtml;\n",
              "          element.appendChild(docLink);\n",
              "        }\n",
              "      </script>\n",
              "    </div>\n",
              "  </div>\n",
              "  "
            ]
          },
          "metadata": {},
          "execution_count": 6
        }
      ]
    },
    {
      "cell_type": "markdown",
      "source": [
        "Write a function to find items bought together given the target item"
      ],
      "metadata": {
        "id": "GY5Wc0H6j4iC"
      }
    },
    {
      "cell_type": "code",
      "source": [
        "ref_map = defaultdict(list)\n",
        "for _, row in ar_ap1.iterrows():\n",
        "  item1 = row[1][0].strip()\n",
        "  item2 = row[1][1].strip()\n",
        "  ref_map[item1].append(item2)\n",
        "  ref_map[item2].append(item1)\n",
        "\n",
        "def bought_together(item, ref):\n",
        "  if item in ref:\n",
        "    return ref[item]"
      ],
      "metadata": {
        "id": "pBTqf7IDj36J"
      },
      "execution_count": null,
      "outputs": []
    },
    {
      "cell_type": "code",
      "source": [
        "bought_together('936622001', ref_map)"
      ],
      "metadata": {
        "colab": {
          "base_uri": "https://localhost:8080/"
        },
        "id": "BkuN3Y-gliQX",
        "outputId": "5aa2686f-2db8-4151-900f-8957c91649cf"
      },
      "execution_count": null,
      "outputs": [
        {
          "output_type": "execute_result",
          "data": {
            "text/plain": [
              "['935892001']"
            ]
          },
          "metadata": {},
          "execution_count": 21
        }
      ]
    },
    {
      "cell_type": "markdown",
      "source": [
        "# popular items under user's attributes"
      ],
      "metadata": {
        "id": "Je0nEoUuvN-w"
      }
    },
    {
      "cell_type": "markdown",
      "source": [
        "This part requires combination with user demographic information "
      ],
      "metadata": {
        "id": "bF5lSzd7v0eR"
      }
    },
    {
      "cell_type": "code",
      "source": [
        "! kaggle competitions download -c h-and-m-personalized-fashion-recommendations -f customers.csv"
      ],
      "metadata": {
        "colab": {
          "base_uri": "https://localhost:8080/"
        },
        "id": "_5c9V4h-zaO5",
        "outputId": "b32c644e-58de-452a-ce53-688c4df7a6e0"
      },
      "execution_count": null,
      "outputs": [
        {
          "output_type": "stream",
          "name": "stdout",
          "text": [
            "Downloading customers.csv.zip to /content\n",
            " 91% 89.0M/97.9M [00:02<00:00, 47.6MB/s]\n",
            "100% 97.9M/97.9M [00:02<00:00, 47.3MB/s]\n"
          ]
        }
      ]
    },
    {
      "cell_type": "code",
      "source": [
        "customers_df = pd.read_csv('/content/customers.csv.zip')\n",
        "customers_df.head()"
      ],
      "metadata": {
        "colab": {
          "base_uri": "https://localhost:8080/",
          "height": 206
        },
        "id": "TeTADb9qznhP",
        "outputId": "903f7c76-d236-4a6a-c39c-5585b8960061"
      },
      "execution_count": null,
      "outputs": [
        {
          "output_type": "execute_result",
          "data": {
            "text/plain": [
              "                                         customer_id   FN  Active  \\\n",
              "0  00000dbacae5abe5e23885899a1fa44253a17956c6d1c3...  NaN     NaN   \n",
              "1  0000423b00ade91418cceaf3b26c6af3dd342b51fd051e...  NaN     NaN   \n",
              "2  000058a12d5b43e67d225668fa1f8d618c13dc232df0ca...  NaN     NaN   \n",
              "3  00005ca1c9ed5f5146b52ac8639a40ca9d57aeff4d1bd2...  NaN     NaN   \n",
              "4  00006413d8573cd20ed7128e53b7b13819fe5cfc2d801f...  1.0     1.0   \n",
              "\n",
              "  club_member_status fashion_news_frequency   age  \\\n",
              "0             ACTIVE                   NONE  49.0   \n",
              "1             ACTIVE                   NONE  25.0   \n",
              "2             ACTIVE                   NONE  24.0   \n",
              "3             ACTIVE                   NONE  54.0   \n",
              "4             ACTIVE              Regularly  52.0   \n",
              "\n",
              "                                         postal_code  \n",
              "0  52043ee2162cf5aa7ee79974281641c6f11a68d276429a...  \n",
              "1  2973abc54daa8a5f8ccfe9362140c63247c5eee03f1d93...  \n",
              "2  64f17e6a330a85798e4998f62d0930d14db8db1c054af6...  \n",
              "3  5d36574f52495e81f019b680c843c443bd343d5ca5b1c2...  \n",
              "4  25fa5ddee9aac01b35208d01736e57942317d756b32ddd...  "
            ],
            "text/html": [
              "\n",
              "  <div id=\"df-173643d7-9324-44f4-b737-658bdd2dbd69\">\n",
              "    <div class=\"colab-df-container\">\n",
              "      <div>\n",
              "<style scoped>\n",
              "    .dataframe tbody tr th:only-of-type {\n",
              "        vertical-align: middle;\n",
              "    }\n",
              "\n",
              "    .dataframe tbody tr th {\n",
              "        vertical-align: top;\n",
              "    }\n",
              "\n",
              "    .dataframe thead th {\n",
              "        text-align: right;\n",
              "    }\n",
              "</style>\n",
              "<table border=\"1\" class=\"dataframe\">\n",
              "  <thead>\n",
              "    <tr style=\"text-align: right;\">\n",
              "      <th></th>\n",
              "      <th>customer_id</th>\n",
              "      <th>FN</th>\n",
              "      <th>Active</th>\n",
              "      <th>club_member_status</th>\n",
              "      <th>fashion_news_frequency</th>\n",
              "      <th>age</th>\n",
              "      <th>postal_code</th>\n",
              "    </tr>\n",
              "  </thead>\n",
              "  <tbody>\n",
              "    <tr>\n",
              "      <th>0</th>\n",
              "      <td>00000dbacae5abe5e23885899a1fa44253a17956c6d1c3...</td>\n",
              "      <td>NaN</td>\n",
              "      <td>NaN</td>\n",
              "      <td>ACTIVE</td>\n",
              "      <td>NONE</td>\n",
              "      <td>49.0</td>\n",
              "      <td>52043ee2162cf5aa7ee79974281641c6f11a68d276429a...</td>\n",
              "    </tr>\n",
              "    <tr>\n",
              "      <th>1</th>\n",
              "      <td>0000423b00ade91418cceaf3b26c6af3dd342b51fd051e...</td>\n",
              "      <td>NaN</td>\n",
              "      <td>NaN</td>\n",
              "      <td>ACTIVE</td>\n",
              "      <td>NONE</td>\n",
              "      <td>25.0</td>\n",
              "      <td>2973abc54daa8a5f8ccfe9362140c63247c5eee03f1d93...</td>\n",
              "    </tr>\n",
              "    <tr>\n",
              "      <th>2</th>\n",
              "      <td>000058a12d5b43e67d225668fa1f8d618c13dc232df0ca...</td>\n",
              "      <td>NaN</td>\n",
              "      <td>NaN</td>\n",
              "      <td>ACTIVE</td>\n",
              "      <td>NONE</td>\n",
              "      <td>24.0</td>\n",
              "      <td>64f17e6a330a85798e4998f62d0930d14db8db1c054af6...</td>\n",
              "    </tr>\n",
              "    <tr>\n",
              "      <th>3</th>\n",
              "      <td>00005ca1c9ed5f5146b52ac8639a40ca9d57aeff4d1bd2...</td>\n",
              "      <td>NaN</td>\n",
              "      <td>NaN</td>\n",
              "      <td>ACTIVE</td>\n",
              "      <td>NONE</td>\n",
              "      <td>54.0</td>\n",
              "      <td>5d36574f52495e81f019b680c843c443bd343d5ca5b1c2...</td>\n",
              "    </tr>\n",
              "    <tr>\n",
              "      <th>4</th>\n",
              "      <td>00006413d8573cd20ed7128e53b7b13819fe5cfc2d801f...</td>\n",
              "      <td>1.0</td>\n",
              "      <td>1.0</td>\n",
              "      <td>ACTIVE</td>\n",
              "      <td>Regularly</td>\n",
              "      <td>52.0</td>\n",
              "      <td>25fa5ddee9aac01b35208d01736e57942317d756b32ddd...</td>\n",
              "    </tr>\n",
              "  </tbody>\n",
              "</table>\n",
              "</div>\n",
              "      <button class=\"colab-df-convert\" onclick=\"convertToInteractive('df-173643d7-9324-44f4-b737-658bdd2dbd69')\"\n",
              "              title=\"Convert this dataframe to an interactive table.\"\n",
              "              style=\"display:none;\">\n",
              "        \n",
              "  <svg xmlns=\"http://www.w3.org/2000/svg\" height=\"24px\"viewBox=\"0 0 24 24\"\n",
              "       width=\"24px\">\n",
              "    <path d=\"M0 0h24v24H0V0z\" fill=\"none\"/>\n",
              "    <path d=\"M18.56 5.44l.94 2.06.94-2.06 2.06-.94-2.06-.94-.94-2.06-.94 2.06-2.06.94zm-11 1L8.5 8.5l.94-2.06 2.06-.94-2.06-.94L8.5 2.5l-.94 2.06-2.06.94zm10 10l.94 2.06.94-2.06 2.06-.94-2.06-.94-.94-2.06-.94 2.06-2.06.94z\"/><path d=\"M17.41 7.96l-1.37-1.37c-.4-.4-.92-.59-1.43-.59-.52 0-1.04.2-1.43.59L10.3 9.45l-7.72 7.72c-.78.78-.78 2.05 0 2.83L4 21.41c.39.39.9.59 1.41.59.51 0 1.02-.2 1.41-.59l7.78-7.78 2.81-2.81c.8-.78.8-2.07 0-2.86zM5.41 20L4 18.59l7.72-7.72 1.47 1.35L5.41 20z\"/>\n",
              "  </svg>\n",
              "      </button>\n",
              "      \n",
              "  <style>\n",
              "    .colab-df-container {\n",
              "      display:flex;\n",
              "      flex-wrap:wrap;\n",
              "      gap: 12px;\n",
              "    }\n",
              "\n",
              "    .colab-df-convert {\n",
              "      background-color: #E8F0FE;\n",
              "      border: none;\n",
              "      border-radius: 50%;\n",
              "      cursor: pointer;\n",
              "      display: none;\n",
              "      fill: #1967D2;\n",
              "      height: 32px;\n",
              "      padding: 0 0 0 0;\n",
              "      width: 32px;\n",
              "    }\n",
              "\n",
              "    .colab-df-convert:hover {\n",
              "      background-color: #E2EBFA;\n",
              "      box-shadow: 0px 1px 2px rgba(60, 64, 67, 0.3), 0px 1px 3px 1px rgba(60, 64, 67, 0.15);\n",
              "      fill: #174EA6;\n",
              "    }\n",
              "\n",
              "    [theme=dark] .colab-df-convert {\n",
              "      background-color: #3B4455;\n",
              "      fill: #D2E3FC;\n",
              "    }\n",
              "\n",
              "    [theme=dark] .colab-df-convert:hover {\n",
              "      background-color: #434B5C;\n",
              "      box-shadow: 0px 1px 3px 1px rgba(0, 0, 0, 0.15);\n",
              "      filter: drop-shadow(0px 1px 2px rgba(0, 0, 0, 0.3));\n",
              "      fill: #FFFFFF;\n",
              "    }\n",
              "  </style>\n",
              "\n",
              "      <script>\n",
              "        const buttonEl =\n",
              "          document.querySelector('#df-173643d7-9324-44f4-b737-658bdd2dbd69 button.colab-df-convert');\n",
              "        buttonEl.style.display =\n",
              "          google.colab.kernel.accessAllowed ? 'block' : 'none';\n",
              "\n",
              "        async function convertToInteractive(key) {\n",
              "          const element = document.querySelector('#df-173643d7-9324-44f4-b737-658bdd2dbd69');\n",
              "          const dataTable =\n",
              "            await google.colab.kernel.invokeFunction('convertToInteractive',\n",
              "                                                     [key], {});\n",
              "          if (!dataTable) return;\n",
              "\n",
              "          const docLinkHtml = 'Like what you see? Visit the ' +\n",
              "            '<a target=\"_blank\" href=https://colab.research.google.com/notebooks/data_table.ipynb>data table notebook</a>'\n",
              "            + ' to learn more about interactive tables.';\n",
              "          element.innerHTML = '';\n",
              "          dataTable['output_type'] = 'display_data';\n",
              "          await google.colab.output.renderOutput(dataTable, element);\n",
              "          const docLink = document.createElement('div');\n",
              "          docLink.innerHTML = docLinkHtml;\n",
              "          element.appendChild(docLink);\n",
              "        }\n",
              "      </script>\n",
              "    </div>\n",
              "  </div>\n",
              "  "
            ]
          },
          "metadata": {},
          "execution_count": 8
        }
      ]
    },
    {
      "cell_type": "markdown",
      "source": [
        "Merge customer info to transaction data"
      ],
      "metadata": {
        "id": "_4KDZjrwz17Q"
      }
    },
    {
      "cell_type": "code",
      "source": [
        "train = pd.merge(customers_df, train, how='right', left_on = 'customer_id', right_on = 'customer_id')\n",
        "val = pd.merge(customers_df, val, how='right', left_on = 'customer_id', right_on = 'customer_id')"
      ],
      "metadata": {
        "id": "Yk14d_dDz1Ht"
      },
      "execution_count": null,
      "outputs": []
    },
    {
      "cell_type": "markdown",
      "source": [
        "fill missing age with mode"
      ],
      "metadata": {
        "id": "s74IQXbS0gub"
      }
    },
    {
      "cell_type": "code",
      "source": [
        "train[\"age\"].fillna(int(stats.mode(train[\"age\"])[0]), inplace = True)"
      ],
      "metadata": {
        "id": "2N3bqrvV0XK5"
      },
      "execution_count": null,
      "outputs": []
    },
    {
      "cell_type": "code",
      "source": [
        "age_cat = pd.cut(train[\"age\"], bins = [0,20,30,40,50,60,100], labels = ['1','2','3','4','5','6'])\n",
        "train['age_cat'] = age_cat"
      ],
      "metadata": {
        "id": "fk5FKUTp1qrF"
      },
      "execution_count": null,
      "outputs": []
    },
    {
      "cell_type": "code",
      "source": [
        "age_cat = pd.cut(val[\"age\"], bins = [0,20,30,40,50,60,100], labels = ['1','2','3','4','5','6'])\n",
        "val['age_cat'] = age_cat"
      ],
      "metadata": {
        "id": "J1RQtUT1nD4l"
      },
      "execution_count": null,
      "outputs": []
    },
    {
      "cell_type": "code",
      "source": [
        "train['age_cat'].value_counts()"
      ],
      "metadata": {
        "id": "5ufUyieavPRJ",
        "colab": {
          "base_uri": "https://localhost:8080/"
        },
        "outputId": "2aee0dd0-68dd-4889-a109-edb69fafeaaf"
      },
      "execution_count": null,
      "outputs": [
        {
          "output_type": "execute_result",
          "data": {
            "text/plain": [
              "2    516516\n",
              "3    195288\n",
              "4    181010\n",
              "5    161962\n",
              "1     80228\n",
              "6     44204\n",
              "Name: age_cat, dtype: int64"
            ]
          },
          "metadata": {},
          "execution_count": 40
        }
      ]
    },
    {
      "cell_type": "code",
      "source": [
        "age_cat_items = train.groupby(['age_cat'])['article_id'].apply(list)"
      ],
      "metadata": {
        "id": "Ss1eVp0U3kD3"
      },
      "execution_count": null,
      "outputs": []
    },
    {
      "cell_type": "code",
      "source": [
        "def user_attribute(age_cat, age_cat_items, n):\n",
        "  most_common_items_of_age_cat = {k:v for k, v in Counter(age_cat_items[age_cat]).most_common()}\n",
        "  return list(most_common_items_of_age_cat.keys())[:(n+1)]"
      ],
      "metadata": {
        "id": "kkIYjEFF3-kO"
      },
      "execution_count": null,
      "outputs": []
    },
    {
      "cell_type": "markdown",
      "source": [
        "# same section_name items"
      ],
      "metadata": {
        "id": "AB5isKzBvS0o"
      }
    },
    {
      "cell_type": "markdown",
      "source": [
        "This part requires combination with user demographic information "
      ],
      "metadata": {
        "id": "FyV6YouvzgG4"
      }
    },
    {
      "cell_type": "code",
      "source": [
        "! kaggle competitions download -c h-and-m-personalized-fashion-recommendations -f articles.csv"
      ],
      "metadata": {
        "colab": {
          "base_uri": "https://localhost:8080/"
        },
        "id": "5-6kXRtMzdZZ",
        "outputId": "ad5244f8-741b-47a2-feb4-4d9142d9c57f"
      },
      "execution_count": null,
      "outputs": [
        {
          "output_type": "stream",
          "name": "stdout",
          "text": [
            "Downloading articles.csv.zip to /content\n",
            "\r  0% 0.00/4.26M [00:00<?, ?B/s]\n",
            "\r100% 4.26M/4.26M [00:00<00:00, 50.1MB/s]\n"
          ]
        }
      ]
    },
    {
      "cell_type": "code",
      "source": [
        "articles_df = pd.read_csv('/content/articles.csv.zip')\n",
        "articles_df.head()"
      ],
      "metadata": {
        "id": "DsDgTIBpvUPr",
        "colab": {
          "base_uri": "https://localhost:8080/",
          "height": 560
        },
        "outputId": "3a6a1635-ca22-42a0-af42-340b0708d3ec"
      },
      "execution_count": null,
      "outputs": [
        {
          "output_type": "execute_result",
          "data": {
            "text/plain": [
              "   article_id  product_code          prod_name  product_type_no  \\\n",
              "0   108775015        108775          Strap top              253   \n",
              "1   108775044        108775          Strap top              253   \n",
              "2   108775051        108775      Strap top (1)              253   \n",
              "3   110065001        110065  OP T-shirt (Idro)              306   \n",
              "4   110065002        110065  OP T-shirt (Idro)              306   \n",
              "\n",
              "  product_type_name  product_group_name  graphical_appearance_no  \\\n",
              "0          Vest top  Garment Upper body                  1010016   \n",
              "1          Vest top  Garment Upper body                  1010016   \n",
              "2          Vest top  Garment Upper body                  1010017   \n",
              "3               Bra           Underwear                  1010016   \n",
              "4               Bra           Underwear                  1010016   \n",
              "\n",
              "  graphical_appearance_name  colour_group_code colour_group_name  ...  \\\n",
              "0                     Solid                  9             Black  ...   \n",
              "1                     Solid                 10             White  ...   \n",
              "2                    Stripe                 11         Off White  ...   \n",
              "3                     Solid                  9             Black  ...   \n",
              "4                     Solid                 10             White  ...   \n",
              "\n",
              "   department_name index_code        index_name index_group_no  \\\n",
              "0     Jersey Basic          A        Ladieswear              1   \n",
              "1     Jersey Basic          A        Ladieswear              1   \n",
              "2     Jersey Basic          A        Ladieswear              1   \n",
              "3   Clean Lingerie          B  Lingeries/Tights              1   \n",
              "4   Clean Lingerie          B  Lingeries/Tights              1   \n",
              "\n",
              "   index_group_name section_no            section_name garment_group_no  \\\n",
              "0        Ladieswear         16  Womens Everyday Basics             1002   \n",
              "1        Ladieswear         16  Womens Everyday Basics             1002   \n",
              "2        Ladieswear         16  Womens Everyday Basics             1002   \n",
              "3        Ladieswear         61         Womens Lingerie             1017   \n",
              "4        Ladieswear         61         Womens Lingerie             1017   \n",
              "\n",
              "   garment_group_name                                        detail_desc  \n",
              "0        Jersey Basic            Jersey top with narrow shoulder straps.  \n",
              "1        Jersey Basic            Jersey top with narrow shoulder straps.  \n",
              "2        Jersey Basic            Jersey top with narrow shoulder straps.  \n",
              "3   Under-, Nightwear  Microfibre T-shirt bra with underwired, moulde...  \n",
              "4   Under-, Nightwear  Microfibre T-shirt bra with underwired, moulde...  \n",
              "\n",
              "[5 rows x 25 columns]"
            ],
            "text/html": [
              "\n",
              "  <div id=\"df-d00e2b96-c5c7-4bf2-bf83-4d0a25a8d39e\">\n",
              "    <div class=\"colab-df-container\">\n",
              "      <div>\n",
              "<style scoped>\n",
              "    .dataframe tbody tr th:only-of-type {\n",
              "        vertical-align: middle;\n",
              "    }\n",
              "\n",
              "    .dataframe tbody tr th {\n",
              "        vertical-align: top;\n",
              "    }\n",
              "\n",
              "    .dataframe thead th {\n",
              "        text-align: right;\n",
              "    }\n",
              "</style>\n",
              "<table border=\"1\" class=\"dataframe\">\n",
              "  <thead>\n",
              "    <tr style=\"text-align: right;\">\n",
              "      <th></th>\n",
              "      <th>article_id</th>\n",
              "      <th>product_code</th>\n",
              "      <th>prod_name</th>\n",
              "      <th>product_type_no</th>\n",
              "      <th>product_type_name</th>\n",
              "      <th>product_group_name</th>\n",
              "      <th>graphical_appearance_no</th>\n",
              "      <th>graphical_appearance_name</th>\n",
              "      <th>colour_group_code</th>\n",
              "      <th>colour_group_name</th>\n",
              "      <th>...</th>\n",
              "      <th>department_name</th>\n",
              "      <th>index_code</th>\n",
              "      <th>index_name</th>\n",
              "      <th>index_group_no</th>\n",
              "      <th>index_group_name</th>\n",
              "      <th>section_no</th>\n",
              "      <th>section_name</th>\n",
              "      <th>garment_group_no</th>\n",
              "      <th>garment_group_name</th>\n",
              "      <th>detail_desc</th>\n",
              "    </tr>\n",
              "  </thead>\n",
              "  <tbody>\n",
              "    <tr>\n",
              "      <th>0</th>\n",
              "      <td>108775015</td>\n",
              "      <td>108775</td>\n",
              "      <td>Strap top</td>\n",
              "      <td>253</td>\n",
              "      <td>Vest top</td>\n",
              "      <td>Garment Upper body</td>\n",
              "      <td>1010016</td>\n",
              "      <td>Solid</td>\n",
              "      <td>9</td>\n",
              "      <td>Black</td>\n",
              "      <td>...</td>\n",
              "      <td>Jersey Basic</td>\n",
              "      <td>A</td>\n",
              "      <td>Ladieswear</td>\n",
              "      <td>1</td>\n",
              "      <td>Ladieswear</td>\n",
              "      <td>16</td>\n",
              "      <td>Womens Everyday Basics</td>\n",
              "      <td>1002</td>\n",
              "      <td>Jersey Basic</td>\n",
              "      <td>Jersey top with narrow shoulder straps.</td>\n",
              "    </tr>\n",
              "    <tr>\n",
              "      <th>1</th>\n",
              "      <td>108775044</td>\n",
              "      <td>108775</td>\n",
              "      <td>Strap top</td>\n",
              "      <td>253</td>\n",
              "      <td>Vest top</td>\n",
              "      <td>Garment Upper body</td>\n",
              "      <td>1010016</td>\n",
              "      <td>Solid</td>\n",
              "      <td>10</td>\n",
              "      <td>White</td>\n",
              "      <td>...</td>\n",
              "      <td>Jersey Basic</td>\n",
              "      <td>A</td>\n",
              "      <td>Ladieswear</td>\n",
              "      <td>1</td>\n",
              "      <td>Ladieswear</td>\n",
              "      <td>16</td>\n",
              "      <td>Womens Everyday Basics</td>\n",
              "      <td>1002</td>\n",
              "      <td>Jersey Basic</td>\n",
              "      <td>Jersey top with narrow shoulder straps.</td>\n",
              "    </tr>\n",
              "    <tr>\n",
              "      <th>2</th>\n",
              "      <td>108775051</td>\n",
              "      <td>108775</td>\n",
              "      <td>Strap top (1)</td>\n",
              "      <td>253</td>\n",
              "      <td>Vest top</td>\n",
              "      <td>Garment Upper body</td>\n",
              "      <td>1010017</td>\n",
              "      <td>Stripe</td>\n",
              "      <td>11</td>\n",
              "      <td>Off White</td>\n",
              "      <td>...</td>\n",
              "      <td>Jersey Basic</td>\n",
              "      <td>A</td>\n",
              "      <td>Ladieswear</td>\n",
              "      <td>1</td>\n",
              "      <td>Ladieswear</td>\n",
              "      <td>16</td>\n",
              "      <td>Womens Everyday Basics</td>\n",
              "      <td>1002</td>\n",
              "      <td>Jersey Basic</td>\n",
              "      <td>Jersey top with narrow shoulder straps.</td>\n",
              "    </tr>\n",
              "    <tr>\n",
              "      <th>3</th>\n",
              "      <td>110065001</td>\n",
              "      <td>110065</td>\n",
              "      <td>OP T-shirt (Idro)</td>\n",
              "      <td>306</td>\n",
              "      <td>Bra</td>\n",
              "      <td>Underwear</td>\n",
              "      <td>1010016</td>\n",
              "      <td>Solid</td>\n",
              "      <td>9</td>\n",
              "      <td>Black</td>\n",
              "      <td>...</td>\n",
              "      <td>Clean Lingerie</td>\n",
              "      <td>B</td>\n",
              "      <td>Lingeries/Tights</td>\n",
              "      <td>1</td>\n",
              "      <td>Ladieswear</td>\n",
              "      <td>61</td>\n",
              "      <td>Womens Lingerie</td>\n",
              "      <td>1017</td>\n",
              "      <td>Under-, Nightwear</td>\n",
              "      <td>Microfibre T-shirt bra with underwired, moulde...</td>\n",
              "    </tr>\n",
              "    <tr>\n",
              "      <th>4</th>\n",
              "      <td>110065002</td>\n",
              "      <td>110065</td>\n",
              "      <td>OP T-shirt (Idro)</td>\n",
              "      <td>306</td>\n",
              "      <td>Bra</td>\n",
              "      <td>Underwear</td>\n",
              "      <td>1010016</td>\n",
              "      <td>Solid</td>\n",
              "      <td>10</td>\n",
              "      <td>White</td>\n",
              "      <td>...</td>\n",
              "      <td>Clean Lingerie</td>\n",
              "      <td>B</td>\n",
              "      <td>Lingeries/Tights</td>\n",
              "      <td>1</td>\n",
              "      <td>Ladieswear</td>\n",
              "      <td>61</td>\n",
              "      <td>Womens Lingerie</td>\n",
              "      <td>1017</td>\n",
              "      <td>Under-, Nightwear</td>\n",
              "      <td>Microfibre T-shirt bra with underwired, moulde...</td>\n",
              "    </tr>\n",
              "  </tbody>\n",
              "</table>\n",
              "<p>5 rows × 25 columns</p>\n",
              "</div>\n",
              "      <button class=\"colab-df-convert\" onclick=\"convertToInteractive('df-d00e2b96-c5c7-4bf2-bf83-4d0a25a8d39e')\"\n",
              "              title=\"Convert this dataframe to an interactive table.\"\n",
              "              style=\"display:none;\">\n",
              "        \n",
              "  <svg xmlns=\"http://www.w3.org/2000/svg\" height=\"24px\"viewBox=\"0 0 24 24\"\n",
              "       width=\"24px\">\n",
              "    <path d=\"M0 0h24v24H0V0z\" fill=\"none\"/>\n",
              "    <path d=\"M18.56 5.44l.94 2.06.94-2.06 2.06-.94-2.06-.94-.94-2.06-.94 2.06-2.06.94zm-11 1L8.5 8.5l.94-2.06 2.06-.94-2.06-.94L8.5 2.5l-.94 2.06-2.06.94zm10 10l.94 2.06.94-2.06 2.06-.94-2.06-.94-.94-2.06-.94 2.06-2.06.94z\"/><path d=\"M17.41 7.96l-1.37-1.37c-.4-.4-.92-.59-1.43-.59-.52 0-1.04.2-1.43.59L10.3 9.45l-7.72 7.72c-.78.78-.78 2.05 0 2.83L4 21.41c.39.39.9.59 1.41.59.51 0 1.02-.2 1.41-.59l7.78-7.78 2.81-2.81c.8-.78.8-2.07 0-2.86zM5.41 20L4 18.59l7.72-7.72 1.47 1.35L5.41 20z\"/>\n",
              "  </svg>\n",
              "      </button>\n",
              "      \n",
              "  <style>\n",
              "    .colab-df-container {\n",
              "      display:flex;\n",
              "      flex-wrap:wrap;\n",
              "      gap: 12px;\n",
              "    }\n",
              "\n",
              "    .colab-df-convert {\n",
              "      background-color: #E8F0FE;\n",
              "      border: none;\n",
              "      border-radius: 50%;\n",
              "      cursor: pointer;\n",
              "      display: none;\n",
              "      fill: #1967D2;\n",
              "      height: 32px;\n",
              "      padding: 0 0 0 0;\n",
              "      width: 32px;\n",
              "    }\n",
              "\n",
              "    .colab-df-convert:hover {\n",
              "      background-color: #E2EBFA;\n",
              "      box-shadow: 0px 1px 2px rgba(60, 64, 67, 0.3), 0px 1px 3px 1px rgba(60, 64, 67, 0.15);\n",
              "      fill: #174EA6;\n",
              "    }\n",
              "\n",
              "    [theme=dark] .colab-df-convert {\n",
              "      background-color: #3B4455;\n",
              "      fill: #D2E3FC;\n",
              "    }\n",
              "\n",
              "    [theme=dark] .colab-df-convert:hover {\n",
              "      background-color: #434B5C;\n",
              "      box-shadow: 0px 1px 3px 1px rgba(0, 0, 0, 0.15);\n",
              "      filter: drop-shadow(0px 1px 2px rgba(0, 0, 0, 0.3));\n",
              "      fill: #FFFFFF;\n",
              "    }\n",
              "  </style>\n",
              "\n",
              "      <script>\n",
              "        const buttonEl =\n",
              "          document.querySelector('#df-d00e2b96-c5c7-4bf2-bf83-4d0a25a8d39e button.colab-df-convert');\n",
              "        buttonEl.style.display =\n",
              "          google.colab.kernel.accessAllowed ? 'block' : 'none';\n",
              "\n",
              "        async function convertToInteractive(key) {\n",
              "          const element = document.querySelector('#df-d00e2b96-c5c7-4bf2-bf83-4d0a25a8d39e');\n",
              "          const dataTable =\n",
              "            await google.colab.kernel.invokeFunction('convertToInteractive',\n",
              "                                                     [key], {});\n",
              "          if (!dataTable) return;\n",
              "\n",
              "          const docLinkHtml = 'Like what you see? Visit the ' +\n",
              "            '<a target=\"_blank\" href=https://colab.research.google.com/notebooks/data_table.ipynb>data table notebook</a>'\n",
              "            + ' to learn more about interactive tables.';\n",
              "          element.innerHTML = '';\n",
              "          dataTable['output_type'] = 'display_data';\n",
              "          await google.colab.output.renderOutput(dataTable, element);\n",
              "          const docLink = document.createElement('div');\n",
              "          docLink.innerHTML = docLinkHtml;\n",
              "          element.appendChild(docLink);\n",
              "        }\n",
              "      </script>\n",
              "    </div>\n",
              "  </div>\n",
              "  "
            ]
          },
          "metadata": {},
          "execution_count": 61
        }
      ]
    },
    {
      "cell_type": "code",
      "source": [
        "articles_df['section_name'].value_counts()"
      ],
      "metadata": {
        "colab": {
          "base_uri": "https://localhost:8080/"
        },
        "id": "akU5NJJz56Er",
        "outputId": "04fa3f2c-a745-44ce-e7cb-77eff9c4d420"
      },
      "execution_count": null,
      "outputs": [
        {
          "output_type": "execute_result",
          "data": {
            "text/plain": [
              "Womens Everyday Collection        7295\n",
              "Divided Collection                7124\n",
              "Baby Essentials & Complements     4932\n",
              "Kids Girl                         4469\n",
              "Young Girl                        3899\n",
              "Womens Lingerie                   3598\n",
              "Girls Underwear & Basics          3490\n",
              "Womens Tailoring                  3376\n",
              "Kids Boy                          3328\n",
              "Womens Small accessories          3270\n",
              "Womens Casual                     2725\n",
              "Kids Outerwear                    2665\n",
              "Womens Trend                      2622\n",
              "Divided Projects                  2364\n",
              "Young Boy                         2352\n",
              "H&M+                              2337\n",
              "Men Underwear                     2322\n",
              "Mama                              2266\n",
              "Kids & Baby Shoes                 2142\n",
              "Boys Underwear & Basics           2034\n",
              "Womens Shoes                      2026\n",
              "Ladies H&M Sport                  1894\n",
              "Womens Swimwear, beachwear        1839\n",
              "Contemporary Smart                1778\n",
              "Baby Girl                         1760\n",
              "Divided Accessories               1732\n",
              "Kids Accessories, Swimwear & D    1731\n",
              "Divided Basics                    1723\n",
              "Baby Boy                          1717\n",
              "Womens Big accessories            1665\n",
              "Womens Everyday Basics            1581\n",
              "Womens Nightwear, Socks & Tigh    1566\n",
              "Contemporary Casual               1560\n",
              "Contemporary Street               1490\n",
              "Men Suits & Tailoring             1428\n",
              "Men Accessories                   1337\n",
              "Womens Premium                    1270\n",
              "Ladies Denim                      1101\n",
              "Divided Selected                   991\n",
              "Men H&M Sport                      872\n",
              "Womens Jackets                     829\n",
              "Special Collections                682\n",
              "Men Shoes                          645\n",
              "Mens Outerwear                     629\n",
              "Kids Sports                        626\n",
              "Collaborations                     559\n",
              "Denim Men                          521\n",
              "Men Edition                        330\n",
              "Men Project                        298\n",
              "Divided Asia keys                  280\n",
              "Kids Local Relevance               192\n",
              "Men Other 2                        190\n",
              "Divided Complements Other           35\n",
              "EQ Divided                          26\n",
              "Men Other                           25\n",
              "Ladies Other                         4\n",
              "Name: section_name, dtype: int64"
            ]
          },
          "metadata": {},
          "execution_count": 68
        }
      ]
    },
    {
      "cell_type": "code",
      "source": [
        "train = pd.merge(articles_df[['article_id','section_name']], train, how='right', left_on = 'article_id', right_on = 'article_id')\n",
        "val = pd.merge(articles_df[['article_id','section_name']], val, how='right', left_on = 'article_id', right_on = 'article_id')"
      ],
      "metadata": {
        "id": "RugYSTXs61J8"
      },
      "execution_count": null,
      "outputs": []
    },
    {
      "cell_type": "code",
      "source": [
        "section_items = train.groupby(['section_name'])['article_id'].apply(list) "
      ],
      "metadata": {
        "id": "22ERWQ8D7mMi"
      },
      "execution_count": null,
      "outputs": []
    },
    {
      "cell_type": "code",
      "source": [
        "def same_section_items(section, section_items, n):\n",
        "  most_common_items_of_section = {k:v for k, v in Counter(section_items[section]).most_common()}\n",
        "  return list(most_common_items_of_section.keys())[:(n+1)]"
      ],
      "metadata": {
        "id": "EgWj6gEJ7kIO"
      },
      "execution_count": null,
      "outputs": []
    },
    {
      "cell_type": "markdown",
      "source": [
        "# Embedding"
      ],
      "metadata": {
        "id": "cYhwiGG3wP2x"
      }
    },
    {
      "cell_type": "markdown",
      "source": [
        "Item embedding is generated with each transaction information (order of item purchased) and pyspark 'word2vec' function\n",
        "\n",
        "User embedding is the average of his/her purchased item embeddings"
      ],
      "metadata": {
        "id": "9jxLtsLSbWAJ"
      }
    },
    {
      "cell_type": "code",
      "source": [
        "! pip install -q gensim"
      ],
      "metadata": {
        "id": "Lo5ALKGQe8wh"
      },
      "execution_count": null,
      "outputs": []
    },
    {
      "cell_type": "code",
      "source": [
        "from gensim.test.utils import common_texts\n",
        "from gensim.models import Word2Vec\n",
        "model = Word2Vec(sentences=common_texts, vector_size=100, window=5, min_count=1, workers=4)"
      ],
      "metadata": {
        "colab": {
          "base_uri": "https://localhost:8080/",
          "height": 201
        },
        "id": "JEKGc9PMEyAr",
        "outputId": "4d7b55fe-40a0-4101-a3d4-c70017b5ecd4"
      },
      "execution_count": 55,
      "outputs": [
        {
          "output_type": "error",
          "ename": "TypeError",
          "evalue": "ignored",
          "traceback": [
            "\u001b[0;31m---------------------------------------------------------------------------\u001b[0m",
            "\u001b[0;31mTypeError\u001b[0m                                 Traceback (most recent call last)",
            "\u001b[0;32m<ipython-input-55-048a0a1c42e3>\u001b[0m in \u001b[0;36m<module>\u001b[0;34m\u001b[0m\n\u001b[1;32m      1\u001b[0m \u001b[0;32mfrom\u001b[0m \u001b[0mgensim\u001b[0m\u001b[0;34m.\u001b[0m\u001b[0mtest\u001b[0m\u001b[0;34m.\u001b[0m\u001b[0mutils\u001b[0m \u001b[0;32mimport\u001b[0m \u001b[0mcommon_texts\u001b[0m\u001b[0;34m\u001b[0m\u001b[0;34m\u001b[0m\u001b[0m\n\u001b[1;32m      2\u001b[0m \u001b[0;32mfrom\u001b[0m \u001b[0mgensim\u001b[0m\u001b[0;34m.\u001b[0m\u001b[0mmodels\u001b[0m \u001b[0;32mimport\u001b[0m \u001b[0mWord2Vec\u001b[0m\u001b[0;34m\u001b[0m\u001b[0;34m\u001b[0m\u001b[0m\n\u001b[0;32m----> 3\u001b[0;31m \u001b[0mmodel\u001b[0m \u001b[0;34m=\u001b[0m \u001b[0mWord2Vec\u001b[0m\u001b[0;34m(\u001b[0m\u001b[0msentences\u001b[0m\u001b[0;34m=\u001b[0m\u001b[0mcommon_texts\u001b[0m\u001b[0;34m,\u001b[0m \u001b[0mvector_size\u001b[0m\u001b[0;34m=\u001b[0m\u001b[0;36m100\u001b[0m\u001b[0;34m,\u001b[0m \u001b[0mwindow\u001b[0m\u001b[0;34m=\u001b[0m\u001b[0;36m5\u001b[0m\u001b[0;34m,\u001b[0m \u001b[0mmin_count\u001b[0m\u001b[0;34m=\u001b[0m\u001b[0;36m1\u001b[0m\u001b[0;34m,\u001b[0m \u001b[0mworkers\u001b[0m\u001b[0;34m=\u001b[0m\u001b[0;36m4\u001b[0m\u001b[0;34m)\u001b[0m\u001b[0;34m\u001b[0m\u001b[0;34m\u001b[0m\u001b[0m\n\u001b[0m",
            "\u001b[0;31mTypeError\u001b[0m: __init__() got an unexpected keyword argument 'vector_size'"
          ]
        }
      ]
    },
    {
      "cell_type": "code",
      "source": [
        "items_per_user_transaction = train.groupby(['customer_id','t_dat'],group_keys=False)['article_id'].apply(list).reset_index()"
      ],
      "metadata": {
        "id": "D81FPf-YfDq3"
      },
      "execution_count": 47,
      "outputs": []
    },
    {
      "cell_type": "code",
      "source": [
        "items_per_user_transaction = list(items_per_user_transaction['article_id'])"
      ],
      "metadata": {
        "id": "lSn3c0Y6HvPC"
      },
      "execution_count": 52,
      "outputs": []
    },
    {
      "cell_type": "code",
      "source": [
        "model = Word2Vec(sentences=items_per_user_transaction, vector_size=10, window=5, min_count=1, workers=4, sg=1, hs=0, negative=5)"
      ],
      "metadata": {
        "colab": {
          "base_uri": "https://localhost:8080/",
          "height": 166
        },
        "id": "2TvcyjphLiT9",
        "outputId": "bcf933f8-8cc8-4739-88b7-0bb465917288"
      },
      "execution_count": 53,
      "outputs": [
        {
          "output_type": "error",
          "ename": "TypeError",
          "evalue": "ignored",
          "traceback": [
            "\u001b[0;31m---------------------------------------------------------------------------\u001b[0m",
            "\u001b[0;31mTypeError\u001b[0m                                 Traceback (most recent call last)",
            "\u001b[0;32m<ipython-input-53-fecc9f6885ca>\u001b[0m in \u001b[0;36m<module>\u001b[0;34m\u001b[0m\n\u001b[0;32m----> 1\u001b[0;31m \u001b[0mmodel\u001b[0m \u001b[0;34m=\u001b[0m \u001b[0mWord2Vec\u001b[0m\u001b[0;34m(\u001b[0m\u001b[0msentences\u001b[0m\u001b[0;34m=\u001b[0m\u001b[0mitems_per_user_transaction\u001b[0m\u001b[0;34m,\u001b[0m \u001b[0mvector_size\u001b[0m\u001b[0;34m=\u001b[0m\u001b[0;36m10\u001b[0m\u001b[0;34m,\u001b[0m \u001b[0mwindow\u001b[0m\u001b[0;34m=\u001b[0m\u001b[0;36m5\u001b[0m\u001b[0;34m,\u001b[0m \u001b[0mmin_count\u001b[0m\u001b[0;34m=\u001b[0m\u001b[0;36m1\u001b[0m\u001b[0;34m,\u001b[0m \u001b[0mworkers\u001b[0m\u001b[0;34m=\u001b[0m\u001b[0;36m4\u001b[0m\u001b[0;34m,\u001b[0m \u001b[0msg\u001b[0m\u001b[0;34m=\u001b[0m\u001b[0;36m1\u001b[0m\u001b[0;34m,\u001b[0m \u001b[0mhs\u001b[0m\u001b[0;34m=\u001b[0m\u001b[0;36m0\u001b[0m\u001b[0;34m,\u001b[0m \u001b[0mnegative\u001b[0m\u001b[0;34m=\u001b[0m\u001b[0;36m5\u001b[0m\u001b[0;34m)\u001b[0m\u001b[0;34m\u001b[0m\u001b[0;34m\u001b[0m\u001b[0m\n\u001b[0m",
            "\u001b[0;31mTypeError\u001b[0m: __init__() got an unexpected keyword argument 'vector_size'"
          ]
        }
      ]
    },
    {
      "cell_type": "markdown",
      "source": [
        "# Validation"
      ],
      "metadata": {
        "id": "G7wvs4pinKat"
      }
    },
    {
      "cell_type": "markdown",
      "source": [
        "Define evaluation metric: Mean Average Precision @ 12"
      ],
      "metadata": {
        "id": "1yy0h4wq6wrV"
      }
    },
    {
      "cell_type": "code",
      "source": [
        "def apk(actual, predicted, k=12):\n",
        "    if len(predicted)>k:\n",
        "        predicted = predicted[:k]\n",
        "\n",
        "    score = 0.0\n",
        "    num_hits = 0.0\n",
        "\n",
        "    for i,p in enumerate(predicted):\n",
        "        if p in actual and p not in predicted[:i]:\n",
        "            num_hits += 1.0\n",
        "            score += num_hits / (i+1.0)\n",
        "\n",
        "    if not actual:\n",
        "        return 0.0\n",
        "\n",
        "    return score / min(len(actual), k)\n",
        "\n",
        "def mapk(actual, predicted, k=12):\n",
        "    return np.mean([apk(a,p,k) for a,p in zip(actual, predicted)])"
      ],
      "metadata": {
        "id": "iEIGPoZk5uRa"
      },
      "execution_count": null,
      "outputs": []
    },
    {
      "cell_type": "markdown",
      "source": [
        "construct data set with items bought by users in the validation period."
      ],
      "metadata": {
        "id": "iEgKzbUVAmUq"
      }
    },
    {
      "cell_type": "code",
      "source": [
        "positive_items_val = val.groupby(['customer_id'])['article_id'].apply(list)"
      ],
      "metadata": {
        "id": "NT6xLcRtAkZV"
      },
      "execution_count": null,
      "outputs": []
    },
    {
      "cell_type": "code",
      "source": [
        "# creating validation set for metrics use case\n",
        "val_users = positive_items_val.keys()\n",
        "val_items = []\n",
        "\n",
        "for i,user in enumerate(val_users):\n",
        "    val_items.append(positive_items_val[user])\n",
        "    \n",
        "print(\"Total users in validation:\", len(val_users))"
      ],
      "metadata": {
        "colab": {
          "base_uri": "https://localhost:8080/"
        },
        "id": "aSPpisLBAxZ8",
        "outputId": "1654c738-46de-4f44-e34f-087225bf398e"
      },
      "execution_count": null,
      "outputs": [
        {
          "output_type": "stream",
          "name": "stdout",
          "text": [
            "Total users in validation: 68984\n"
          ]
        }
      ]
    },
    {
      "cell_type": "markdown",
      "source": [
        "Test the strategy on validation set"
      ],
      "metadata": {
        "id": "b7RmVEXZFQtM"
      }
    },
    {
      "cell_type": "code",
      "source": [
        "outputs = []\n",
        "cnt = 0\n",
        "\n",
        "popular_items = list(popular_items)\n",
        "\n",
        "for user in tqdm(val_users):\n",
        "    user_output = []\n",
        "    if user in positive_items_per_user1.keys():\n",
        "        most_common_items_of_user = {k:v for k, v in Counter(positive_items_per_user1[user]).most_common()}\n",
        "        user_output += list(most_common_items_of_user.keys())[:12]\n",
        "    if user in positive_items_per_user2.keys():\n",
        "        most_common_items_of_user = {k:v for k, v in Counter(positive_items_per_user2[user]).most_common()}\n",
        "        user_output += list(most_common_items_of_user.keys())[:12]\n",
        "    if user in positive_items_per_user3.keys():\n",
        "        most_common_items_of_user = {k:v for k, v in Counter(positive_items_per_user3[user]).most_common()}\n",
        "        user_output += list(most_common_items_of_user.keys())[:12]\n",
        "    if user in positive_items_per_user4.keys():\n",
        "        most_common_items_of_user = {k:v for k, v in Counter(positive_items_per_user4[user]).most_common()}\n",
        "        user_output += list(most_common_items_of_user.keys())[:12]\n",
        "    \n",
        "    user_output += list(popular_items[:12 - len(user_output)])\n",
        "    outputs.append(user_output)\n",
        "    \n",
        "print(\"mAP Score on Validation set:\", mapk(val_items, outputs))"
      ],
      "metadata": {
        "id": "v_CL3ctLFGjJ",
        "colab": {
          "base_uri": "https://localhost:8080/"
        },
        "outputId": "c76ae82a-711e-4d0f-9e9a-8d02c12ffe3e"
      },
      "execution_count": null,
      "outputs": [
        {
          "output_type": "stream",
          "name": "stderr",
          "text": [
            "100%|██████████| 68984/68984 [00:04<00:00, 15542.77it/s]\n"
          ]
        },
        {
          "output_type": "stream",
          "name": "stdout",
          "text": [
            "mAP Score on Validation set: 0.023448012511813318\n"
          ]
        }
      ]
    }
  ]
}