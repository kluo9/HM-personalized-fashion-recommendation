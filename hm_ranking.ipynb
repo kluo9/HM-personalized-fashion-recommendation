{
  "nbformat": 4,
  "nbformat_minor": 0,
  "metadata": {
    "colab": {
      "provenance": [],
      "authorship_tag": "ABX9TyMlkeEIYa9Hqyh3h1FimITl",
      "include_colab_link": true
    },
    "kernelspec": {
      "name": "python3",
      "display_name": "Python 3"
    },
    "language_info": {
      "name": "python"
    }
  },
  "cells": [
    {
      "cell_type": "markdown",
      "metadata": {
        "id": "view-in-github",
        "colab_type": "text"
      },
      "source": [
        "<a href=\"https://colab.research.google.com/github/kluo9/HM-personalized-fashion-recommendation/blob/main/hm_ranking.ipynb\" target=\"_parent\"><img src=\"https://colab.research.google.com/assets/colab-badge.svg\" alt=\"Open In Colab\"/></a>"
      ]
    },
    {
      "cell_type": "markdown",
      "source": [
        "The purpose of ranking stage is to give rankings of the items recalled based on features from item and customer. \n",
        "\n",
        "The training is achieved with input as features from item and customers, and out = 1/0 based on whether this item is purchased ot not.\n",
        "\n",
        "This becomes a classification problem, and it is very imbalanced since the items with output label 1 is very small compared to 0. So I generate the negative samples (out label = 0) so that the negative sample size is about 30 * the positive (out label = 1) sample size.\n"
      ],
      "metadata": {
        "id": "Gjn7Oabijh09"
      }
    },
    {
      "cell_type": "code",
      "source": [
        "import pandas as pd\n",
        "import numpy as np\n",
        "import pickle"
      ],
      "metadata": {
        "id": "Y7pMe1QFd64v"
      },
      "execution_count": 1,
      "outputs": []
    },
    {
      "cell_type": "code",
      "execution_count": 2,
      "metadata": {
        "colab": {
          "base_uri": "https://localhost:8080/"
        },
        "id": "-ROXLTg_dOgg",
        "outputId": "764da595-2475-4745-98a0-81bd2a4e298c"
      },
      "outputs": [
        {
          "output_type": "stream",
          "name": "stdout",
          "text": [
            "Drive already mounted at /content/gdrive; to attempt to forcibly remount, call drive.mount(\"/content/gdrive\", force_remount=True).\n"
          ]
        }
      ],
      "source": [
        "from google.colab import drive\n",
        "drive.mount('/content/gdrive')"
      ]
    },
    {
      "cell_type": "code",
      "source": [
        "with open(\"/content/gdrive/MyDrive/hm_recommendation/user_GT_vali\", \"rb\") as fp: \n",
        "     user_vali_GT = pickle.load(fp)"
      ],
      "metadata": {
        "id": "Hz3xsXJZd0zC"
      },
      "execution_count": 3,
      "outputs": []
    },
    {
      "cell_type": "code",
      "source": [
        "with open(\"/content/gdrive/MyDrive/hm_recommendation/user_recall_vali\", \"rb\") as fp: \n",
        "     user_vali_recall = pickle.load(fp)"
      ],
      "metadata": {
        "id": "jjUzs7jlezCW"
      },
      "execution_count": 6,
      "outputs": []
    },
    {
      "cell_type": "markdown",
      "source": [
        "# Featue engineering"
      ],
      "metadata": {
        "id": "1Genk5aUk-G6"
      }
    },
    {
      "cell_type": "code",
      "source": [
        "# read item embedding\n",
        "with open(\"/content/gdrive/MyDrive/hm_recommendation/item_embedding\", \"rb\") as fp: \n",
        "     item_embedding = pickle.load(fp)"
      ],
      "metadata": {
        "id": "l-lJE3O4k9a-"
      },
      "execution_count": 10,
      "outputs": []
    }
  ]
}